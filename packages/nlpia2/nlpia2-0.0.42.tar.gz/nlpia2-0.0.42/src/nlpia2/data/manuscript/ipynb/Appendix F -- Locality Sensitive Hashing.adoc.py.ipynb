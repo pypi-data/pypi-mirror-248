{
 "cells": [
  {
   "cell_type": "code",
   "execution_count": null,
   "id": "22b227a6",
   "metadata": {},
   "outputs": [],
   "source": [
    "import pandas as pd\n",
    "import numpy as np\n",
    "from tqdm import tqdm\n",
    "num_vecs = 100000\n",
    "num_radii = 20\n",
    "num_dim_list = [2, 4, 8, 18, 32, 64, 128]\n",
    "radii = np.array(list(range(1, num_radii + 1)))\n",
    "radii = radii / len(radii)\n",
    "counts = np.zeros((len(radii), len(num_dims_list)))\n",
    "rand = np.random.rand\n",
    "for j, num_dims in enumerate(tqdm(num_dim_list)):\n",
    "    x = rand(num_vecs, num_dims)\n",
    "    denom = (1. / np.linalg.norm(x, axis=1))  # <1>\n",
    "    x *= denom.reshape(-1, 1).dot(np.ones((1, x.shape[1])))\n",
    "    for i, r in enumerate(radii):\n",
    "        mask = (-r < x) & (x < r)\n",
    "        counts[i, j] = (mask.sum(axis=1) == mask.shape[1]).sum()\n",
    "df = pd.DataFrame(counts, index=radii, columns=num_dim_list) / num_vecs\n",
    "df = df.round(2)\n",
    "df[df == 0] = ''\n",
    "df\n"
   ]
  }
 ],
 "metadata": {},
 "nbformat": 4,
 "nbformat_minor": 5
}

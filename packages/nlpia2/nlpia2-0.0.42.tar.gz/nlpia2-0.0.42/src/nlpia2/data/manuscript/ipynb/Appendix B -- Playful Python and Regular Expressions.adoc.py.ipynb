{
 "cells": [
  {
   "cell_type": "code",
   "execution_count": null,
   "id": "f1de9e60",
   "metadata": {},
   "outputs": [],
   "source": [
    "import re\n",
    "re.findall(r'Hannes|Hobson|Cole', 'Hobson Lane, Cole Howard, and Hannes Max Hapke')\n",
    "re.findall(r'H|Hobson|Cole', 'Hobson Lane, Cole Howard, and Hannes Max Hapke')\n",
    "import re\n",
    "match = re.match(r'(kitt|dogg)y', \"doggy\")\n",
    "match.group()\n",
    "match.group(0)\n",
    "match.groups()\n",
    "match = re.match(r'((kitt|dogg)(y))', \"doggy\")  # <1>\n",
    "match.groups()\n",
    "match.group(2)\n"
   ]
  }
 ],
 "metadata": {},
 "nbformat": 4,
 "nbformat_minor": 5
}

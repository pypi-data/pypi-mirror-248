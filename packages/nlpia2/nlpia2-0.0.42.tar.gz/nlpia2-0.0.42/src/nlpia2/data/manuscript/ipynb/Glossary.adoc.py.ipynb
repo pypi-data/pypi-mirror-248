{
 "cells": [
  {
   "cell_type": "code",
   "execution_count": null,
   "id": "1d3475c8",
   "metadata": {},
   "outputs": [],
   "source": [
    "from nlpia.book_parser import write_glossary\n",
    "from nlpia.constants import DATA_PATH\n",
    "print(write_glossary(\n",
    "    os.path.join(DATA_PATH, 'book')))  # <1>\n"
   ]
  }
 ],
 "metadata": {},
 "nbformat": 4,
 "nbformat_minor": 5
}

{
 "cells": [
  {
   "cell_type": "markdown",
   "metadata": {},
   "source": [
    "# Minimum Fisher Regularization (MFR) tomography\n"
   ]
  },
  {
   "cell_type": "markdown",
   "metadata": {},
   "source": [
    "## Diffinition\n",
    "\n",
    "MFR was firstly introduced to solve the ill-posedness of the tomography problem for tokamak plasma.\n",
    "The MFR tomography is formulated as a constrained optimization problem:\n",
    "\n",
    "$$\n",
    "\\begin{align}\n",
    "\\min_{\\mathbf{x}} \\quad &  \\left\\| \\mathbf{A} \\mathbf{x} - \\mathbf{b} \\right\\|_2^2\n",
    "    + \\lambda\\cdot \\mathbf{x}^\\mathsf{T} \\mathbf{H} \\mathbf{x}\\\\\n",
    "\\mathbf{H} & = \\sum_{i, j} \\alpha_{i,j} \\mathbf{D}_i^\\mathsf{T} \\mathbf{W} \\mathbf{D}_j\\\\\n",
    "\\mathbf{W} & = \\rm{diag}\n",
    "    \\left(\n",
    "        \\cdots,\\frac{1}{\\max\\left\\{\\mathbf{x}_\\mathit{i}, \\epsilon_0\\right\\}},\\cdots\n",
    "    \\right),\n",
    "\\end{align}\n",
    "$$\n",
    "\n",
    "where $\\mathbf{x}$ is the vector of the unknowns, $\\mathbf{A}$ is the geometry matrix, $\\mathbf{b}$ is the measured data, $\\lambda$ is the regularization parameter, $\\mathbf{H}$ is the regularization matrix, $\\mathbf{D}_{i,j}$ is derivative matrices along the $i$ or $j$ coordinate direction, $\\alpha_{i, j}$ is the anisotropic parameter, $\\mathbf{W}$ is the weight matrix, $\\mathbf{x}_\\mathit{i}$ is the $i$-th element of $\\mathbf{x}$, and $\\epsilon_0$ is a small positive number to avoid division by zero and to push the solution to be positive.\n",
    "\n",
    "The MFR method is the iterative method, and the iteration formula is:\n",
    "\n",
    "1. Put $\\mathbf{x}^{(0)} = \\mathbf{1}$ as the initial guess;\n",
    "2. Compute $\\mathbf{H}^{(k)}$ with $\\mathbf{x}^{(k)}$;\n",
    "3. Solve $\\mathbf{x}^{(k+1)}$ optimizing regularization parameter $\\lambda$ by non-iterative inversion method;\n",
    "\n",
    "the iteration between step 2 and 3 is repeated until the convergence is reached or the maximum iteration number is reached.\n",
    "\n",
    "Several non-iterative inversion methods (e.g. L-curve method) can be used in step 3.\n"
   ]
  },
  {
   "cell_type": "markdown",
   "metadata": {},
   "source": [
    "## Example Tomography Problem\n",
    "\n",
    "As the example tomography problem, we consider the bolometer measurement and use the geometry matrix\n",
    "calculated at `cherab.core` [document](https://www.cherab.info/demonstrations/bolometry/geometry_matrix_with_raytransfer.html#bolometer-geometry-raytransfer).\n"
   ]
  },
  {
   "cell_type": "code",
   "execution_count": null,
   "metadata": {},
   "outputs": [],
   "source": [
    "import pickle\n",
    "from pathlib import Path\n",
    "from pprint import pprint\n",
    "\n",
    "import numpy as np\n",
    "from matplotlib import pyplot as plt\n",
    "from matplotlib.cm import ScalarMappable\n",
    "from matplotlib.colors import Normalize, SymLogNorm\n",
    "from matplotlib.ticker import LogFormatterSciNotation, SymmetricalLogLocator\n",
    "from mpl_toolkits.axes_grid1 import ImageGrid\n",
    "\n",
    "from cherab.inversion import Mfr\n",
    "from cherab.inversion.derivative import compute_dmat\n",
    "from cherab.inversion.tests import __path__ as test_path\n",
    "\n",
    "plt.rcParams[\"figure.dpi\"] = 150\n",
    "TEST_DATA_PATH = Path(test_path[0]) / \"data\""
   ]
  },
  {
   "cell_type": "code",
   "execution_count": null,
   "metadata": {},
   "outputs": [],
   "source": [
    "# Load the results of the cherab.core demo\n",
    "grid_data = np.load(TEST_DATA_PATH / \"raytransfer_grid_data.npz\")\n",
    "\n",
    "# Extract the data\n",
    "grid_centres = grid_data[\"grid_centres\"]\n",
    "voxel_map = grid_data[\"voxel_map\"].squeeze()\n",
    "mask = grid_data[\"mask\"].squeeze()\n",
    "gmat = grid_data[\"sensitivity_matrix\"]\n",
    "\n",
    "# Extract grid limits\n",
    "rmin, rmax = grid_centres[0, 0, 0], grid_centres[-1, 0, 0]\n",
    "zmin, zmax = grid_centres[0, 0, 1], grid_centres[0, -1, 1]\n",
    "\n",
    "print(f\"{grid_centres.shape = }\")\n",
    "print(f\"{voxel_map.shape = }\")\n",
    "print(f\"{mask.shape = }\")\n",
    "print(f\"{gmat.shape = }\")\n",
    "print(f\"gmat density: {np.count_nonzero(gmat) / gmat.size:.2%}\")"
   ]
  },
  {
   "cell_type": "markdown",
   "metadata": {},
   "source": [
    "The geometry matrix density is 8.35% so this problem is known as the sparse problem as well.\n"
   ]
  },
  {
   "cell_type": "markdown",
   "metadata": {},
   "source": [
    "### Show the geometry matrix\n"
   ]
  },
  {
   "cell_type": "code",
   "execution_count": null,
   "metadata": {},
   "outputs": [],
   "source": [
    "sensitivity_2d = np.full(voxel_map.shape, np.nan)\n",
    "sensitivity_2d[mask[:, :]] = gmat.sum(axis=0)\n",
    "\n",
    "fig, ax = plt.subplots()\n",
    "image = ax.imshow(\n",
    "    sensitivity_2d.T,\n",
    "    origin=\"lower\",\n",
    "    cmap=\"Reds\",\n",
    "    extent=(rmin, rmax, zmin, zmax),\n",
    ")\n",
    "cbar = plt.colorbar(image)\n",
    "cbar.set_label(\"m$^3\\\\cdot$str\")\n",
    "ax.set_title(\"Geomtery matrix\")\n",
    "ax.set_xlabel(\"r\")\n",
    "ax.set_ylabel(\"z\");"
   ]
  },
  {
   "cell_type": "markdown",
   "metadata": {},
   "source": [
    "### Define phantom emission profile\n",
    "\n",
    "As the test emission profile, we define the following phantom emission profile which is used in the `cherab.core`\n",
    "[document](https://www.cherab.info/demonstrations/bolometry/inversion_with_raytransfer.html#bolometer-raytransfer-inversion) as well.\n"
   ]
  },
  {
   "cell_type": "code",
   "execution_count": null,
   "metadata": {},
   "outputs": [],
   "source": [
    "PLASMA_AXIS = np.array([1.5, 1.5])\n",
    "LCFS_RADIUS = 1\n",
    "RING_RADIUS = 0.5\n",
    "\n",
    "RADIATION_PEAK = 1\n",
    "CENTRE_PEAK_WIDTH = 0.05\n",
    "RING_WIDTH = 0.025\n",
    "\n",
    "\n",
    "def emission_function_2d(rz_point: np.ndarray) -> float:\n",
    "    direction = rz_point - PLASMA_AXIS\n",
    "    bearing = np.arctan2(direction[1], direction[0])\n",
    "\n",
    "    # calculate radius of coordinate from magnetic axis\n",
    "    radius_from_axis = np.hypot(*direction)\n",
    "    closest_ring_point = PLASMA_AXIS + (0.5 * direction / radius_from_axis)\n",
    "    radius_from_ring = np.hypot(*(rz_point - closest_ring_point))\n",
    "\n",
    "    # evaluate pedestal-> core function\n",
    "    if radius_from_axis <= LCFS_RADIUS:\n",
    "        central_radiatior = RADIATION_PEAK * np.exp(-(radius_from_axis**2) / CENTRE_PEAK_WIDTH)\n",
    "\n",
    "        ring_radiator = (\n",
    "            RADIATION_PEAK * np.cos(bearing) * np.exp(-(radius_from_ring**2) / RING_WIDTH)\n",
    "        )\n",
    "        ring_radiator = max(0, ring_radiator)\n",
    "\n",
    "        return central_radiatior + ring_radiator\n",
    "    else:\n",
    "        return 0\n",
    "\n",
    "\n",
    "# Create a phantom vector\n",
    "phantom = np.zeros(gmat.shape[1])\n",
    "for i in range(phantom.shape[0]):\n",
    "    (row,), (col,) = np.where(voxel_map == i)\n",
    "    phantom[i] = emission_function_2d(grid_centres[row, col])\n",
    "\n",
    "# Create a 2D phantom\n",
    "phantom_2d = np.full(voxel_map.shape, np.nan)\n",
    "phantom_2d[mask[:, :]] = phantom"
   ]
  },
  {
   "cell_type": "code",
   "execution_count": null,
   "metadata": {},
   "outputs": [],
   "source": [
    "fig, ax = plt.subplots()\n",
    "image = ax.imshow(\n",
    "    phantom_2d.T,\n",
    "    origin=\"lower\",\n",
    "    cmap=\"Reds\",\n",
    "    extent=(rmin, rmax, zmin, zmax),\n",
    ")\n",
    "cbar = plt.colorbar(image)\n",
    "cbar.set_label(\"W/m$^3$\")\n",
    "ax.set_title(\"Phantom emissivity\")\n",
    "ax.set_xlabel(\"r\")\n",
    "ax.set_ylabel(\"z\");"
   ]
  },
  {
   "cell_type": "markdown",
   "metadata": {},
   "source": [
    "### Compute the measurement data\n",
    "\n",
    "The bolometer measurement data should be calculated by the ray-tracing method, however, we generate\n",
    "the measurement data by the multiplication of the geometry matrix and the phantom profile.\n",
    "As the noise, we add the Gaussian noise with the standard deviation of 1% of the maximum value of the\n",
    "measurement data.\n"
   ]
  },
  {
   "cell_type": "code",
   "execution_count": null,
   "metadata": {},
   "outputs": [],
   "source": [
    "gmat /= 4.0 * np.pi  # devided by 4pi str to use with power measurements in [W]"
   ]
  },
  {
   "cell_type": "code",
   "execution_count": null,
   "metadata": {},
   "outputs": [],
   "source": [
    "data = gmat @ phantom\n",
    "\n",
    "rng = np.random.default_rng()\n",
    "data_w_noise = data + rng.normal(0, data.max() * 1.0e-2, data.size)"
   ]
  },
  {
   "cell_type": "code",
   "execution_count": null,
   "metadata": {},
   "outputs": [],
   "source": [
    "plt.plot(data, label=\"w/o noise\")\n",
    "plt.plot(data_w_noise, \"--\", label=\"w/ noise\")\n",
    "plt.legend()\n",
    "plt.xlabel(\"channel of bolometers\")\n",
    "plt.ylabel(\"Power [W]\");"
   ]
  },
  {
   "cell_type": "markdown",
   "metadata": {},
   "source": [
    "## MFR Tomography\n"
   ]
  },
  {
   "cell_type": "markdown",
   "metadata": {},
   "source": [
    "### Prepare for the MFR tomography\n",
    "\n",
    "Before do the MFR tomography, we need to create derivative matrices. Here $\\mathbf{H}$ is defined as follows:\n",
    "\n",
    "$$\n",
    "\\mathbf{H} \\equiv \\mathbf{D}_r^\\mathsf{T} \\mathbf{W} \\mathbf{D}_r\n",
    "    + \\mathbf{D}_z^\\mathsf{T} \\mathbf{W} \\mathbf{D}_z\n",
    "$$\n",
    "\n",
    "where $\\mathbf{D}_r$ and $\\mathbf{D}_z$ are derivative matrices along the $r$ and $z$ coordinate direction, respectively.\n"
   ]
  },
  {
   "cell_type": "code",
   "execution_count": null,
   "metadata": {},
   "outputs": [],
   "source": [
    "dmat_r = compute_dmat(voxel_map, kernel_type=\"r\")\n",
    "dmat_z = compute_dmat(voxel_map, kernel_type=\"z\")\n",
    "\n",
    "dmat_pair = [(dmat_r, dmat_r), (dmat_z, dmat_z)]\n",
    "pprint(dmat_pair)"
   ]
  },
  {
   "cell_type": "markdown",
   "metadata": {},
   "source": [
    "Some parameters are defined as follows:\n"
   ]
  },
  {
   "cell_type": "code",
   "execution_count": null,
   "metadata": {},
   "outputs": [],
   "source": [
    "num_mfi = 4  # number of MFR iterations\n",
    "eps = 1e-6  # minimum of solution\n",
    "bounds = (-40, -10)  # bounds of log10 of regularization parameter\n",
    "tol = 1e-2  # tolerance of MFR iteration"
   ]
  },
  {
   "cell_type": "markdown",
   "metadata": {},
   "source": [
    "### MFR tomographic reconstruction\n",
    "\n",
    "Let us do the MFR tomography. `cherab.inversion` offers the `Mfr` class and simple `solve` method.\n",
    "The `store_regularizers` parameter of the `solve` method is used to store the regularizer object\n",
    "like `Lcurve` instance at each MFR iteration.\n"
   ]
  },
  {
   "cell_type": "code",
   "execution_count": null,
   "metadata": {},
   "outputs": [],
   "source": [
    "mfr = Mfr(gmat, dmat_pair, data_w_noise)\n",
    "sol, stats = mfr.solve(\n",
    "    miter=num_mfi, eps=eps, bounds=bounds, tol=tol, store_regularizers=True, use_gpu=False\n",
    ")"
   ]
  },
  {
   "cell_type": "markdown",
   "metadata": {},
   "source": [
    "## Evaluate the tomographic reconstruction\n"
   ]
  },
  {
   "cell_type": "markdown",
   "metadata": {},
   "source": [
    "### Compare the tomographic reconstruction with the phantom profile\n"
   ]
  },
  {
   "cell_type": "code",
   "execution_count": null,
   "metadata": {
    "tags": [
     "nbsphinx-thumbnail"
    ]
   },
   "outputs": [],
   "source": [
    "vmin = min(sol.min(), phantom.min())\n",
    "vmax = max(sol.max(), phantom.max())\n",
    "\n",
    "fig = plt.figure(figsize=(10, 5))\n",
    "grids = ImageGrid(fig, 111, nrows_ncols=(1, 2), axes_pad=0.05, cbar_mode=\"single\")\n",
    "norm = Normalize(vmin=vmin, vmax=vmax)\n",
    "for ax, value, label in zip(grids, [phantom, sol], [\"Phantom\", \"Reconstruction\"], strict=True):\n",
    "    image = np.full(voxel_map.shape, np.nan)\n",
    "    image[mask[:, :]] = value\n",
    "\n",
    "    ax.imshow(\n",
    "        image.T,\n",
    "        origin=\"lower\",\n",
    "        cmap=\"Reds\",\n",
    "        extent=(rmin, rmax, zmin, zmax),\n",
    "        norm=norm,\n",
    "    )\n",
    "    ax.set_title(label)\n",
    "    ax.set_xlabel(\"r\")\n",
    "\n",
    "grids[0].set_ylabel(\"z\")\n",
    "mappable = ScalarMappable(cmap=\"Reds\", norm=norm)\n",
    "cbar = plt.colorbar(mappable, cax=grids.cbar_axes[0])\n",
    "cbar.set_label(\"Emissivity [W/m$^3$]\");"
   ]
  },
  {
   "cell_type": "code",
   "execution_count": null,
   "metadata": {},
   "outputs": [],
   "source": [
    "print(\n",
    "    f\"The relative error of both emissivities is {np.linalg.norm(sol - phantom) / np.linalg.norm(phantom):.2%}\"\n",
    ")"
   ]
  },
  {
   "cell_type": "markdown",
   "metadata": {},
   "source": [
    "### The iteration history\n",
    "\n",
    "Let us see the each iteration solution. To clarify the negative values, we plot solutions with the\n",
    "logarithmic scale.\n"
   ]
  },
  {
   "cell_type": "code",
   "execution_count": null,
   "metadata": {},
   "outputs": [],
   "source": [
    "# Stored regularizer files\n",
    "reg_files = list(Path().cwd().glob(\"regularizer_*.pickle\"))\n",
    "reg_files = sorted(reg_files, key=lambda x: int(x.stem.split(\"_\")[-1]))\n",
    "\n",
    "# Load each solutions\n",
    "sols = []\n",
    "for file in reg_files:\n",
    "    with open(file, \"rb\") as f:\n",
    "        reg = pickle.load(f)\n",
    "\n",
    "    sols.append(reg.inverted_solution(reg.lambda_opt))\n",
    "\n",
    "\n",
    "# set vmin and vmax for all solutions\n",
    "vmin = min(sol.min() for sol in sols)\n",
    "vmax = max(sol.max() for sol in sols)\n",
    "\n",
    "\n",
    "# Plot the solutions\n",
    "fig = plt.figure(figsize=(10, 5))\n",
    "grids = ImageGrid(\n",
    "    fig,\n",
    "    111,\n",
    "    nrows_ncols=(1, len(sols)),\n",
    "    axes_pad=0.05,\n",
    "    cbar_mode=\"single\",\n",
    "    cbar_location=\"right\",\n",
    ")\n",
    "\n",
    "absolute = max(abs(vmax), abs(vmin))\n",
    "linear_width = 1e-1  # linear region width\n",
    "norm = SymLogNorm(linthresh=linear_width, vmin=-1 * absolute, vmax=absolute)\n",
    "i = 0\n",
    "for ax, sol in zip(grids, sols, strict=True):\n",
    "    sol_2d = np.full(voxel_map.shape, np.nan)\n",
    "    sol_2d[mask[:, :]] = sol\n",
    "\n",
    "    ax.imshow(\n",
    "        sol_2d.T,\n",
    "        origin=\"lower\",\n",
    "        cmap=\"bwr\",\n",
    "        extent=(rmin, rmax, zmin, zmax),\n",
    "        norm=norm,\n",
    "    )\n",
    "    ax.set_title(f\"{i}. MFR iteration\")\n",
    "    ax.set_xlabel(\"r\")\n",
    "    i += 1\n",
    "\n",
    "grids[0].set_ylabel(\"z\")\n",
    "mappable = ScalarMappable(norm=norm, cmap=\"bwr\")\n",
    "cbar = plt.colorbar(mappable, cax=grids.cbar_axes[0])\n",
    "cbar.set_label(\"Emissivity [W/m$^3$]\")\n",
    "fmt = LogFormatterSciNotation(linthresh=linear_width)\n",
    "major_locator = SymmetricalLogLocator(linthresh=linear_width, base=10)\n",
    "minor_locator = SymmetricalLogLocator(\n",
    "    linthresh=linear_width, base=10, subs=tuple(np.arange(0.1, 1.0, 0.1))\n",
    ")\n",
    "cbar.ax.yaxis.set_offset_position(\"left\")\n",
    "cbar.ax.yaxis.set_major_formatter(fmt)\n",
    "cbar.ax.yaxis.set_major_locator(major_locator)\n",
    "cbar.ax.yaxis.set_minor_locator(minor_locator);"
   ]
  },
  {
   "cell_type": "markdown",
   "metadata": {},
   "source": [
    "### L-curve and its curvature plot\n"
   ]
  },
  {
   "cell_type": "code",
   "execution_count": null,
   "metadata": {},
   "outputs": [],
   "source": [
    "lcurve = stats[\"regularizer\"]\n",
    "bounds = (-30, -20)\n",
    "fig, axes = plt.subplots(1, 2, dpi=150, figsize=(9, 4), constrained_layout=True)\n",
    "lcurve.plot_L_curve(fig, axes[0], bounds=bounds)\n",
    "lcurve.plot_curvature(fig, axes[1], bounds=bounds);"
   ]
  },
  {
   "cell_type": "markdown",
   "metadata": {},
   "source": [
    "### Compare the measurement powers"
   ]
  },
  {
   "cell_type": "code",
   "execution_count": null,
   "metadata": {},
   "outputs": [],
   "source": [
    "back_calculated_measurements = gmat @ sols[-1]\n",
    "\n",
    "plt.plot(data, label=\"Matrix-based measurements\")\n",
    "plt.plot(back_calculated_measurements, linestyle=\"--\", label=\"Back-calculated from inversion\")\n",
    "plt.legend()\n",
    "plt.xlabel(\"channel of bolometers\")\n",
    "plt.ylabel(\"Power [W]\");"
   ]
  },
  {
   "cell_type": "markdown",
   "metadata": {},
   "source": [
    "The measured power power calculated by multiplying the geomtery matrix by the emission vector and the back-calculated power calculated by multiplying the geometry matrix by the inverted emissivity are all in good agreement\n"
   ]
  },
  {
   "cell_type": "code",
   "execution_count": null,
   "metadata": {},
   "outputs": [],
   "source": [
    "print(\n",
    "    f\"The relative error of power measurements is {np.linalg.norm(data - back_calculated_measurements) / np.linalg.norm(data):.2%}\"\n",
    ")"
   ]
  }
 ],
 "metadata": {
  "kernelspec": {
   "display_name": "cherab-inv-dev",
   "language": "python",
   "name": "python3"
  },
  "language_info": {
   "codemirror_mode": {
    "name": "ipython",
    "version": 3
   },
   "file_extension": ".py",
   "mimetype": "text/x-python",
   "name": "python",
   "nbconvert_exporter": "python",
   "pygments_lexer": "ipython3",
   "version": "3.11.6"
  }
 },
 "nbformat": 4,
 "nbformat_minor": 2
}

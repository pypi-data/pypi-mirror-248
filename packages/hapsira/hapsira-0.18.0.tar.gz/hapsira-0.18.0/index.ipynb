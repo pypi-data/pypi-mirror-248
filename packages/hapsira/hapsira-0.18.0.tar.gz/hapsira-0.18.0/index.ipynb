{
 "cells": [
  {
   "cell_type": "markdown",
   "metadata": {},
   "source": [
    "# Gallery of examples\n",
    "\n",
    "![logo_text.png](docs/source/examples/logo_text.png)\n",
    "\n",
    "Here you can browse a gallery of examples using hapsira in the form of Jupyter notebooks."
   ]
  },
  {
   "cell_type": "markdown",
   "metadata": {},
   "source": [
    "## [Comparing Hohmann and bielliptic transfers](docs/source/examples/comparing%2dhohmann%2dand%2dbielliptic%2dtransfers.mystnb.md)\n",
    "\n",
    "[![hohmann_bielliptic](docs/source/examples/hohmann_bielliptic.png)](docs/source/examples/comparing%2dhohmann%2dand%2dbielliptic%2dtransfers.mystnb.md)\n",
    "\n",
    "## [Exploring the New Horizons launch](docs/source/examples/exploring%2dthe%2dnew%2dhorizons%2dlaunch.mystnb.md)\n",
    "\n",
    "[![new_horizons](docs/source/examples/new_horizons.png)](docs/source/examples/exploring%2dthe%2dnew%2dhorizons%2dlaunch.mystnb.md)\n",
    "\n",
    "## [Going to Jupiter with Python using Jupyter and poliastro](docs/source/examples/going%2dto%2djupiter%2dwith%2dpython%2dusing%2djupyter%2dand%2dpoliastro.mystnb.md)\n",
    "\n",
    "[![mars](docs/source/examples/jupiter.png)](docs/source/examples/going%2dto%2djupiter%2dwith%2dpython%2dusing%2djupyter%2dand%2dpoliastro.mystnb.md)\n",
    "\n",
    "## [Going to Mars with Python using poliastro](docs/source/examples/going%2dto%2dmars%2dwith%2dpython%2dusing%2dpoliastro.mystnb.md)\n",
    "\n",
    "[![mars](docs/source/examples/trans_30_260.png)](docs/source/examples/going%2dto%2dmars%2dwith%2dpython%2dusing%2dpoliastro.mystnb.md)\n",
    "\n",
    "## [Propagation using Cowell's formulation](docs/source/examples/propagation%2dusing%2dcowells%2dformulation.mystnb.md)\n",
    "\n",
    "[![cowell](docs/source/examples/cowell.png)](docs/source/examples/propagation%2dusing%2dcowells%2dformulation.mystnb.md)\n",
    "\n",
    "## [Revisiting Lambert's problem in Python](docs/source/examples/revisiting%2dlamberts%2dproblem%2din%2dpython.mystnb.md)\n",
    "\n",
    "[![cowell](docs/source/examples/lambert.png)](docs/source/examples/revisiting%2dlamberts%2dproblem%2din%2dpython.mystnb.md)\n",
    "\n",
    "## [Studying Hohmann transfers](docs/source/examples/studying%2dhohmann%2dtransfers.mystnb.md)\n",
    "\n",
    "[![hohmann](docs/source/examples/hohmann.png)](docs/source/examples/studying%2dhohmann%2dtransfers.mystnb.md)\n",
    "\n",
    "## [Catch that asteroid!](docs/source/examples/catch%2dthat%2dasteroid!.mystnb.md)\n",
    "\n",
    "[![Florence](docs/source/examples/florence.png)](docs/source/examples/catch%2dthat%2dasteroid.mystnb.md   )\n",
    "\n",
    "## [Analyzing NEOs](docs/source/examples/analyzing%2dNEOs.mystnb.md)\n",
    "\n",
    "[![NEOS](docs/source/examples/neos.png)](docs/source/examples/analyzing%2dNEOs.mystnb.md)\n",
    "\n",
    "## [Plotting in 3D](docs/source/examples/plotting%2din%2d3D.mystnb.md)\n",
    "\n",
    "[![3DPlot](docs/source/examples/3DPlot.png)](docs/source/examples/plotting%2din%2d3D.mystnb.md)\n",
    "\n",
    "## [Visualizing the SpaceX Tesla Roadster trip to Mars](docs/source/examples/visualizing%2dthe%2dspacex%2dtesla%2droadster%2dtrip%2dto%2dmars.mystnb.md)\n",
    "\n",
    "[![3DPlot](docs/source/examples/tesla.png)](docs/source/examples/visualizing%2dthe%2dspacex%2dtesla%2droadster%2dtrip%2dto%2dmars.mystnb.md)"
   ]
  },
  {
   "cell_type": "markdown",
   "metadata": {},
   "source": [
    "## Old notebooks\n",
    "\n",
    "These notebooks are based on old versions of poliastro and cannot be run with current ones. They are kept here for historical purposes.\n",
    "\n",
    "* https://github.com/poliastro/poliastro/blob/c361af5/examples/Solving%20Lambert's%20problem%20in%20Python.ipynb\n",
    "* https://github.com/poliastro/poliastro/blob/9e71402/examples/Quickly%20solving%20Kepler's%20Problem%20in%20Python%20using%20numba.ipynb"
   ]
  }
 ],
 "metadata": {
  "kernelspec": {
   "display_name": "Python 3",
   "language": "python",
   "name": "python3"
  },
  "language_info": {
   "codemirror_mode": {
    "name": "ipython",
    "version": 3
   },
   "file_extension": ".py",
   "mimetype": "text/x-python",
   "name": "python",
   "nbconvert_exporter": "python",
   "pygments_lexer": "ipython3",
   "version": "3.8.6"
  }
 },
 "nbformat": 4,
 "nbformat_minor": 2
}

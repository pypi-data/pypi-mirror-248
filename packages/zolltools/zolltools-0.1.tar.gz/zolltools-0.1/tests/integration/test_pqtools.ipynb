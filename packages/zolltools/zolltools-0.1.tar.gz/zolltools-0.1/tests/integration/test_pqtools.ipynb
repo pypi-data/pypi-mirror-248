{
 "cells": [
  {
   "cell_type": "code",
   "execution_count": null,
   "metadata": {},
   "outputs": [],
   "source": [
    "# Import packages\n",
    "\n",
    "from pathlib import Path\n",
    "from zolltools.db import pqtools as pqt"
   ]
  },
  {
   "cell_type": "code",
   "execution_count": null,
   "metadata": {},
   "outputs": [],
   "source": [
    "# Set up config, reader, and writer\n",
    "\n",
    "data_dir = Path.cwd().joinpath(\"test_pqtools\")\n",
    "pq_config = pqt.ParquetManager.Config(data_dir)\n",
    "pq_reader = pqt.Reader(pq_config)\n",
    "pq_writer = pqt.Writer(pq_config)"
   ]
  },
  {
   "cell_type": "code",
   "execution_count": null,
   "metadata": {},
   "outputs": [],
   "source": [
    "# Create temporary table\n",
    "\n",
    "temporary_table_name = \"uncategorized-assault\"\n",
    "einjury01 = next(pq_reader.get_reader(\"einjury_01ref\", tmp=False))\n",
    "uncategorized_assault = einjury01[einjury01[\"DiagnosisCodeDescr\"]==\"Assault by other specified means\"]\n",
    "pq_writer.save(uncategorized_assault, temporary_table_name)"
   ]
  },
  {
   "cell_type": "code",
   "execution_count": null,
   "metadata": {},
   "outputs": [],
   "source": [
    "# Load temporary table\n",
    "\n",
    "loaded_table = next(pq_reader.get_reader(temporary_table_name, tmp=True))\n",
    "loaded_table.info()"
   ]
  },
  {
   "cell_type": "code",
   "execution_count": null,
   "metadata": {},
   "outputs": [],
   "source": [
    "# Delete temporary table\n",
    "\n",
    "pq_writer.remove(temporary_table_name)\n",
    "tmp_dir = data_dir.joinpath(\"tmp\")\n",
    "tmp_dir.rmdir()"
   ]
  }
 ],
 "metadata": {
  "kernelspec": {
   "display_name": ".venv",
   "language": "python",
   "name": "python3"
  },
  "language_info": {
   "codemirror_mode": {
    "name": "ipython",
    "version": 3
   },
   "file_extension": ".py",
   "mimetype": "text/x-python",
   "name": "python",
   "nbconvert_exporter": "python",
   "pygments_lexer": "ipython3",
   "version": "3.10.0"
  }
 },
 "nbformat": 4,
 "nbformat_minor": 2
}

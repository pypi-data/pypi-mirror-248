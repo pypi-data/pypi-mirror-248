{
 "cells": [
  {
   "cell_type": "code",
   "execution_count": null,
   "metadata": {},
   "outputs": [],
   "source": [
    "# Import and setup\n",
    "\n",
    "import os\n",
    "import shutil\n",
    "from pathlib import Path\n",
    "from zolltools.nemsis import locationcodes"
   ]
  },
  {
   "cell_type": "code",
   "execution_count": null,
   "metadata": {},
   "outputs": [],
   "source": [
    "# Create temporary setup\n",
    "\n",
    "storage_dir = Path().cwd().joinpath(locationcodes.STORAGE_FOLDER_NAME)\n",
    "storage_dir.mkdir()\n",
    "temp_file_name = \"suggested.json\"\n",
    "test_data_file_path = Path().cwd().joinpath(\"test_locationcodes\", temp_file_name)\n",
    "temp_data_file_path = storage_dir.joinpath(temp_file_name)\n",
    "_ = shutil.copy(test_data_file_path, temp_data_file_path)"
   ]
  },
  {
   "cell_type": "code",
   "execution_count": null,
   "metadata": {},
   "outputs": [],
   "source": [
    "# Get the grouping and confirm validity\n",
    "\n",
    "suggested_categorization = locationcodes.get_categorization(\"suggested\")\n",
    "assert suggested_categorization[\"categorizations\"][0][\"name\"] == \"commercial\""
   ]
  },
  {
   "cell_type": "code",
   "execution_count": null,
   "metadata": {},
   "outputs": [],
   "source": [
    "# Remove temporary files\n",
    "\n",
    "os.remove(temp_data_file_path)\n",
    "storage_dir.rmdir()"
   ]
  }
 ],
 "metadata": {
  "kernelspec": {
   "display_name": ".venv",
   "language": "python",
   "name": "python3"
  },
  "language_info": {
   "codemirror_mode": {
    "name": "ipython",
    "version": 3
   },
   "file_extension": ".py",
   "mimetype": "text/x-python",
   "name": "python",
   "nbconvert_exporter": "python",
   "pygments_lexer": "ipython3",
   "version": "3.10.0"
  }
 },
 "nbformat": 4,
 "nbformat_minor": 2
}

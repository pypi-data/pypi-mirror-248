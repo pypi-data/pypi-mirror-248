{
 "cells": [
  {
   "cell_type": "markdown",
   "metadata": {},
   "source": [
    "下記のリンクにアクセスしてください。\n",
    "\n",
    "https://colab.research.google.com/github/nitta-lab-polymer/graph-nitta/blob/main/example/agis.ipynb"
   ]
  },
  {
   "cell_type": "code",
   "execution_count": null,
   "metadata": {},
   "outputs": [],
   "source": [
    "# google colab用のセットアップスクリプト\n",
    "!git clone -q https://github.com/nitta-lab-polymer/graph-nitta.git\n",
    "%pip install -qU pandas 2>/dev/null"
   ]
  },
  {
   "cell_type": "code",
   "execution_count": null,
   "metadata": {},
   "outputs": [],
   "source": [
    "%pip install -U graph-nitta"
   ]
  },
  {
   "cell_type": "code",
   "execution_count": null,
   "metadata": {},
   "outputs": [],
   "source": [
    "import pandas as pd\n",
    "\n",
    "df = pd.read_csv(\"./graph-nitta/sample_data/agis_stress_strain.csv\")"
   ]
  },
  {
   "cell_type": "code",
   "execution_count": null,
   "metadata": {},
   "outputs": [],
   "source": [
    "from graph_nitta import make_graph, apply_ax_config, AxConfig, SpineConfig\n",
    "\n",
    "# グラフ作成\n",
    "fig, axes = make_graph()\n",
    "\n",
    "# グラフにデータを追加\n",
    "axes[0].plot(df[df.columns[1]], df[df.columns[2]], label=\"sample1\")\n",
    "axes[0].plot(df[df.columns[1]] * 1.1, df[df.columns[2]] * 1.1, label=\"sample2\")\n",
    "\n",
    "# グラフの設定\n",
    "config = AxConfig(x=SpineConfig(lim=(0, 5)), y=SpineConfig(lim=(0, 1)))\n",
    "apply_ax_config(axes[0], config)\n",
    "\n",
    "\n",
    "fig.show()"
   ]
  }
 ],
 "metadata": {
  "language_info": {
   "name": "python"
  }
 },
 "nbformat": 4,
 "nbformat_minor": 2
}

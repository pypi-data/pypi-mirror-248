{
    "cells": [
        {
            "cell_type": "markdown",
            "metadata": {},
            "source": [
                "下記のリンクにアクセスしてください。\n",
                "\n",
                "https://colab.research.google.com/github/nitta-lab-polymer/graph-nitta/blob/main/example/raman.ipynb"
            ]
        },
        {
            "cell_type": "code",
            "execution_count": null,
            "metadata": {},
            "outputs": [],
            "source": [
                "# google colab用のセットアップスクリプト\n",
                "!git clone -q https://github.com/nitta-lab-polymer/graph-nitta.git\n",
                "%pip install -qU pandas 2>/dev/null"
            ]
        },
        {
            "cell_type": "code",
            "execution_count": null,
            "metadata": {},
            "outputs": [],
            "source": [
                "%pip install -U graph-nitta"
            ]
        },
        {
            "cell_type": "code",
            "execution_count": null,
            "metadata": {},
            "outputs": [],
            "source": [
                "import pandas as pd\n",
                "\n",
                "df = pd.read_csv(\"/content/graph-nitta/sample_data/raman.csv\")"
            ]
        },
        {
            "cell_type": "code",
            "execution_count": null,
            "metadata": {},
            "outputs": [],
            "source": [
                "from graph_nitta import make_graph, apply_ax_config, AxConfig, SpineConfig\n",
                "\n",
                "# グラフ作成\n",
                "fig, axes = make_graph()\n",
                "\n",
                "# グラフにデータを追加\n",
                "axes[0].plot(df[df.columns[1]], df[df.columns[2]], label=\"sample1\")\n",
                "\n",
                "# グラフの設定\n",
                "config = AxConfig(\n",
                "    x=SpineConfig(label=df.columns[1], lim=(400, 1600)),\n",
                "    y=SpineConfig(label=df.columns[2], visible=False, lim=(-1000, 15000)),\n",
                ")\n",
                "apply_ax_config(axes[0], config)\n",
                "\n",
                "\n",
                "fig.show()"
            ]
        }
    ],
    "metadata": {
        "language_info": {
            "name": "python"
        }
    },
    "nbformat": 4,
    "nbformat_minor": 2
}

{
    "cells": [
        {
            "cell_type": "markdown",
            "metadata": {},
            "source": [
                "下記のリンクにアクセスしてください。\n",
                "\n",
                "https://colab.research.google.com/github/nitta-lab-polymer/graph-nitta/blob/main/example/dma.ipynb"
            ]
        },
        {
            "cell_type": "code",
            "execution_count": null,
            "metadata": {},
            "outputs": [],
            "source": [
                "# google colab用のセットアップスクリプト\n",
                "!git clone -q https://github.com/nitta-lab-polymer/graph-nitta.git\n",
                "%pip install -qU pandas 2>/dev/null"
            ]
        },
        {
            "cell_type": "code",
            "execution_count": null,
            "metadata": {},
            "outputs": [],
            "source": [
                "%pip install -U graph-nitta"
            ]
        },
        {
            "cell_type": "code",
            "execution_count": null,
            "metadata": {},
            "outputs": [],
            "source": [
                "import pandas as pd\n",
                "\n",
                "df = pd.read_csv(\"./graph-nitta/sample_data/dma_result.csv\")"
            ]
        },
        {
            "cell_type": "code",
            "execution_count": null,
            "metadata": {},
            "outputs": [],
            "source": [
                "from graph_nitta import (\n",
                "    make_graph,\n",
                "    apply_ax_config,\n",
                "    apply_y_config,\n",
                "    AxConfig,\n",
                "    SpineConfig,\n",
                ")\n",
                "\n",
                "# グラフ作成\n",
                "fig, axes = make_graph()\n",
                "\n",
                "# グラフにデータを追加\n",
                "axes[0].scatter(df[df.columns[1]], df[df.columns[2]], label=df.columns[2])\n",
                "axes[0].scatter(df[df.columns[1]], df[df.columns[3]], label=df.columns[3])\n",
                "\n",
                "# 2軸目の設定\n",
                "ax2 = axes[0].twinx()\n",
                "ax2.scatter(df[df.columns[1]], df[df.columns[4]], label=df.columns[4], color=\"red\")  # type: ignore\n",
                "\n",
                "\n",
                "# グラフの設定\n",
                "min_temp = df[df.columns[1]].min()\n",
                "max_temp = df[df.columns[1]].max()\n",
                "\n",
                "\n",
                "config = AxConfig(\n",
                "    x=SpineConfig(label=df.columns[1], lim=(-150, 150), step=50),\n",
                "    y=SpineConfig(label=df.columns[2], scale=\"log\"),\n",
                "    is_visible_legend=False,\n",
                ")\n",
                "apply_ax_config(axes[0], config)\n",
                "\n",
                "apply_y_config(ax2, SpineConfig(label=df.columns[2], scale=\"log\"))  # type: ignore\n",
                "\n",
                "fig.legend(bbox_to_anchor=(1, 1), loc=\"upper left\")\n",
                "\n",
                "\n",
                "fig.show()"
            ]
        }
    ],
    "metadata": {
        "language_info": {
            "name": "python"
        }
    },
    "nbformat": 4,
    "nbformat_minor": 2
}

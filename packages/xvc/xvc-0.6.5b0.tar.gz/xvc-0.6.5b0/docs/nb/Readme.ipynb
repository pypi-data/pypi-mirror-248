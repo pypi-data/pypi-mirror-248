{
 "cells": [
  {
   "cell_type": "code",
   "execution_count": 5,
   "id": "126cc10f",
   "metadata": {},
   "outputs": [],
   "source": [
    "# Xvc"
   ]
  },
  {
   "cell_type": "markdown",
   "id": "068f1cff-2437-499d-9673-d88bc2a835c9",
   "metadata": {},
   "source": [
    "This is the Python port of [Xvc](https://github.com/iesahin/xvc). Xvc's goal is let users perform all ML operations regarding data, files, models and pipelines from the command line, and version all of these on top of Git. Xvc.py extends this goal by allowing all commands to be run from Python shells, code and Jupyter notebooks. "
   ]
  },
  {
   "cell_type": "markdown",
   "id": "a0d066dc-91b4-491d-a800-4478ce7a60c5",
   "metadata": {},
   "source": [
    "!pip install xvc"
   ]
  },
  {
   "cell_type": "code",
   "execution_count": 3,
   "id": "e4efce5b",
   "metadata": {},
   "outputs": [],
   "source": [
    "from xvc import Xvc\n",
    "\n",
    "xvc = Xvc()\n"
   ]
  },
  {
   "cell_type": "code",
   "execution_count": 4,
   "id": "75cfac9d",
   "metadata": {},
   "outputs": [
    {
     "data": {
      "text/plain": [
       "<XvcFile at 0x1078295a0>"
      ]
     },
     "execution_count": 4,
     "metadata": {},
     "output_type": "execute_result"
    }
   ],
   "source": [
    "xvc.file()"
   ]
  }
 ],
 "metadata": {
  "kernelspec": {
   "display_name": "Python 3 (ipykernel)",
   "language": "python",
   "name": "python3"
  },
  "language_info": {
   "codemirror_mode": {
    "name": "ipython",
    "version": 3
   },
   "file_extension": ".py",
   "mimetype": "text/x-python",
   "name": "python",
   "nbconvert_exporter": "python",
   "pygments_lexer": "ipython3",
   "version": "3.11.6"
  }
 },
 "nbformat": 4,
 "nbformat_minor": 5
}

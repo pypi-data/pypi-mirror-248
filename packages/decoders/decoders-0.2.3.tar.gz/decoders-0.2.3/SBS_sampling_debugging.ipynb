{
 "cells": [
  {
   "cell_type": "code",
   "execution_count": null,
   "metadata": {
    "colab": {
     "base_uri": "https://localhost:8080/"
    },
    "id": "RxrvnU6gmzbn",
    "outputId": "81877d8b-227d-42eb-a39a-0db2b11c6015"
   },
   "outputs": [
    {
     "name": "stdout",
     "output_type": "stream",
     "text": [
      "Requirement already satisfied: decoders==0.1.4 in /usr/local/lib/python3.10/dist-packages (0.1.4)\n",
      "Requirement already satisfied: transformers==4.35.2 in /usr/local/lib/python3.10/dist-packages (from decoders==0.1.4) (4.35.2)\n",
      "Requirement already satisfied: filelock in /usr/local/lib/python3.10/dist-packages (from transformers==4.35.2->decoders==0.1.4) (3.13.1)\n",
      "Requirement already satisfied: huggingface-hub<1.0,>=0.16.4 in /usr/local/lib/python3.10/dist-packages (from transformers==4.35.2->decoders==0.1.4) (0.19.4)\n",
      "Requirement already satisfied: numpy>=1.17 in /usr/local/lib/python3.10/dist-packages (from transformers==4.35.2->decoders==0.1.4) (1.23.5)\n",
      "Requirement already satisfied: packaging>=20.0 in /usr/local/lib/python3.10/dist-packages (from transformers==4.35.2->decoders==0.1.4) (23.2)\n",
      "Requirement already satisfied: pyyaml>=5.1 in /usr/local/lib/python3.10/dist-packages (from transformers==4.35.2->decoders==0.1.4) (6.0.1)\n",
      "Requirement already satisfied: regex!=2019.12.17 in /usr/local/lib/python3.10/dist-packages (from transformers==4.35.2->decoders==0.1.4) (2023.6.3)\n",
      "Requirement already satisfied: requests in /usr/local/lib/python3.10/dist-packages (from transformers==4.35.2->decoders==0.1.4) (2.31.0)\n",
      "Requirement already satisfied: tokenizers<0.19,>=0.14 in /usr/local/lib/python3.10/dist-packages (from transformers==4.35.2->decoders==0.1.4) (0.15.0)\n",
      "Requirement already satisfied: safetensors>=0.3.1 in /usr/local/lib/python3.10/dist-packages (from transformers==4.35.2->decoders==0.1.4) (0.4.1)\n",
      "Requirement already satisfied: tqdm>=4.27 in /usr/local/lib/python3.10/dist-packages (from transformers==4.35.2->decoders==0.1.4) (4.66.1)\n",
      "Requirement already satisfied: fsspec>=2023.5.0 in /usr/local/lib/python3.10/dist-packages (from huggingface-hub<1.0,>=0.16.4->transformers==4.35.2->decoders==0.1.4) (2023.6.0)\n",
      "Requirement already satisfied: typing-extensions>=3.7.4.3 in /usr/local/lib/python3.10/dist-packages (from huggingface-hub<1.0,>=0.16.4->transformers==4.35.2->decoders==0.1.4) (4.5.0)\n",
      "Requirement already satisfied: charset-normalizer<4,>=2 in /usr/local/lib/python3.10/dist-packages (from requests->transformers==4.35.2->decoders==0.1.4) (3.3.2)\n",
      "Requirement already satisfied: idna<4,>=2.5 in /usr/local/lib/python3.10/dist-packages (from requests->transformers==4.35.2->decoders==0.1.4) (3.6)\n",
      "Requirement already satisfied: urllib3<3,>=1.21.1 in /usr/local/lib/python3.10/dist-packages (from requests->transformers==4.35.2->decoders==0.1.4) (2.0.7)\n",
      "Requirement already satisfied: certifi>=2017.4.17 in /usr/local/lib/python3.10/dist-packages (from requests->transformers==4.35.2->decoders==0.1.4) (2023.11.17)\n"
     ]
    }
   ],
   "source": [
    "#load my library\n",
    "!pip install decoders==0.1.4"
   ]
  },
  {
   "cell_type": "code",
   "execution_count": 1,
   "metadata": {
    "id": "0qrJfw4MnZdc",
    "is_executing": true
   },
   "outputs": [],
   "source": [
    "import torch\n",
    "import torch.nn.functional as F\n",
    "from tqdm.notebook import tqdm\n",
    "from decoders.strategies.sbs_helpers.logits_process import LogitsProcessorList, TemperatureLogitsWarper, LogitsProcessor\n",
    "from decoders import inject_supervitamined_decoders, StochasticBeamSearchDecoder, toolbox, SmallProbTransformer, SmallProbTransformerConfig\n",
    "from decoders.simple.beam_search import BeamSearchDecoder\n",
    "from decoders.simple.stochastic_beam_search import SimpleSBSLogitProcessor, SimpleStochasticBeamSearchDecoder\n",
    "from decoders import inject_supervitamined_decoders\n",
    "from transformers import GenerationConfig, AutoTokenizer, AutoModelForSeq2SeqLM\n",
    "\n",
    "from decoders.strategies.sbs_helpers.logits_process import LogitsProcessorList\n",
    "\n",
    "type_t = torch.float64\n",
    "torch.set_default_dtype(type_t)"
   ]
  },
  {
   "cell_type": "markdown",
   "metadata": {
    "id": "pi7FG-iuoSik"
   },
   "source": [
    "# Ancestral samples"
   ]
  },
  {
   "cell_type": "code",
   "execution_count": 16,
   "metadata": {
    "id": "Ko1CGkRUnlnk"
   },
   "outputs": [],
   "source": [
    "config = SmallProbTransformerConfig()\n",
    "model = SmallProbTransformer(config)\n",
    "inject_supervitamined_decoders(model)\n",
    "\n",
    "R=10\n",
    "a_input_ids = torch.tensor([[-2]] * R) #this is faster than num_return_sequences=R\n",
    "\n",
    "def ancestral_sample():\n",
    "  return model.generate(a_input_ids,\n",
    "                        num_beams=1, num_return_sequences=1,\n",
    "                        do_sample=True, return_dict_in_generate=True,\n",
    "                        output_scores=True)"
   ]
  },
  {
   "cell_type": "code",
   "execution_count": 17,
   "metadata": {
    "colab": {
     "base_uri": "https://localhost:8080/"
    },
    "id": "Y4nOWPK8okvA",
    "outputId": "2aafb037-b4f6-4f9c-b7f2-4fc2f4a06d90"
   },
   "outputs": [
    {
     "name": "stdout",
     "output_type": "stream",
     "text": [
      "routes bincount: tensor([1, 1, 0, 2, 0, 2, 2, 2]), total: 10\n"
     ]
    }
   ],
   "source": [
    "# sequences[:, 1] are the first tokens of the sequence.\n",
    "#\n",
    "first_tokens_bincount = ancestral_sample().sequences[:, 1].bincount()\n",
    "print(f\"routes bincount: {first_tokens_bincount}, total: {first_tokens_bincount.sum()}\")"
   ]
  },
  {
   "cell_type": "markdown",
   "metadata": {
    "id": "aJDZf6DdpxKX"
   },
   "source": [
    "As you see, there the generated sentences follow the 10% probability of the first token being 0,1,...,9."
   ]
  },
  {
   "cell_type": "markdown",
   "metadata": {
    "id": "8qizUziknu70"
   },
   "source": [
    "# SBS sampling"
   ]
  },
  {
   "cell_type": "markdown",
   "metadata": {
    "id": "IkEzFf1Nqhye"
   },
   "source": [
    "## Gumbel sampling code"
   ]
  },
  {
   "cell_type": "code",
   "execution_count": null,
   "metadata": {
    "id": "Xayo37klqIzu"
   },
   "outputs": [],
   "source": [
    "# Gumbel code\n",
    "\n",
    "def gumbel_like(*args, **kwargs):\n",
    "    return _gumbel(torch.rand_like(*args, **kwargs))\n",
    "\n",
    "def gumbel(*args, **kwargs):\n",
    "    return _gumbel(torch.rand(*args, **kwargs))\n",
    "\n",
    "\n",
    "def _gumbel(u):\n",
    "    return -torch.log(-torch.log(u))\n",
    "\n",
    "\n",
    "def gumbel_with_maximum(phi, T, dim=-1):\n",
    "    \"\"\"\n",
    "    Samples a set of gumbels which are conditioned on having a maximum along a dimension\n",
    "    phi.max(dim)[0] should be broadcastable with the desired maximum T\n",
    "    \"\"\"\n",
    "\n",
    "    # if ((-1e9 < phi) & (phi< -100)).any():\n",
    "    #     print(\"habemus problemus\")\n",
    "\n",
    "\n",
    "    # Gumbel with location phi\n",
    "    g_phi = phi + gumbel_like(phi)\n",
    "    Z, argmax = g_phi.max(dim)\n",
    "    g = _shift_gumbel_maximum(g_phi, T, dim, Z=Z)\n",
    "    CHECK_VALIDITY = False\n",
    "    if CHECK_VALIDITY:\n",
    "        g_inv = _shift_gumbel_maximum(g, Z, dim)\n",
    "        # Create a boolean mask where the condition fails\n",
    "        mask = ~(((g_phi - g_inv) < 1e-3) | (g_phi == g_inv))\n",
    "\n",
    "        # Get indices where the mask is True (i.e., the assertion fails)\n",
    "        fail_indices = torch.nonzero(mask, as_tuple=True)\n",
    "\n",
    "        # Print the failed indices and corresponding values\n",
    "        for ind in zip(*fail_indices):\n",
    "            print(f\"Index: {ind}, g_phi value: {g_phi[ind]}, g_inv value: {g_inv[ind]}, dif: {g_phi[ind]-g_inv[ind]:.4f}\")\n",
    "\n",
    "        # assert torch.all(((g_phi - g_inv) < 1e-3) | (g_phi == g_inv))\n",
    "    return g, argmax\n",
    "\n",
    "\n",
    "def _shift_gumbel_maximum(g_phi, T, dim=-1, Z=None):\n",
    "    if Z is None:\n",
    "        Z, _ = g_phi.max(dim)\n",
    "    u = T.unsqueeze(dim) - g_phi + torch.log1p(-torch.exp(g_phi - Z.unsqueeze(dim)))\n",
    "    return T.unsqueeze(dim) - F.relu(u) - torch.log1p(torch.exp(-u.abs()))"
   ]
  },
  {
   "cell_type": "markdown",
   "metadata": {
    "id": "j7FMpOzdqmHX"
   },
   "source": [
    "## Main Stochastic Beam Search sampling code"
   ]
  },
  {
   "cell_type": "code",
   "execution_count": null,
   "metadata": {
    "id": "nk9EqJupqlXO"
   },
   "outputs": [],
   "source": [
    "class SBSLogitProcessor(LogitsProcessor):\n",
    "\n",
    "    def __init__(self, num_beams, batch_size=2):\n",
    "        self.num_beams = num_beams\n",
    "        self.batch_size = batch_size\n",
    "\n",
    "    def __call__(self, input_ids, scores, **kwargs):\n",
    "        \"\"\"\n",
    "\n",
    "        :param input_ids: shape (batch_size * num_beams, seq_len)\n",
    "        :param scores: shape (batch_size * num_beams, vocab_size)\n",
    "        :param kwargs.beam_log_probs: shape (batch_size * num_beams,)\n",
    "        :param kwargs.past_processed_scores: tuple of size seq_len with tensors (batch_size * num_beams, vocab_size)\n",
    "        :return: shape (batch_size, vocab_size)\n",
    "        \"\"\"\n",
    "\n",
    "        assert kwargs.get('beam_log_probs', None) is not None, \"beam_log_probs must be provided\"\n",
    "        assert kwargs.get('past_scores', None) is not None, \"past_scores is None. Add output_\" \\\n",
    "                                                                      \"scores=True to the generate function arguments\"\n",
    "        assert kwargs.get('beam_indices', None) is not None, \"beam_indices must be provided\"\n",
    "        beam_log_probs = kwargs['beam_log_probs']  # shape (batch_size * num_beams,)\n",
    "        beam_log_probs = beam_log_probs.view(-1,1)  # shape (batch_size * num_beams,)\n",
    "        past_scores = kwargs['past_scores']  # tuple: seq_len tensors of dim (batch_size * num_beams, vocab_size)\n",
    "        beam_indices = kwargs['beam_indices']  # shape (batch_size * num_beams,)\n",
    "\n",
    "        device = input_ids.device\n",
    "\n",
    "        scores = beam_log_probs.view(-1, 1) + scores  # shape (batch_size * num_beams, vocab_size)\n",
    "        scores = scores.clamp(min=-1e9)\n",
    "\n",
    "        if len(past_scores) == 0:  # first token\n",
    "            last_gumbels = gumbel(size=(self.batch_size,)).to(device)  # shape (batch_size, )\n",
    "            # expand (batch_size, ) to (batch_size * num_beams, )\n",
    "            last_gumbels = last_gumbels.repeat_interleave(self.num_beams, dim=0)\n",
    "        else:\n",
    "            last_token_scores = past_scores[-1]  # shape (batch_size * num_beams, vocab_size)\n",
    "            last_tokens = input_ids[:, -1]  # shape (batch_size * num_beams, )\n",
    "            last_beam_indices = torch.tensor(tuple(tup[-1] for tup in beam_indices), device=device)\n",
    "            last_gumbels = last_token_scores[last_beam_indices, last_tokens]\n",
    "        new_gumbels, _ = gumbel_with_maximum(scores, last_gumbels)  # shape (batch_size * num_beams, ) todo check this view\n",
    "        return new_gumbels"
   ]
  },
  {
   "cell_type": "code",
   "execution_count": 18,
   "metadata": {
    "colab": {
     "base_uri": "https://localhost:8080/"
    },
    "id": "pdvg7RznrCkX",
    "outputId": "807cf1f6-5039-4314-fe71-d04145f19c78"
   },
   "outputs": [
    {
     "name": "stdout",
     "output_type": "stream",
     "text": [
      "routes bincount: tensor([2, 1, 1, 0, 0, 1, 1, 1, 1, 2]), total: 10\n"
     ]
    }
   ],
   "source": [
    "sbs_input_ids = torch.tensor([[-2]])\n",
    "num_samples = 100\n",
    "def sbs_sample():\n",
    "  return model.generate(sbs_input_ids,\n",
    "                             generation_strategy=BeamSearchDecoder(),\n",
    "                             generation_config=GenerationConfig(max_new_tokens=100, num_beams=10, num_return_sequences=10),\n",
    "                             logits_processor=LogitsProcessorList([SimpleSBSLogitProcessor()]),\n",
    "                             )\n",
    "output = sbs_sample()\n",
    "# print(f\"generated tokens: {output.sequences}\")\n",
    "# print(f\"routes: {output.sequences[:, 1]}\")\n",
    "routes_freq = output.sequences[:, 1].bincount(minlength=config.real_vocab_size)\n",
    "print(f\"routes bincount: {routes_freq}, total: {routes_freq.sum()}\")"
   ]
  },
  {
   "cell_type": "code",
   "execution_count": null,
   "metadata": {
    "colab": {
     "base_uri": "https://localhost:8080/"
    },
    "id": "QI5ohBDPeayd",
    "outputId": "e99ce037-ac03-4483-f2b0-d48aa4323976"
   },
   "outputs": [
    {
     "data": {
      "text/plain": [
       "torch.float64"
      ]
     },
     "execution_count": 19,
     "metadata": {},
     "output_type": "execute_result"
    }
   ],
   "source": [
    "torch.zeros((5,5)).dtype"
   ]
  },
  {
   "cell_type": "code",
   "execution_count": null,
   "metadata": {
    "colab": {
     "base_uri": "https://localhost:8080/"
    },
    "id": "ad5qa6xUZGzR",
    "outputId": "37b09e87-fd0e-4d60-93f6-3e849fa9b326"
   },
   "outputs": [
    {
     "data": {
      "text/plain": [
       "torch.float32"
      ]
     },
     "execution_count": 20,
     "metadata": {},
     "output_type": "execute_result"
    }
   ],
   "source": [
    "output.sequences_scores.dtype"
   ]
  },
  {
   "cell_type": "code",
   "execution_count": 19,
   "metadata": {
    "colab": {
     "base_uri": "https://localhost:8080/",
     "height": 49,
     "referenced_widgets": [
      "cbb749949fe4485c8632075ff3c0da99",
      "4bf2f35780c247a0a360f04fec6410a0",
      "3accb34aec154c34810abe7f31e7f3d0",
      "a4114aa21d9b49acabf99ffd7d6f749d",
      "26f357ed24e84cf59ef8877c033b9cdb",
      "b2833f2933704adcbbd6300ca3b4bce7",
      "de82a36270064de99db33c2fb80d387b",
      "1a855639c8ad4672a3344a89fe5f89ad",
      "389c2b4bc35f4610b8ec5258956e2fca",
      "007638158b9b4278948119809f2e786e",
      "6fb52113615c43788cde998c55114c7a"
     ]
    },
    "id": "-pUqLk_CC5Ho",
    "outputId": "22edb3c8-6c75-49d5-a134-d37bea4d3505"
   },
   "outputs": [
    {
     "data": {
      "application/vnd.jupyter.widget-view+json": {
       "model_id": "b4ca954c372645629cbf263363fdd1b0",
       "version_major": 2,
       "version_minor": 0
      },
      "text/plain": [
       "  0%|          | 0/1000 [00:00<?, ?it/s]"
      ]
     },
     "metadata": {},
     "output_type": "display_data"
    }
   ],
   "source": [
    "sbs_l = []\n",
    "ancestral_l = []\n",
    "for i in tqdm(range(1000)):\n",
    "  out_a = ancestral_sample().sequences[:, 1]\n",
    "  out_sbs = sbs_sample().sequences[:, 1]\n",
    "  sbs_l.extend(out_sbs.tolist())\n",
    "  ancestral_l.extend(out_a.tolist())"
   ]
  },
  {
   "cell_type": "code",
   "execution_count": 20,
   "metadata": {
    "colab": {
     "base_uri": "https://localhost:8080/",
     "height": 843
    },
    "id": "Ehgi9pvaD4qd",
    "outputId": "3e44beaa-19ea-4f1e-8192-ba9a57752fbe"
   },
   "outputs": [
    {
     "data": {
      "image/png": "[encoded data removed]",
      "text/plain": [
       "<Figure size 640x480 with 1 Axes>"
      ]
     },
     "metadata": {},
     "output_type": "display_data"
    },
    {
     "data": {
      "image/png": "[encoded data removed]",
      "text/plain": [
       "<Figure size 640x480 with 1 Axes>"
      ]
     },
     "metadata": {},
     "output_type": "display_data"
    }
   ],
   "source": [
    "import matplotlib.pyplot as plt\n",
    "\n",
    "plt.hist(sbs_l, bins=range(11), edgecolor='black')\n",
    "plt.axhline(y=1000, color='red', linestyle='-')\n",
    "plt.show()\n",
    "\n",
    "plt.hist(ancestral_l, bins=range(11), edgecolor='black')\n",
    "plt.axhline(y=1000, color='red', linestyle='-')\n",
    "plt.show()"
   ]
  },
  {
   "cell_type": "code",
   "execution_count": null,
   "metadata": {
    "id": "bSiU_blrawb-"
   },
   "outputs": [],
   "source": []
  }
 ],
 "metadata": {
  "colab": {
   "provenance": []
  },
  "kernelspec": {
   "display_name": "Python 3",
   "name": "python3"
  },
  "language_info": {
   "codemirror_mode": {
    "name": "ipython",
    "version": 3
   },
   "file_extension": ".py",
   "mimetype": "text/x-python",
   "name": "python",
   "nbconvert_exporter": "python",
   "pygments_lexer": "ipython3",
   "version": "3.11.7"
  },
  "widgets": {
   "application/vnd.jupyter.widget-state+json": {
    "007638158b9b4278948119809f2e786e": {
     "model_module": "@jupyter-widgets/base",
     "model_module_version": "1.2.0",
     "model_name": "LayoutModel",
     "state": {
      "_model_module": "@jupyter-widgets/base",
      "_model_module_version": "1.2.0",
      "_model_name": "LayoutModel",
      "_view_count": null,
      "_view_module": "@jupyter-widgets/base",
      "_view_module_version": "1.2.0",
      "_view_name": "LayoutView",
      "align_content": null,
      "align_items": null,
      "align_self": null,
      "border": null,
      "bottom": null,
      "display": null,
      "flex": null,
      "flex_flow": null,
      "grid_area": null,
      "grid_auto_columns": null,
      "grid_auto_flow": null,
      "grid_auto_rows": null,
      "grid_column": null,
      "grid_gap": null,
      "grid_row": null,
      "grid_template_areas": null,
      "grid_template_columns": null,
      "grid_template_rows": null,
      "height": null,
      "justify_content": null,
      "justify_items": null,
      "left": null,
      "margin": null,
      "max_height": null,
      "max_width": null,
      "min_height": null,
      "min_width": null,
      "object_fit": null,
      "object_position": null,
      "order": null,
      "overflow": null,
      "overflow_x": null,
      "overflow_y": null,
      "padding": null,
      "right": null,
      "top": null,
      "visibility": null,
      "width": null
     }
    },
    "1a855639c8ad4672a3344a89fe5f89ad": {
     "model_module": "@jupyter-widgets/base",
     "model_module_version": "1.2.0",
     "model_name": "LayoutModel",
     "state": {
      "_model_module": "@jupyter-widgets/base",
      "_model_module_version": "1.2.0",
      "_model_name": "LayoutModel",
      "_view_count": null,
      "_view_module": "@jupyter-widgets/base",
      "_view_module_version": "1.2.0",
      "_view_name": "LayoutView",
      "align_content": null,
      "align_items": null,
      "align_self": null,
      "border": null,
      "bottom": null,
      "display": null,
      "flex": null,
      "flex_flow": null,
      "grid_area": null,
      "grid_auto_columns": null,
      "grid_auto_flow": null,
      "grid_auto_rows": null,
      "grid_column": null,
      "grid_gap": null,
      "grid_row": null,
      "grid_template_areas": null,
      "grid_template_columns": null,
      "grid_template_rows": null,
      "height": null,
      "justify_content": null,
      "justify_items": null,
      "left": null,
      "margin": null,
      "max_height": null,
      "max_width": null,
      "min_height": null,
      "min_width": null,
      "object_fit": null,
      "object_position": null,
      "order": null,
      "overflow": null,
      "overflow_x": null,
      "overflow_y": null,
      "padding": null,
      "right": null,
      "top": null,
      "visibility": null,
      "width": null
     }
    },
    "26f357ed24e84cf59ef8877c033b9cdb": {
     "model_module": "@jupyter-widgets/base",
     "model_module_version": "1.2.0",
     "model_name": "LayoutModel",
     "state": {
      "_model_module": "@jupyter-widgets/base",
      "_model_module_version": "1.2.0",
      "_model_name": "LayoutModel",
      "_view_count": null,
      "_view_module": "@jupyter-widgets/base",
      "_view_module_version": "1.2.0",
      "_view_name": "LayoutView",
      "align_content": null,
      "align_items": null,
      "align_self": null,
      "border": null,
      "bottom": null,
      "display": null,
      "flex": null,
      "flex_flow": null,
      "grid_area": null,
      "grid_auto_columns": null,
      "grid_auto_flow": null,
      "grid_auto_rows": null,
      "grid_column": null,
      "grid_gap": null,
      "grid_row": null,
      "grid_template_areas": null,
      "grid_template_columns": null,
      "grid_template_rows": null,
      "height": null,
      "justify_content": null,
      "justify_items": null,
      "left": null,
      "margin": null,
      "max_height": null,
      "max_width": null,
      "min_height": null,
      "min_width": null,
      "object_fit": null,
      "object_position": null,
      "order": null,
      "overflow": null,
      "overflow_x": null,
      "overflow_y": null,
      "padding": null,
      "right": null,
      "top": null,
      "visibility": null,
      "width": null
     }
    },
    "389c2b4bc35f4610b8ec5258956e2fca": {
     "model_module": "@jupyter-widgets/controls",
     "model_module_version": "1.5.0",
     "model_name": "ProgressStyleModel",
     "state": {
      "_model_module": "@jupyter-widgets/controls",
      "_model_module_version": "1.5.0",
      "_model_name": "ProgressStyleModel",
      "_view_count": null,
      "_view_module": "@jupyter-widgets/base",
      "_view_module_version": "1.2.0",
      "_view_name": "StyleView",
      "bar_color": null,
      "description_width": ""
     }
    },
    "3accb34aec154c34810abe7f31e7f3d0": {
     "model_module": "@jupyter-widgets/controls",
     "model_module_version": "1.5.0",
     "model_name": "FloatProgressModel",
     "state": {
      "_dom_classes": [],
      "_model_module": "@jupyter-widgets/controls",
      "_model_module_version": "1.5.0",
      "_model_name": "FloatProgressModel",
      "_view_count": null,
      "_view_module": "@jupyter-widgets/controls",
      "_view_module_version": "1.5.0",
      "_view_name": "ProgressView",
      "bar_style": "success",
      "description": "",
      "description_tooltip": null,
      "layout": "IPY_MODEL_1a855639c8ad4672a3344a89fe5f89ad",
      "max": 100,
      "min": 0,
      "orientation": "horizontal",
      "style": "IPY_MODEL_389c2b4bc35f4610b8ec5258956e2fca",
      "value": 100
     }
    },
    "4bf2f35780c247a0a360f04fec6410a0": {
     "model_module": "@jupyter-widgets/controls",
     "model_module_version": "1.5.0",
     "model_name": "HTMLModel",
     "state": {
      "_dom_classes": [],
      "_model_module": "@jupyter-widgets/controls",
      "_model_module_version": "1.5.0",
      "_model_name": "HTMLModel",
      "_view_count": null,
      "_view_module": "@jupyter-widgets/controls",
      "_view_module_version": "1.5.0",
      "_view_name": "HTMLView",
      "description": "",
      "description_tooltip": null,
      "layout": "IPY_MODEL_b2833f2933704adcbbd6300ca3b4bce7",
      "placeholder": "​",
      "style": "IPY_MODEL_de82a36270064de99db33c2fb80d387b",
      "value": "100%"
     }
    },
    "6fb52113615c43788cde998c55114c7a": {
     "model_module": "@jupyter-widgets/controls",
     "model_module_version": "1.5.0",
     "model_name": "DescriptionStyleModel",
     "state": {
      "_model_module": "@jupyter-widgets/controls",
      "_model_module_version": "1.5.0",
      "_model_name": "DescriptionStyleModel",
      "_view_count": null,
      "_view_module": "@jupyter-widgets/base",
      "_view_module_version": "1.2.0",
      "_view_name": "StyleView",
      "description_width": ""
     }
    },
    "a4114aa21d9b49acabf99ffd7d6f749d": {
     "model_module": "@jupyter-widgets/controls",
     "model_module_version": "1.5.0",
     "model_name": "HTMLModel",
     "state": {
      "_dom_classes": [],
      "_model_module": "@jupyter-widgets/controls",
      "_model_module_version": "1.5.0",
      "_model_name": "HTMLModel",
      "_view_count": null,
      "_view_module": "@jupyter-widgets/controls",
      "_view_module_version": "1.5.0",
      "_view_name": "HTMLView",
      "description": "",
      "description_tooltip": null,
      "layout": "IPY_MODEL_007638158b9b4278948119809f2e786e",
      "placeholder": "​",
      "style": "IPY_MODEL_6fb52113615c43788cde998c55114c7a",
      "value": " 100/100 [01:51&lt;00:00,  1.02s/it]"
     }
    },
    "b2833f2933704adcbbd6300ca3b4bce7": {
     "model_module": "@jupyter-widgets/base",
     "model_module_version": "1.2.0",
     "model_name": "LayoutModel",
     "state": {
      "_model_module": "@jupyter-widgets/base",
      "_model_module_version": "1.2.0",
      "_model_name": "LayoutModel",
      "_view_count": null,
      "_view_module": "@jupyter-widgets/base",
      "_view_module_version": "1.2.0",
      "_view_name": "LayoutView",
      "align_content": null,
      "align_items": null,
      "align_self": null,
      "border": null,
      "bottom": null,
      "display": null,
      "flex": null,
      "flex_flow": null,
      "grid_area": null,
      "grid_auto_columns": null,
      "grid_auto_flow": null,
      "grid_auto_rows": null,
      "grid_column": null,
      "grid_gap": null,
      "grid_row": null,
      "grid_template_areas": null,
      "grid_template_columns": null,
      "grid_template_rows": null,
      "height": null,
      "justify_content": null,
      "justify_items": null,
      "left": null,
      "margin": null,
      "max_height": null,
      "max_width": null,
      "min_height": null,
      "min_width": null,
      "object_fit": null,
      "object_position": null,
      "order": null,
      "overflow": null,
      "overflow_x": null,
      "overflow_y": null,
      "padding": null,
      "right": null,
      "top": null,
      "visibility": null,
      "width": null
     }
    },
    "cbb749949fe4485c8632075ff3c0da99": {
     "model_module": "@jupyter-widgets/controls",
     "model_module_version": "1.5.0",
     "model_name": "HBoxModel",
     "state": {
      "_dom_classes": [],
      "_model_module": "@jupyter-widgets/controls",
      "_model_module_version": "1.5.0",
      "_model_name": "HBoxModel",
      "_view_count": null,
      "_view_module": "@jupyter-widgets/controls",
      "_view_module_version": "1.5.0",
      "_view_name": "HBoxView",
      "box_style": "",
      "children": [
       "IPY_MODEL_4bf2f35780c247a0a360f04fec6410a0",
       "IPY_MODEL_3accb34aec154c34810abe7f31e7f3d0",
       "IPY_MODEL_a4114aa21d9b49acabf99ffd7d6f749d"
      ],
      "layout": "IPY_MODEL_26f357ed24e84cf59ef8877c033b9cdb"
     }
    },
    "de82a36270064de99db33c2fb80d387b": {
     "model_module": "@jupyter-widgets/controls",
     "model_module_version": "1.5.0",
     "model_name": "DescriptionStyleModel",
     "state": {
      "_model_module": "@jupyter-widgets/controls",
      "_model_module_version": "1.5.0",
      "_model_name": "DescriptionStyleModel",
      "_view_count": null,
      "_view_module": "@jupyter-widgets/base",
      "_view_module_version": "1.2.0",
      "_view_name": "StyleView",
      "description_width": ""
     }
    }
   }
  }
 },
 "nbformat": 4,
 "nbformat_minor": 0
}

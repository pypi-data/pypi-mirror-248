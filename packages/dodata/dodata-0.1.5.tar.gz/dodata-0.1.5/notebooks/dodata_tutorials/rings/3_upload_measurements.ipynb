{
 "cells": [
  {
   "cell_type": "markdown",
   "id": "75006a36",
   "metadata": {},
   "source": [
    "# Upload Measurement Data and run Analysis\n",
    "\n",
    "Now you will post your measurement data and analysis to the database via the API.\n",
    "\n",
    "**If you are running the tutorials in DoLab, the following instructions are not necessary and you can skip directly to the next cell.**\n",
    "\n",
    "You will need to authenticate to the database with your username and password. To make this easy,  you can create a file called `.env` in this folder and complete it with your organization's URL and authentication information as follows:\n",
    "\n",
    "```bash\n",
    "dodata_url=https://animal.doplaydo.com\n",
    "dodata_user=demo\n",
    "dodata_password=yours\n",
    "dodata_db=animal.dodata.db.doplaydo.com\n",
    "dodata_db_user=full_access\n",
    "dodata_db_password=yours\n",
    "\n",
    "```\n",
    "\n",
    "If you haven't defined a `.env` file or saved your credentials to your environment variables, you will be prompted for your credentials now."
   ]
  },
  {
   "cell_type": "code",
   "execution_count": null,
   "id": "fc3fbbc8",
   "metadata": {},
   "outputs": [],
   "source": [
    "import doplaydo.dodata as dd\n",
    "import pandas as pd\n",
    "from pathlib import Path\n",
    "from tqdm.auto import tqdm\n",
    "import requests\n",
    "import getpass\n",
    "\n",
    "username = getpass.getuser()"
   ]
  },
  {
   "cell_type": "markdown",
   "id": "e02986bf",
   "metadata": {},
   "source": [
    "Let's now create a project. \n",
    "\n",
    "In normal circumstances, everyone will be sharing and contributing to a project. In this demo, however, we want to *keep your project separate* from other users for clarity, so we will append your username to the project name. This way you can also safely delete and recreate projects without creating issues for others. If you prefer though, you can change the `PROJECT_NAME` to anything you like. Just be sure to update it in the subsequent notebooks of this tutorial as well."
   ]
  },
  {
   "cell_type": "code",
   "execution_count": null,
   "id": "bd552077",
   "metadata": {},
   "outputs": [],
   "source": [
    "PROJECT_NAME = f\"rings-{username}\"\n",
    "MEASUREMENTS_PATH = Path(\"6d4c615ff105/\")"
   ]
  },
  {
   "cell_type": "markdown",
   "id": "3f40fdf8",
   "metadata": {},
   "source": [
    "If you've been running this demo multiple times, you might already have one with the same name. Let's delete it so you can start fresh."
   ]
  },
  {
   "cell_type": "code",
   "execution_count": null,
   "id": "2cd6235a",
   "metadata": {},
   "outputs": [],
   "source": [
    "dd.project.delete(project_name=PROJECT_NAME).text"
   ]
  },
  {
   "cell_type": "markdown",
   "id": "9af8532e",
   "metadata": {},
   "source": [
    "## New project\n",
    "\n",
    "You can create the project, upload the design manifest, and upload the wafer definitions through the Webapp as well as programmatically using this notebook"
   ]
  },
  {
   "cell_type": "markdown",
   "id": "d0dabe34",
   "metadata": {},
   "source": [
    "### Upload Project\n",
    "\n",
    "You can create a new project and extract all cells & devices below for the `RidgeLoss` and `RibLoss`\n",
    "\n",
    "The expressions are regex expressions. For intro and testing your regexes you can check out [regex101](https://regex101.com)\n",
    "\n",
    "To only extract top cells set `max_hierarchy_lvl=-1` and `min_hierarchy_lvl=-1`\n",
    "\n",
    "To disable extraction use a max_hierarchy_lvl < min_hierarchy_lvl\n",
    "\n",
    "Whitelists take precedence over blacklists, so if you define both, it uses only the whitelist."
   ]
  },
  {
   "cell_type": "code",
   "execution_count": null,
   "id": "a98b78e5",
   "metadata": {},
   "outputs": [],
   "source": [
    "cell_extraction = [\n",
    "    dd.project.Extraction(\n",
    "        cell_name=\"rings\",\n",
    "        cell_white_list=[\"^RingDouble\"],\n",
    "        min_hierarchy_lvl=0,\n",
    "        max_hierarchy_lvl=0,\n",
    "    )\n",
    "]\n",
    "\n",
    "dd.project.create(\n",
    "    project_name=PROJECT_NAME,\n",
    "    eda_file=\"test_chip.gds\",\n",
    "    lyp_file=\"generic.lyp\",\n",
    "    cell_extractions=cell_extraction,\n",
    ").text"
   ]
  },
  {
   "cell_type": "markdown",
   "id": "f0a42ac5",
   "metadata": {},
   "source": [
    "### Upload Design Manifest\n",
    "\n",
    "The design manifest is a CSV file that includes all the cell names, the cell settings, a list of analysis to trigger, and a list of settings for each analysis."
   ]
  },
  {
   "cell_type": "code",
   "execution_count": null,
   "id": "9eed420f",
   "metadata": {},
   "outputs": [],
   "source": [
    "dm = pd.read_csv(\"design_manifest.csv\")\n",
    "dm"
   ]
  },
  {
   "cell_type": "code",
   "execution_count": null,
   "id": "83a4a289",
   "metadata": {},
   "outputs": [],
   "source": [
    "dd.project.upload_design_manifest(\n",
    "    project_name=PROJECT_NAME, filepath=\"design_manifest.csv\"\n",
    ").text"
   ]
  },
  {
   "cell_type": "code",
   "execution_count": null,
   "id": "c072a2a8",
   "metadata": {},
   "outputs": [],
   "source": [
    "dd.project.download_design_manifest(\n",
    "    project_name=PROJECT_NAME, filepath=\"design_manifest_downloaded.csv\"\n",
    ")"
   ]
  },
  {
   "cell_type": "markdown",
   "id": "2e0cb54a",
   "metadata": {},
   "source": [
    "### Upload Wafer Definitions\n",
    "\n",
    "The wafer definition is a JSON file where you can define the wafer names and die names and location for each wafer."
   ]
  },
  {
   "cell_type": "code",
   "execution_count": null,
   "id": "a762b887",
   "metadata": {},
   "outputs": [],
   "source": [
    "dd.project.upload_wafer_definitions(\n",
    "    project_name=PROJECT_NAME, filepath=\"wafer_definitions.json\"\n",
    ").text"
   ]
  },
  {
   "cell_type": "markdown",
   "id": "5e80ce9f",
   "metadata": {},
   "source": [
    "## Upload data"
   ]
  },
  {
   "cell_type": "markdown",
   "id": "f174ff80",
   "metadata": {},
   "source": [
    "Your Tester can output the data in JSON files. It does not need to be Python."
   ]
  },
  {
   "cell_type": "markdown",
   "id": "9c229b05",
   "metadata": {},
   "source": [
    "You can get all paths which have measurement data within the test path."
   ]
  },
  {
   "cell_type": "code",
   "execution_count": null,
   "id": "c5918fe8",
   "metadata": {},
   "outputs": [],
   "source": [
    "data_files = list(MEASUREMENTS_PATH.glob(\"**/data.json\"))\n",
    "print(data_files[0].parts)"
   ]
  },
  {
   "cell_type": "markdown",
   "id": "79dc19e0",
   "metadata": {
    "lines_to_next_cell": 2
   },
   "source": [
    " You should define a plotting per measurement type in python. Your plots can evolve over time even for the same measurement type.\n",
    "\n",
    "Required:\n",
    "\n",
    "```yaml\n",
    "- x_name (str): x-axis name\n",
    "- y_name (str): y-axis name\n",
    "- x_col (str): x-column to plot\n",
    "- y_col (str or list[str]): y-column(s) to plot; can be multiple\n",
    "```\n",
    "\n",
    "\n",
    "Optional:\n",
    "```yaml\n",
    "\n",
    "- scatter (bool): whether to plot as scatter as opposed to line traces\n",
    "- x_units (str): x-axis units\n",
    "- y_units (str): y-axis units\n",
    "- x_log_axis (bool): whether to plot the x-axis on log scale\n",
    "- y_log_axis (bool): whether to plot the y-axis on log scale\n",
    "- x_limits (list[int, int]): clip x-axis data using these limits as bounds (example: [10, 100])\n",
    "- y_limits (list[int, int]): clip y-axis data using these limits as bounds (example: [20, 100])\n",
    "- sort_by (dict[str, bool]): columns to sort data before plotting. Boolean specifies whether to sort each column in ascending order.\n",
    "                             (example: {\"wavelegths\": True, \"optical_power\": False})\n",
    "- grouping (dict[str, int]): columns to group data before plotting. Integer specifies decimal places to round each column.\n",
    "                             Different series will be plotted for unique combinations of x column, y column(s), and rounded column values.\n",
    "                             (example: {\"port\": 1, \"attenuation\": 2})\n",
    "\n",
    "```"
   ]
  },
  {
   "cell_type": "code",
   "execution_count": null,
   "id": "1200a506",
   "metadata": {},
   "outputs": [],
   "source": [
    "spectrum_measurement_type = dd.api.device_data.PlottingKwargs(\n",
    "    x_name=\"wavelength\",\n",
    "    y_name=\"output_power\",\n",
    "    x_col=\"wavelength\",\n",
    "    # y_col=[\"output_power\"],  # can also be a string for a single value\n",
    "    y_col=\"output_power\",\n",
    ")"
   ]
  },
  {
   "cell_type": "markdown",
   "id": "08747974",
   "metadata": {},
   "source": [
    "### Upload measurements\n",
    "\n",
    "You can now upload measurement data.\n",
    "\n",
    "This is a bare bones example, in a production setting, you can also add validation, logging, and error handling to ensure a smooth operation.\n",
    "\n",
    "Every measurement you upload will trigger all the analysis that you defined in the design manifest."
   ]
  },
  {
   "cell_type": "code",
   "execution_count": null,
   "id": "ac22c9b9",
   "metadata": {},
   "outputs": [],
   "source": [
    "NUMBER_OF_THREADS = 12\n",
    "wafer_set = set()\n",
    "die_set = set()"
   ]
  },
  {
   "cell_type": "code",
   "execution_count": null,
   "id": "ed65ccb8",
   "metadata": {},
   "outputs": [],
   "source": [
    "if NUMBER_OF_THREADS == 1:\n",
    "    for path in tqdm(data_files):\n",
    "        wafer_name = path.parts[0]\n",
    "        die_x, die_y = path.parts[1].split(\"_\")\n",
    "\n",
    "        r = dd.api.device_data.upload(\n",
    "            file=path,\n",
    "            project_name=PROJECT_NAME,\n",
    "            wafer_name=wafer_name,\n",
    "            die_x=die_x,\n",
    "            die_y=die_y,\n",
    "            device_name=path.parts[2],\n",
    "            data_type=\"simulation\",\n",
    "            plotting_kwargs=spectrum_measurement_type,\n",
    "        )\n",
    "        wafer_set.add(wafer_name)\n",
    "        die_set.add(path.parts[2])\n",
    "        r.raise_for_status()"
   ]
  },
  {
   "cell_type": "code",
   "execution_count": null,
   "id": "0d98caf7",
   "metadata": {},
   "outputs": [],
   "source": [
    "data_files = list(MEASUREMENTS_PATH.glob(\"**/data.json\"))\n",
    "project_names = []\n",
    "device_names = []\n",
    "die_names = []\n",
    "die_xs = []\n",
    "die_ys = []\n",
    "wafer_names = []\n",
    "plotting_kwargs = []\n",
    "data_types = []\n",
    "\n",
    "for path in data_files:\n",
    "    device_name = path.parts[2]\n",
    "    die_name = path.parts[1]\n",
    "    die_x, die_y = die_name.split(\"_\")\n",
    "    wafer_name = path.parts[0]\n",
    "\n",
    "    device_names.append(device_name)\n",
    "    die_names.append(die_name)\n",
    "    die_xs.append(die_x)\n",
    "    die_ys.append(die_y)\n",
    "    wafer_names.append(wafer_name)\n",
    "    plotting_kwargs.append(spectrum_measurement_type)\n",
    "    project_names.append(PROJECT_NAME)\n",
    "    data_types.append(\"measurement\")"
   ]
  },
  {
   "cell_type": "code",
   "execution_count": null,
   "id": "bc134522",
   "metadata": {},
   "outputs": [],
   "source": [
    "if NUMBER_OF_THREADS > 1:\n",
    "    dd.device_data.upload_multi(\n",
    "        files=data_files,\n",
    "        project_names=project_names,\n",
    "        wafer_names=wafer_names,\n",
    "        die_xs=die_xs,\n",
    "        die_ys=die_ys,\n",
    "        device_names=device_names,\n",
    "        data_types=data_types,\n",
    "        plotting_kwargs=plotting_kwargs,\n",
    "        progress_bar=True,\n",
    "    )"
   ]
  },
  {
   "cell_type": "code",
   "execution_count": null,
   "id": "ce5b5fbb",
   "metadata": {},
   "outputs": [],
   "source": [
    "die_names_set = set(die_names)\n",
    "wafer_set = set(wafer_names)\n",
    "\n",
    "print(die_names_set)\n",
    "print(wafer_set)"
   ]
  },
  {
   "cell_type": "code",
   "execution_count": null,
   "id": "5ddde469",
   "metadata": {},
   "outputs": [],
   "source": [
    "plots = dd.analysis.get_device_data_analysis_plots(\n",
    "    project_name=PROJECT_NAME,\n",
    "    # device_name=\"rings_RingDouble-20-200-_add_fiber_array_ea36ac06_331580_243771\",\n",
    "    device_name=device_names[0],\n",
    "    die_x=0,\n",
    "    die_y=0,\n",
    "    wafer_name=\"6d4c615ff105\",\n",
    ")\n",
    "plots"
   ]
  },
  {
   "cell_type": "code",
   "execution_count": null,
   "id": "3b325c7c",
   "metadata": {},
   "outputs": [],
   "source": [
    "for plot in plots:\n",
    "    display(plot)"
   ]
  },
  {
   "cell_type": "code",
   "execution_count": null,
   "id": "72330ac6",
   "metadata": {},
   "outputs": [],
   "source": []
  },
  {
   "cell_type": "code",
   "execution_count": null,
   "id": "6a63bc48",
   "metadata": {},
   "outputs": [],
   "source": []
  }
 ],
 "metadata": {
  "jupytext": {
   "custom_cell_magics": "kql"
  },
  "kernelspec": {
   "display_name": "Python 3 (ipykernel)",
   "language": "python",
   "name": "python3"
  },
  "language_info": {
   "codemirror_mode": {
    "name": "ipython",
    "version": 3
   },
   "file_extension": ".py",
   "mimetype": "text/x-python",
   "name": "python",
   "nbconvert_exporter": "python",
   "pygments_lexer": "ipython3",
   "version": "3.11.7"
  }
 },
 "nbformat": 4,
 "nbformat_minor": 5
}

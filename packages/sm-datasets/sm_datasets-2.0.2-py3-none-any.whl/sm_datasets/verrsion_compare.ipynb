{
 "cells": [
  {
   "attachments": {},
   "cell_type": "markdown",
   "metadata": {},
   "source": [
    "Purpose: comparing different versions of a dataset"
   ]
  },
  {
   "cell_type": "code",
   "execution_count": 8,
   "metadata": {},
   "outputs": [],
   "source": [
    "from sm_datasets.datasets import Dataset, ROOT_DIR, Example, FullTable\n",
    "import ipywidgets as widgets"
   ]
  },
  {
   "cell_type": "code",
   "execution_count": 2,
   "metadata": {},
   "outputs": [],
   "source": [
    "dataset_latest = Dataset(ROOT_DIR / \"250wt\").load()\n",
    "dataset_v130 = Dataset(ROOT_DIR / \"250wt/v130.zip\").load()"
   ]
  },
  {
   "cell_type": "code",
   "execution_count": 17,
   "metadata": {},
   "outputs": [],
   "source": [
    "assert len(dataset_latest) == len(dataset_v130)\n",
    "diff_examples: list[tuple[Example[FullTable], Example[FullTable]]] = []\n",
    "for ex, oldex in zip(dataset_latest, dataset_v130):\n",
    "    assert ex.table.table.table_id == oldex.table.table.table_id\n",
    "    if ex.sms != oldex.sms:\n",
    "        diff_examples.append((ex, oldex))"
   ]
  },
  {
   "cell_type": "code",
   "execution_count": 20,
   "metadata": {},
   "outputs": [
    {
     "data": {
      "application/vnd.jupyter.widget-view+json": {
       "model_id": "ed7e62c4bf9a4c02b22b2281e556c234",
       "version_major": 2,
       "version_minor": 0
      },
      "text/plain": [
       "HBox(children=(Button(description='Previous', style=ButtonStyle()), Button(description='Next', style=ButtonSty…"
      ]
     },
     "metadata": {},
     "output_type": "display_data"
    },
    {
     "data": {
      "application/vnd.jupyter.widget-view+json": {
       "model_id": "e969bcf18b3b4e3c93f9732dff3ed642",
       "version_major": 2,
       "version_minor": 0
      },
      "text/plain": [
       "Output()"
      ]
     },
     "metadata": {},
     "output_type": "display_data"
    }
   ],
   "source": [
    "from functools import partial\n",
    "\n",
    "current_it = 0\n",
    "output = widgets.Output()\n",
    "\n",
    "def new_btn(**kwargs):\n",
    "    if 'on_click' in kwargs:\n",
    "        on_click = kwargs.pop('on_click')\n",
    "    else:\n",
    "        on_click = None\n",
    "    btn = widgets.Button(**kwargs)\n",
    "    if on_click is not None:\n",
    "        btn.on_click(on_click)\n",
    "    return btn\n",
    "\n",
    "\n",
    "def nav(b, offset):\n",
    "    global current_it\n",
    "    if current_it + offset >= len(diff_examples) or current_it + offset < 0:\n",
    "        return\n",
    "    current_it += offset\n",
    "    show_example()\n",
    "\n",
    "\n",
    "def show_example():\n",
    "    with output:\n",
    "        output.clear_output()\n",
    "        ex, oldex = diff_examples[current_it]\n",
    "        print(\"Example:\", ex.table.table.table_id, \"(\", current_it + 1, \"of\", len(diff_examples), \")\")\n",
    "\n",
    "        print(\"Gold models\")\n",
    "        \n",
    "        for sm in ex.sms:\n",
    "            sm.draw()\n",
    "        print(\"Old models\")\n",
    "        for sm in oldex.sms:\n",
    "            sm.draw()\n",
    "\n",
    "display(widgets.HBox([\n",
    "        new_btn(description=\"Previous\", on_click=partial(nav, offset=-1)),\n",
    "        new_btn(description=\"Next\", on_click=partial(nav, offset=1)),\n",
    "    ]))\n",
    "display(output)\n",
    "show_example()"
   ]
  },
  {
   "cell_type": "code",
   "execution_count": null,
   "metadata": {},
   "outputs": [],
   "source": []
  }
 ],
 "metadata": {
  "kernelspec": {
   "display_name": "sm-dev",
   "language": "python",
   "name": "sm-dev"
  },
  "language_info": {
   "codemirror_mode": {
    "name": "ipython",
    "version": 3
   },
   "file_extension": ".py",
   "mimetype": "text/x-python",
   "name": "python",
   "nbconvert_exporter": "python",
   "pygments_lexer": "ipython3",
   "version": "3.9.16"
  },
  "orig_nbformat": 4
 },
 "nbformat": 4,
 "nbformat_minor": 2
}

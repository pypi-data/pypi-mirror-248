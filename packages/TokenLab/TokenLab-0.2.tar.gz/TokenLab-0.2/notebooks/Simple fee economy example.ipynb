{
 "cells": [
  {
   "cell_type": "code",
   "execution_count": 13,
   "id": "26d940f6",
   "metadata": {},
   "outputs": [
    {
     "data": {
      "application/mercury+json": "{\n    \"widget\": \"App\",\n    \"title\": \"TokenLab Demo - simple fee economy\",\n    \"description\": \"Let us show you what TokenLab can do!\",\n    \"show_code\": false,\n    \"show_prompt\": false,\n    \"share\": \"public\",\n    \"output\": \"app\",\n    \"schedule\": \"\",\n    \"notify\": \"{}\",\n    \"continuous_update\": true,\n    \"static_notebook\": false,\n    \"show_sidebar\": true,\n    \"full_screen\": true,\n    \"allow_download\": true,\n    \"model_id\": \"mercury-app\",\n    \"code_uid\": \"App.0.40.25.24-rand2071c26f\"\n}",
      "text/html": [
       "<h3>Mercury Application</h3><small>This output won't appear in the web app.</small>"
      ],
      "text/plain": [
       "mercury.App"
      ]
     },
     "metadata": {},
     "output_type": "display_data"
    }
   ],
   "source": [
    "import numpy as np\n",
    "import scipy\n",
    "import sys\n",
    "import os\n",
    "\n",
    "import pandas as pd\n",
    "\n",
    "tokenlab_path=os.path.abspath(\"\").replace('demo','src')\n",
    "sys.path.insert(0,tokenlab_path)\n",
    "#sys.path.append('/Users/stylianoskampakis/Dropbox (Personal)/Freelance/TokenLab/src/TokenLab/')\n",
    "\n",
    "from TokenLab.simulationcomponents import *\n",
    "from TokenLab.simulationcomponents.usergrowthclasses import *\n",
    "from TokenLab.simulationcomponents.transactionclasses import *\n",
    "from TokenLab.simulationcomponents.tokeneconomyclasses import *\n",
    "from TokenLab.simulationcomponents.transactionclasses import *\n",
    "from TokenLab.simulationcomponents.agentpoolclasses import *\n",
    "from TokenLab.simulationcomponents.pricingclasses import *\n",
    "from TokenLab.simulationcomponents.addons import AddOn_RandomNoise, AddOn_RandomNoiseProportional\n",
    "from TokenLab.utils.helpers import *\n",
    "from matplotlib import pyplot as plt\n",
    "\n",
    "import mercury as mr\n",
    "app = mr.App(title=\"TokenLab Demo - simple fee economy\", description=\"Let us show you what TokenLab can do!\") \n",
    "\n"
   ]
  },
  {
   "cell_type": "code",
   "execution_count": 14,
   "id": "16f58653",
   "metadata": {},
   "outputs": [],
   "source": [
    "ITERATIONS=12*5\n",
    "HOLDING_TIME=0.1\n",
    "SUPPLY=10**9\n",
    "INITIAL_PRICE=0.01"
   ]
  },
  {
   "cell_type": "code",
   "execution_count": 15,
   "id": "6f989ff2",
   "metadata": {},
   "outputs": [
    {
     "data": {
      "application/mercury+json": "{\n    \"widget\": \"Slider\",\n    \"value\": 1,\n    \"min\": 1,\n    \"max\": 100,\n    \"step\": 0,\n    \"label\": \"Noise\",\n    \"model_id\": \"cfbe7b535447491caf600620517b2230\",\n    \"code_uid\": \"Slider.0.40.16.1-rand8372f0e5\"\n}",
      "application/vnd.jupyter.widget-view+json": {
       "model_id": "cfbe7b535447491caf600620517b2230",
       "version_major": 2,
       "version_minor": 0
      },
      "text/plain": [
       "mercury.Slider"
      ]
     },
     "metadata": {},
     "output_type": "display_data"
    },
    {
     "data": {
      "application/mercury+json": "{\n    \"widget\": \"Slider\",\n    \"value\": 1,\n    \"min\": 1,\n    \"max\": 365,\n    \"step\": 0,\n    \"label\": \"Holding time (days), min=0.01\",\n    \"model_id\": \"eeb6fab5d3124bbc9e58c57d7a9c2343\",\n    \"code_uid\": \"Slider.0.40.16.4-rand95c405e6\"\n}",
      "application/vnd.jupyter.widget-view+json": {
       "model_id": "eeb6fab5d3124bbc9e58c57d7a9c2343",
       "version_major": 2,
       "version_minor": 0
      },
      "text/plain": [
       "mercury.Slider"
      ]
     },
     "metadata": {},
     "output_type": "display_data"
    },
    {
     "data": {
      "application/mercury+json": "{\n    \"widget\": \"Slider\",\n    \"value\": 500000,\n    \"min\": 100000,\n    \"max\": 5000000,\n    \"step\": 10000,\n    \"label\": \"Active Monthly Users (at year 5)\",\n    \"model_id\": \"8c58d0b5efa84b43b316be90af27dd4a\",\n    \"code_uid\": \"Slider.0.40.16.7-randd9735be8\"\n}",
      "application/vnd.jupyter.widget-view+json": {
       "model_id": "8c58d0b5efa84b43b316be90af27dd4a",
       "version_major": 2,
       "version_minor": 0
      },
      "text/plain": [
       "mercury.Slider"
      ]
     },
     "metadata": {},
     "output_type": "display_data"
    },
    {
     "data": {
      "application/mercury+json": "{\n    \"widget\": \"Slider\",\n    \"value\": 100,\n    \"min\": 10,\n    \"max\": 10000,\n    \"step\": 10,\n    \"label\": \"Supply (in millions)\",\n    \"model_id\": \"38052e51df0e4f41b8f2b92efad8f566\",\n    \"code_uid\": \"Slider.0.40.16.10-randec9128ad\"\n}",
      "application/vnd.jupyter.widget-view+json": {
       "model_id": "38052e51df0e4f41b8f2b92efad8f566",
       "version_major": 2,
       "version_minor": 0
      },
      "text/plain": [
       "mercury.Slider"
      ]
     },
     "metadata": {},
     "output_type": "display_data"
    },
    {
     "data": {
      "application/mercury+json": "{\n    \"widget\": \"Slider\",\n    \"value\": 1,\n    \"min\": 1,\n    \"max\": 10000,\n    \"step\": 1,\n    \"label\": \"Transaction fee average (div by 100)\",\n    \"model_id\": \"31d065cf65c04962abf06409ffc6d79e\",\n    \"code_uid\": \"Slider.0.40.16.13-rand5dd1cc93\"\n}",
      "application/vnd.jupyter.widget-view+json": {
       "model_id": "31d065cf65c04962abf06409ffc6d79e",
       "version_major": 2,
       "version_minor": 0
      },
      "text/plain": [
       "mercury.Slider"
      ]
     },
     "metadata": {},
     "output_type": "display_data"
    },
    {
     "data": {
      "application/mercury+json": "{\n    \"widget\": \"Select\",\n    \"value\": \"linear\",\n    \"choices\": [\n        \"linear\",\n        \"logistic\"\n    ],\n    \"label\": \"Growth type\",\n    \"model_id\": \"5de1afaeff944e56b1cb8f3ce574d507\",\n    \"code_uid\": \"Select.0.40.14.16-rand4cfc08fe\"\n}",
      "application/vnd.jupyter.widget-view+json": {
       "model_id": "5de1afaeff944e56b1cb8f3ce574d507",
       "version_major": 2,
       "version_minor": 0
      },
      "text/plain": [
       "mercury.Select"
      ]
     },
     "metadata": {},
     "output_type": "display_data"
    }
   ],
   "source": [
    "noise_param_value = mr.Slider(label=\"Noise\", value=1, min=1, \n",
    "                              max=100,step=0.05)\n",
    "\n",
    "holding_time_constant_value=mr.Slider(label=\"Holding time (days), min=0.01\", value=1, min=1, \n",
    "                              max=365,step=0.05)\n",
    "\n",
    "max_users_slider=mr.Slider(label=\"Active Monthly Users (at year 5)\", value=500000, min=100000, \n",
    "                              max=5000000,step=10000)\n",
    "\n",
    "supply_slider=mr.Slider(label=\"Supply (in millions)\", value=100, min=10, \n",
    "                              max=10000,step=10)\n",
    "\n",
    "transaction_fee_slider=mr.Slider(label=\"Transaction fee average (div by 100)\", value=1, min=1, \n",
    "                              max=10000,step=1)\n",
    "\n",
    "growth = mr.Select(label=\"Growth type\", value=\"linear\", choices=[\"linear\", \"logistic\"])\n"
   ]
  },
  {
   "cell_type": "code",
   "execution_count": 16,
   "id": "248878fc",
   "metadata": {},
   "outputs": [],
   "source": [
    "SUPPLY=supply_slider.value*(10**6)"
   ]
  },
  {
   "cell_type": "code",
   "execution_count": 17,
   "id": "653eaa5b",
   "metadata": {},
   "outputs": [
    {
     "data": {
      "text/markdown": [
       "## Token Economy Simulation 🚀\n",
       "\n",
       "This notebook simulates a simply token economy that is based only on transaction fees. This is used to demonstrate\n",
       "TokenLab's capabilities.\n",
       "\n",
       "TokenLab combines different elements of sochastic modelling with the purpose to simulate token price.\n",
       "\n",
       "In this notebook we conduct 100 iterations of a 60-month long simulation of a token economy that is growing.\n",
       "The simulation combines different elements such as the type of user growth (linear or logistic), the size of transactions,\n",
       "the holding time and more.\n",
       "\n",
       "The parameters are explored in more depth below. What is key to remember is that this is only a demonstration of\n",
       "TokenLab's capabilities. TokenLab supports many different methods to simulate user growth, transactions, \n",
       "price estimation, and pretty much everything needed to simulate a tokenomics project!\n",
       "\n",
       "Parameter details:\n",
       "\n",
       "1) Holding time: The holding time is sampled from a half-normal with loc=scale.\n",
       "\n",
       "2) The transaction fee slider determines the expected value of the average transaction. \n",
       "These are sampled from a half-normal distribution with location=scale.\n",
       "\n",
       "3) The average number of transactions per user is sampled from a half-normal, with loc=0 and scale=0.5\n",
       "\n",
       "4) The starting number of users is 100k.\n",
       "\n",
       "5) Pricing equation uses the equation of exchange, with an anchoring effect which pushes the price \n",
       "down towards its older values. This is a more realistic assumption, as opposed to the real equation-of-exchange.\n",
       "\n"
      ],
      "text/plain": [
       "<IPython.core.display.Markdown object>"
      ]
     },
     "metadata": {},
     "output_type": "display_data"
    }
   ],
   "source": [
    "\n",
    "mr.Markdown(\"\"\"## Token Economy Simulation 🚀\n",
    "\n",
    "This notebook simulates a simply token economy that is based only on transaction fees. This is used to demonstrate\n",
    "TokenLab's capabilities.\n",
    "\n",
    "TokenLab combines different elements of sochastic modelling with the purpose to simulate token price.\n",
    "\n",
    "In this notebook we conduct 100 iterations of a 60-month long simulation of a token economy that is growing.\n",
    "The simulation combines different elements such as the type of user growth (linear or logistic), the size of transactions,\n",
    "the holding time and more.\n",
    "\n",
    "The parameters are explored in more depth below. What is key to remember is that this is only a demonstration of\n",
    "TokenLab's capabilities. TokenLab supports many different methods to simulate user growth, transactions, \n",
    "price estimation, and pretty much everything needed to simulate a tokenomics project!\n",
    "\n",
    "Parameter details:\n",
    "\n",
    "1) Holding time: The holding time is sampled from a half-normal with loc=scale.\n",
    "\n",
    "2) The transaction fee slider determines the expected value of the average transaction. \n",
    "These are sampled from a half-normal distribution with location=scale.\n",
    "\n",
    "3) The average number of transactions per user is sampled from a half-normal, with loc=0 and scale=0.5\n",
    "\n",
    "4) The starting number of users is 100k.\n",
    "\n",
    "5) Pricing equation uses the equation of exchange, with an anchoring effect which pushes the price \n",
    "down towards its older values. This is a more realistic assumption, as opposed to the real equation-of-exchange.\n",
    "\n",
    "\"\"\")"
   ]
  },
  {
   "cell_type": "code",
   "execution_count": 18,
   "id": "2a36e952",
   "metadata": {},
   "outputs": [],
   "source": [
    "random_noise=AddOn_RandomNoiseProportional(std_param=noise_param_value.value*0.1)\n",
    "\n",
    "lr=lambda start,stop,num : logistic_saturated_space(start=start,stop=stop,num=num,steepness=4,takeoff=3)\n",
    "\n",
    "if growth.value=='logistic':\n",
    "    users=UserGrowth_Spaced(initial_users=100000,max_users=max_users_slider.value,num_steps=60,\n",
    "                            space_function=lr,\n",
    "                            noise_addon=random_noise\n",
    "                           )\n",
    "else:\n",
    "    users=UserGrowth_Spaced(initial_users=100000,max_users=max_users_slider.value,num_steps=60,\n",
    "                        noise_addon=random_noise\n",
    "                       )\n"
   ]
  },
  {
   "cell_type": "code",
   "execution_count": 19,
   "id": "d997f6a6",
   "metadata": {},
   "outputs": [],
   "source": [
    "trans=transaction_fee_slider.value/10"
   ]
  },
  {
   "cell_type": "code",
   "execution_count": 20,
   "id": "bbc30084",
   "metadata": {},
   "outputs": [],
   "source": [
    "transactions=TransactionManagement_Stochastic(value_distribution=scipy.stats.norm,\n",
    "                                             value_dist_parameters={'loc':trans,'scale':trans},\n",
    "                                              transactions_distribution=scipy.stats.halfnorm,\n",
    "                                              transactions_dist_parameters={'loc':0,'scale':0.2},\n",
    "                                              #transactions_constant=1,\n",
    "                                              activity_probs=1,\n",
    "                                             type_transaction='positive')\n",
    "\n"
   ]
  },
  {
   "cell_type": "code",
   "execution_count": 21,
   "id": "336d21a8",
   "metadata": {},
   "outputs": [],
   "source": [
    "#plt.hist(scipy.stats.halfnorm.rvs(loc=1,scale=1,size=1000))"
   ]
  },
  {
   "cell_type": "code",
   "execution_count": 22,
   "id": "a74ba9f6",
   "metadata": {},
   "outputs": [],
   "source": [
    "#plt.plot(users.get_users_store())"
   ]
  },
  {
   "cell_type": "code",
   "execution_count": 23,
   "id": "1c8f676e",
   "metadata": {},
   "outputs": [],
   "source": [
    "#holding_time=HoldingTime_Constant(holding_time_constant_value.value)\n",
    "holding_time=HoldingTime_Stochastic(holding_time_params={'loc':holding_time_constant_value.value/30,\n",
    "                                                         'scale':holding_time_constant_value.value/30})"
   ]
  },
  {
   "cell_type": "code",
   "execution_count": 25,
   "id": "d79c4956",
   "metadata": {},
   "outputs": [
    {
     "name": "stderr",
     "output_type": "stream",
     "text": [
      "100%|█████████████████████████████████████████| 100/100 [00:06<00:00, 16.48it/s]\n"
     ]
    },
    {
     "data": {
      "image/png": "[encoded data removed]",
      "text/plain": [
       "<Figure size 640x480 with 1 Axes>"
      ]
     },
     "metadata": {},
     "output_type": "display_data"
    }
   ],
   "source": [
    "\n",
    "\n",
    "ap_fiat=AgentPool_Basic(users_controller=users,transactions_controller=transactions,currency='$')\n",
    "\n",
    "\n",
    "te=TokenEconomy_Basic(holding_time=holding_time,supply=SUPPLY,token='tokenA',\n",
    "                      initial_price=INITIAL_PRICE,burn_token=True,\n",
    "                      price_function_parameters={'smoothing_param':0.1})\n",
    "te.add_agent_pools([ap_fiat])\n",
    "\n",
    "meta=TokenMetaSimulator(te)\n",
    "meta.execute(iterations=ITERATIONS,repetitions=100)\n",
    "reps=meta.get_data()\n",
    "\n",
    "_=meta.get_timeseries('tokenA_price',use_std=False)"
   ]
  },
  {
   "cell_type": "code",
   "execution_count": null,
   "id": "35476c21",
   "metadata": {},
   "outputs": [],
   "source": []
  }
 ],
 "metadata": {
  "kernelspec": {
   "display_name": "Python 3 (ipykernel)",
   "language": "python",
   "name": "python3"
  },
  "language_info": {
   "codemirror_mode": {
    "name": "ipython",
    "version": 3
   },
   "file_extension": ".py",
   "mimetype": "text/x-python",
   "name": "python",
   "nbconvert_exporter": "python",
   "pygments_lexer": "ipython3",
   "version": "3.9.16"
  }
 },
 "nbformat": 4,
 "nbformat_minor": 5
}

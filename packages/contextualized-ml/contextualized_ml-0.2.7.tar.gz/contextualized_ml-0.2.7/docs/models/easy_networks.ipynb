{
 "cells": [
  {
   "cell_type": "markdown",
   "id": "6e32bc2f",
   "metadata": {},
   "source": [
    "# Contextualized Networks"
   ]
  },
  {
   "cell_type": "markdown",
   "id": "4087adcb",
   "metadata": {},
   "source": [
    "Just like we can make context-specific regression/classification models for supervised training,\n",
    "we can also make context-specific networks for unsupervised training.\n",
    "\n",
    "There are currently three types of networks available:\n",
    "- [Correlation Networks](./easy_correlation_networks.html)\n",
    "- [Markov Networks](./easy_markov_networks.html)\n",
    "- [Bayesian Networks](./easy_bayesian_networks.html)"
   ]
  },
  {
   "cell_type": "code",
   "execution_count": null,
   "id": "d2a5b8c2",
   "metadata": {},
   "outputs": [],
   "source": []
  }
 ],
 "metadata": {
  "kernelspec": {
   "display_name": "Python 3 (ipykernel)",
   "language": "python",
   "name": "python3"
  },
  "language_info": {
   "codemirror_mode": {
    "name": "ipython",
    "version": 3
   },
   "file_extension": ".py",
   "mimetype": "text/x-python",
   "name": "python",
   "nbconvert_exporter": "python",
   "pygments_lexer": "ipython3",
   "version": "3.10.9"
  }
 },
 "nbformat": 4,
 "nbformat_minor": 5
}

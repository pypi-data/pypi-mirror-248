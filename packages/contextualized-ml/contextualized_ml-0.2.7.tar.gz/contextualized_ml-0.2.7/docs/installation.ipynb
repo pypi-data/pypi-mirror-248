{
 "cells": [
  {
   "cell_type": "markdown",
   "id": "perfect-gossip",
   "metadata": {},
   "source": [
    "# Installation\n",
    "\n",
    "````{tab-set}\n",
    "\n",
    "```{tab-item} pip\n",
    "\n",
    "`\n",
    "pip install contextualized-ml\n",
    "`\n",
    "\n",
    "```\n",
    "\n",
    "```{tab-item} source\n",
    "`\n",
    "git clone https://github.com/cnellington/contextualized.git && pip install -e .\n",
    "`\n",
    "```\n",
    "\n",
    "````\n",
    "\n",
    "Now, let's walk through an example of Contextualized analysis."
   ]
  },
  {
   "cell_type": "code",
   "execution_count": null,
   "id": "9dce20f5",
   "metadata": {},
   "outputs": [],
   "source": []
  }
 ],
 "metadata": {
  "celltoolbar": "Tags",
  "kernelspec": {
   "display_name": "Python 3 (ipykernel)",
   "language": "python",
   "name": "python3"
  },
  "language_info": {
   "codemirror_mode": {
    "name": "ipython",
    "version": 3
   },
   "file_extension": ".py",
   "mimetype": "text/x-python",
   "name": "python",
   "nbconvert_exporter": "python",
   "pygments_lexer": "ipython3",
   "version": "3.10.8"
  }
 },
 "nbformat": 4,
 "nbformat_minor": 5
}

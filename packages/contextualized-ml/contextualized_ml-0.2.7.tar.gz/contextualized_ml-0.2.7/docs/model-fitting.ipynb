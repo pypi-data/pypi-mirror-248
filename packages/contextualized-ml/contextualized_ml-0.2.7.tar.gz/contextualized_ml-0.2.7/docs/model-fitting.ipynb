{
 "cells": [
  {
   "cell_type": "markdown",
   "id": "perfect-gossip",
   "metadata": {},
   "source": [
    "# Fitting Contextualized Models\n",
    "\n",
    "Let's walk through an example of Contextualized analysis."
   ]
  },
  {
   "cell_type": "markdown",
   "id": "convenient-karma",
   "metadata": {},
   "source": [
    "# Download and Prepare Data\n",
    "\n",
    "First, we will load the data into a standard pandas dataframe or a numpy array, and create a train / test split. There's only 1 step of preprocessing required: deciding the context variables.."
   ]
  },
  {
   "cell_type": "markdown",
   "id": "empty-wisdom",
   "metadata": {},
   "source": [
    "````{margin}\n",
    "```{note}\n",
    "**Deciding context variables is an experiment-driven question.**\n",
    "\n",
    "Since we will typically interpret the contextualized models in terms of the predictor, it's often helpful to use interpretable variables as the predictors.\n",
    "\n",
    "In this example, we will use age, sex, and BMI as the contexts to look for context-specific predictors of diabetes progression.\n",
    "```\n",
    "````"
   ]
  },
  {
   "cell_type": "code",
   "execution_count": 1,
   "id": "grand-angle",
   "metadata": {},
   "outputs": [],
   "source": [
    "import numpy as np\n",
    "import pandas as pd\n",
    "from sklearn.model_selection import train_test_split\n",
    "from sklearn.datasets import load_diabetes\n",
    "\n",
    "X, Y = load_diabetes(return_X_y=True, as_frame=True)\n",
    "Y = np.expand_dims(Y.values, axis=-1)\n",
    "C = X[['age', 'sex', 'bmi']]\n",
    "X.drop(['age', 'sex', 'bmi'], axis=1, inplace=True)\n",
    "\n",
    "seed = 1\n",
    "C_train, C_test, X_train, X_test, Y_train, Y_test = train_test_split(C, X, Y, test_size=0.20, random_state=seed)"
   ]
  },
  {
   "cell_type": "markdown",
   "id": "shaped-calcium",
   "metadata": {},
   "source": [
    "# Train a Contextualized Model\n",
    "\n",
    "Contextualized models follow an sklearn-like interface to make training easy."
   ]
  },
  {
   "cell_type": "markdown",
   "id": "550ebdef",
   "metadata": {},
   "source": [
    "````{margin}\n",
    "```{note}\n",
    "Common constructor keywords include:\n",
    "\n",
    "- n_bootstraps: The integer number of bootstrap runs to fit.\n",
    "- encoder_type: 'mlp' or 'ngam', which type of model to make as context encoder.\n",
    "- alpha: non-negative float, regularization strength.\n",
    "- mu_ratio: float in range (0.0, 1.0), governs how much the regularization applies to context-specific parameters or context-specific offsets.\n",
    "- l1_ratio: float in range (0.0, 1.0), governs how much the regularization penalizes l1 vs l2 parameter norms.\n",
    "\n",
    "Common fitting keywords include:\n",
    "\n",
    "- max_epochs: positive number, the maximum number of epochs to fit. Early stopping is turned on by default.\n",
    "- learning_rate: positive float, default is 1e-3.\n",
    "```\n",
    "````"
   ]
  },
  {
   "cell_type": "code",
   "execution_count": 2,
   "id": "af41a81d",
   "metadata": {
    "scrolled": true
   },
   "outputs": [],
   "source": [
    "%%capture\n",
    "from contextualized.easy import ContextualizedRegressor\n",
    "model = ContextualizedRegressor(n_bootstraps=10)\n",
    "model.fit(C_train.values, X_train.values, Y_train,\n",
    "          encoder_type=\"mlp\", max_epochs=3,\n",
    "          learning_rate=1e-2)"
   ]
  },
  {
   "cell_type": "markdown",
   "id": "aa62ba84",
   "metadata": {},
   "source": [
    "# Save the trained model."
   ]
  },
  {
   "cell_type": "code",
   "execution_count": 3,
   "id": "16a1bd39",
   "metadata": {},
   "outputs": [],
   "source": [
    "from contextualized.utils import save, load\n",
    "\n",
    "save_path = './easy_demo_model.pt'\n",
    "save(model, path=save_path)"
   ]
  },
  {
   "cell_type": "markdown",
   "id": "3869187a",
   "metadata": {},
   "source": [
    "## The model can be re-loaded with:"
   ]
  },
  {
   "cell_type": "code",
   "execution_count": 4,
   "id": "f19c3c58",
   "metadata": {},
   "outputs": [],
   "source": [
    "model = load(save_path)"
   ]
  },
  {
   "cell_type": "markdown",
   "id": "64283f2c",
   "metadata": {},
   "source": [
    "## In the next step, we will analyze what this model has learned."
   ]
  }
 ],
 "metadata": {
  "celltoolbar": "Tags",
  "kernelspec": {
   "display_name": "Python 3 (ipykernel)",
   "language": "python",
   "name": "python3"
  },
  "language_info": {
   "codemirror_mode": {
    "name": "ipython",
    "version": 3
   },
   "file_extension": ".py",
   "mimetype": "text/x-python",
   "name": "python",
   "nbconvert_exporter": "python",
   "pygments_lexer": "ipython3",
   "version": "3.10.9"
  }
 },
 "nbformat": 4,
 "nbformat_minor": 5
}

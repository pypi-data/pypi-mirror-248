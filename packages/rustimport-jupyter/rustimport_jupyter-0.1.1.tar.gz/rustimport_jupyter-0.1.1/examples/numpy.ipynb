{
 "cells": [
  {
   "cell_type": "markdown",
   "metadata": {},
   "source": [
    "# NumPy with `rustimport_jupyter`"
   ]
  },
  {
   "cell_type": "markdown",
   "metadata": {},
   "source": [
    "For Google colab, we install [rustimport_jupyter](https://github.com/thomasjpfan/rustimport_jupyter) and the rust toolchain:"
   ]
  },
  {
   "cell_type": "code",
   "execution_count": 1,
   "metadata": {},
   "outputs": [],
   "source": [
    "import os\n",
    "import sys\n",
    "\n",
    "IN_COLAB = \"google.colab\" in sys.modules\n",
    "if IN_COLAB:\n",
    "    %pip install rustimport_jupyter\n",
    "    !curl --proto '=https' --tlsv1.2 -sSf https://sh.rustup.rs | sh -s -- -y\n",
    "    os.environ[\"PATH\"] += \":/root/.cargo/bin\""
   ]
  },
  {
   "cell_type": "code",
   "execution_count": 3,
   "metadata": {},
   "outputs": [],
   "source": [
    "%load_ext rustimport_jupyter"
   ]
  },
  {
   "cell_type": "markdown",
   "metadata": {},
   "source": [
    "## Simple NumPy Function Written in Rust"
   ]
  },
  {
   "cell_type": "markdown",
   "metadata": {},
   "source": [
    "Based on the example from [PyO3/rust-numpy](https://github.com/PyO3/rust-numpy#example), we define a NumPy function that computes `a*x+y`:"
   ]
  },
  {
   "cell_type": "code",
   "execution_count": 5,
   "metadata": {},
   "outputs": [
    {
     "name": "stderr",
     "output_type": "stream",
     "text": [
      "\u001b[1m\u001b[32m    Updating\u001b[0m crates.io index\n",
      "\u001b[1m\u001b[32m   Compiling\u001b[0m autocfg v1.1.0\n",
      "\u001b[1m\u001b[32m   Compiling\u001b[0m target-lexicon v0.12.12\n",
      "\u001b[1m\u001b[32m   Compiling\u001b[0m once_cell v1.19.0\n",
      "\u001b[1m\u001b[32m   Compiling\u001b[0m proc-macro2 v1.0.71\n",
      "\u001b[1m\u001b[32m   Compiling\u001b[0m libc v0.2.151\n",
      "\u001b[1m\u001b[32m   Compiling\u001b[0m unicode-ident v1.0.12\n",
      "\u001b[1m\u001b[32m   Compiling\u001b[0m parking_lot_core v0.9.9\n",
      "\u001b[1m\u001b[32m   Compiling\u001b[0m heck v0.4.1\n",
      "\u001b[1m\u001b[32m   Compiling\u001b[0m scopeguard v1.2.0\n",
      "\u001b[1m\u001b[32m   Compiling\u001b[0m smallvec v1.11.2\n",
      "\u001b[1m\u001b[32m   Compiling\u001b[0m cfg-if v1.0.0\n",
      "\u001b[1m\u001b[32m   Compiling\u001b[0m rawpointer v0.2.1\n",
      "\u001b[1m\u001b[32m   Compiling\u001b[0m indoc v2.0.4\n",
      "\u001b[1m\u001b[32m   Compiling\u001b[0m unindent v0.2.3\n",
      "\u001b[1m\u001b[32m   Compiling\u001b[0m rustc-hash v1.1.0\n",
      "\u001b[1m\u001b[32m   Compiling\u001b[0m num-traits v0.2.17\n",
      "\u001b[1m\u001b[32m   Compiling\u001b[0m lock_api v0.4.11\n",
      "\u001b[1m\u001b[32m   Compiling\u001b[0m memoffset v0.9.0\n",
      "\u001b[1m\u001b[32m   Compiling\u001b[0m matrixmultiply v0.3.8\n",
      "\u001b[1m\u001b[32m   Compiling\u001b[0m num-integer v0.1.45\n",
      "\u001b[1m\u001b[32m   Compiling\u001b[0m quote v1.0.33\n",
      "\u001b[1m\u001b[32m   Compiling\u001b[0m pyo3-build-config v0.20.0\n",
      "\u001b[1m\u001b[32m   Compiling\u001b[0m syn v2.0.43\n",
      "\u001b[1m\u001b[32m   Compiling\u001b[0m parking_lot v0.12.1\n",
      "\u001b[1m\u001b[32m   Compiling\u001b[0m num-complex v0.4.4\n",
      "\u001b[1m\u001b[32m   Compiling\u001b[0m ndarray v0.15.6\n",
      "\u001b[1m\u001b[32m   Compiling\u001b[0m pyo3-ffi v0.20.0\n",
      "\u001b[1m\u001b[32m   Compiling\u001b[0m pyo3 v0.20.0\n",
      "\u001b[1m\u001b[32m   Compiling\u001b[0m pyo3-macros-backend v0.20.0\n",
      "\u001b[1m\u001b[32m   Compiling\u001b[0m pyo3-macros v0.20.0\n",
      "\u001b[1m\u001b[32m   Compiling\u001b[0m numpy v0.20.0\n",
      "\u001b[1m\u001b[32m   Compiling\u001b[0m _magic_db00aa133684961d v0.1.0 (/private/var/folders/9l/pvs3_wlj23z_qxd4m8dv9w300000gn/T/rustimport/_magic_db00aa133684961d-d6ab11c40416bc76a6c4505bc116bbba/_magic_db00aa133684961d)\n",
      "\u001b[1m\u001b[32m    Finished\u001b[0m release [optimized] target(s) in 4.68s\n"
     ]
    }
   ],
   "source": [
    "%%rustimport --release\n",
    "//: [dependencies]\n",
    "//: pyo3 = { version = \"0.20\", features = [\"extension-module\"] }\n",
    "//: numpy = \"0.20\"\n",
    "\n",
    "use pyo3::prelude::*;\n",
    "use numpy::ndarray::{ArrayD, ArrayViewD};\n",
    "use numpy::{IntoPyArray, PyArrayDyn, PyReadonlyArrayDyn};\n",
    "\n",
    "fn axpy(a: f64, x: ArrayViewD<'_, f64>, y: ArrayViewD<'_, f64>) -> ArrayD<f64> {\n",
    "    a * &x + &y\n",
    "}\n",
    "\n",
    "#[pyfunction]\n",
    "#[pyo3(name = \"axpy\")]\n",
    "fn axpy_py<'py>(\n",
    "    py: Python<'py>,\n",
    "    a: f64,\n",
    "    x: PyReadonlyArrayDyn<'py, f64>,\n",
    "    y: PyReadonlyArrayDyn<'py, f64>,\n",
    ") -> &'py PyArrayDyn<f64> {\n",
    "    let x = x.as_array();\n",
    "    let y = y.as_array();\n",
    "    let z = axpy(a, x, y);\n",
    "    z.into_pyarray(py)\n",
    "}"
   ]
  },
  {
   "cell_type": "markdown",
   "metadata": {},
   "source": [
    "Using `pyo3(name=axpy)`, the public python function is named `axpy`, which is available in the notebook environment:"
   ]
  },
  {
   "cell_type": "code",
   "execution_count": 6,
   "metadata": {},
   "outputs": [
    {
     "data": {
      "text/plain": [
       "array([ 6.5, 12.2, 13.6])"
      ]
     },
     "execution_count": 6,
     "metadata": {},
     "output_type": "execute_result"
    }
   ],
   "source": [
    "import numpy as np\n",
    "\n",
    "a = 4.4\n",
    "x = np.array([1.0, 3.0, 4.0], dtype=np.float64)\n",
    "y = np.array([2.1, -1.0, -4.0], dtype=np.float64)\n",
    "\n",
    "axpy(a, x, y)"
   ]
  }
 ],
 "metadata": {
  "kernelspec": {
   "display_name": "rustimport-jupyter",
   "language": "python",
   "name": "python3"
  },
  "language_info": {
   "codemirror_mode": {
    "name": "ipython",
    "version": 3
   },
   "file_extension": ".py",
   "mimetype": "text/x-python",
   "name": "python",
   "nbconvert_exporter": "python",
   "pygments_lexer": "ipython3",
   "version": "3.11.7"
  }
 },
 "nbformat": 4,
 "nbformat_minor": 2
}

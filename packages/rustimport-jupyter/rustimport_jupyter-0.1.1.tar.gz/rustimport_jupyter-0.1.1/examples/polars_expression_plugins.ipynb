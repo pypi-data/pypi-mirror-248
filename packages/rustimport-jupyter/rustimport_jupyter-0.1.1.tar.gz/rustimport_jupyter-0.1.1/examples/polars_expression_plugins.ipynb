{
 "cells": [
  {
   "cell_type": "markdown",
   "metadata": {},
   "source": [
    "# Polar Expression Plugins with `rustimport_jupyter`"
   ]
  },
  {
   "cell_type": "markdown",
   "metadata": {},
   "source": [
    "For Google colab, we install [rustimport_jupyter](https://github.com/thomasjpfan/rustimport_jupyter) and the rust toolchain:"
   ]
  },
  {
   "cell_type": "code",
   "execution_count": 1,
   "metadata": {},
   "outputs": [],
   "source": [
    "import os\n",
    "import sys\n",
    "\n",
    "IN_COLAB = \"google.colab\" in sys.modules\n",
    "if IN_COLAB:\n",
    "    %pip install rustimport_jupyter polars==0.20.2\n",
    "    !curl --proto '=https' --tlsv1.2 -sSf https://sh.rustup.rs | sh -s -- -y\n",
    "    os.environ[\"PATH\"] += \":/root/.cargo/bin\""
   ]
  },
  {
   "cell_type": "code",
   "execution_count": 1,
   "metadata": {},
   "outputs": [],
   "source": [
    "%load_ext rustimport_jupyter"
   ]
  },
  {
   "cell_type": "markdown",
   "metadata": {},
   "source": [
    "## Define the polars expression"
   ]
  },
  {
   "cell_type": "markdown",
   "metadata": {},
   "source": [
    "As show in [Polar's documentation](https://pola-rs.github.io/polars/user-guide/expressions/plugins/), we can define a pig-latin expression in rust. We'll need the compiled module later, so we set `--module-path-variable=polars_pig_latin_module`:"
   ]
  },
  {
   "cell_type": "code",
   "execution_count": 4,
   "metadata": {},
   "outputs": [
    {
     "name": "stderr",
     "output_type": "stream",
     "text": [
      "\u001b[1m\u001b[32m    Updating\u001b[0m crates.io index\n",
      "\u001b[1m\u001b[32m   Compiling\u001b[0m autocfg v1.1.0\n",
      "\u001b[1m\u001b[32m   Compiling\u001b[0m version_check v0.9.4\n",
      "\u001b[1m\u001b[32m   Compiling\u001b[0m libc v0.2.151\n",
      "\u001b[1m\u001b[32m   Compiling\u001b[0m proc-macro2 v1.0.71\n",
      "\u001b[1m\u001b[32m   Compiling\u001b[0m unicode-ident v1.0.12\n",
      "\u001b[1m\u001b[32m   Compiling\u001b[0m libm v0.2.8\n",
      "\u001b[1m\u001b[32m   Compiling\u001b[0m crossbeam-utils v0.8.18\n",
      "\u001b[1m\u001b[32m   Compiling\u001b[0m rayon-core v1.12.0\n",
      "\u001b[1m\u001b[32m   Compiling\u001b[0m cfg-if v1.0.0\n",
      "\u001b[1m\u001b[32m   Compiling\u001b[0m thiserror v1.0.52\n",
      "\u001b[1m\u001b[32m   Compiling\u001b[0m target-features v0.1.5\n",
      "\u001b[1m\u001b[32m   Compiling\u001b[0m syn v1.0.109\n",
      "\u001b[1m\u001b[32m   Compiling\u001b[0m once_cell v1.19.0\n",
      "\u001b[1m\u001b[32m   Compiling\u001b[0m heck v0.4.1\n",
      "\u001b[1m\u001b[32m   Compiling\u001b[0m memchr v2.6.4\n",
      "\u001b[1m\u001b[32m   Compiling\u001b[0m either v1.9.0\n",
      "\u001b[1m\u001b[32m   Compiling\u001b[0m zerocopy v0.7.32\n",
      "\u001b[1m\u001b[32m   Compiling\u001b[0m rustversion v1.0.14\n",
      "\u001b[1m\u001b[32m   Compiling\u001b[0m regex-syntax v0.8.2\n",
      "\u001b[1m\u001b[32m   Compiling\u001b[0m parking_lot_core v0.9.9\n",
      "\u001b[1m\u001b[32m   Compiling\u001b[0m ahash v0.8.6\n",
      "\u001b[1m\u001b[32m   Compiling\u001b[0m smartstring v1.0.1\n",
      "\u001b[1m\u001b[32m   Compiling\u001b[0m polars-utils v0.35.4\n",
      "\u001b[1m\u001b[32m   Compiling\u001b[0m num-traits v0.2.17\n",
      "\u001b[1m\u001b[32m   Compiling\u001b[0m aho-corasick v1.1.2\n",
      "\u001b[1m\u001b[32m   Compiling\u001b[0m lock_api v0.4.11\n",
      "\u001b[1m\u001b[32m   Compiling\u001b[0m quote v1.0.33\n",
      "\u001b[1m\u001b[32m   Compiling\u001b[0m getrandom v0.2.11\n",
      "\u001b[1m\u001b[32m   Compiling\u001b[0m syn v2.0.43\n",
      "\u001b[1m\u001b[32m   Compiling\u001b[0m crossbeam-epoch v0.9.17\n",
      "\u001b[1m\u001b[32m   Compiling\u001b[0m smallvec v1.11.2\n",
      "\u001b[1m\u001b[32m   Compiling\u001b[0m scopeguard v1.2.0\n",
      "\u001b[1m\u001b[32m   Compiling\u001b[0m core-foundation-sys v0.8.6\n",
      "\u001b[1m\u001b[32m   Compiling\u001b[0m allocator-api2 v0.2.16\n",
      "\u001b[1m\u001b[32m   Compiling\u001b[0m crossbeam-deque v0.8.4\n",
      "\u001b[1m\u001b[32m   Compiling\u001b[0m iana-time-zone v0.1.58\n",
      "\u001b[1m\u001b[32m   Compiling\u001b[0m regex-automata v0.4.3\n",
      "\u001b[1m\u001b[32m   Compiling\u001b[0m equivalent v1.0.1\n",
      "\u001b[1m\u001b[32m   Compiling\u001b[0m simdutf8 v0.1.4\n",
      "\u001b[1m\u001b[32m   Compiling\u001b[0m static_assertions v1.1.0\n",
      "\u001b[1m\u001b[32m   Compiling\u001b[0m target-lexicon v0.12.12\n",
      "\u001b[1m\u001b[32m   Compiling\u001b[0m chrono v0.4.31\n",
      "\u001b[1m\u001b[32m   Compiling\u001b[0m rayon v1.8.0\n",
      "\u001b[1m\u001b[32m   Compiling\u001b[0m parking_lot v0.12.1\n",
      "\u001b[1m\u001b[32m   Compiling\u001b[0m rand_core v0.6.4\n",
      "\u001b[1m\u001b[32m   Compiling\u001b[0m ppv-lite86 v0.2.17\n",
      "\u001b[1m\u001b[32m   Compiling\u001b[0m itoa v1.0.10\n",
      "\u001b[1m\u001b[32m   Compiling\u001b[0m atoi_simd v0.15.5\n",
      "\u001b[1m\u001b[32m   Compiling\u001b[0m rand_chacha v0.3.1\n",
      "\u001b[1m\u001b[32m   Compiling\u001b[0m streaming-iterator v0.1.9\n",
      "\u001b[1m\u001b[32m   Compiling\u001b[0m strength_reduce v0.2.4\n",
      "\u001b[1m\u001b[32m   Compiling\u001b[0m bitflags v2.4.1\n",
      "\u001b[1m\u001b[32m   Compiling\u001b[0m ryu v1.0.16\n",
      "\u001b[1m\u001b[32m   Compiling\u001b[0m dyn-clone v1.0.16\n",
      "\u001b[1m\u001b[32m   Compiling\u001b[0m ethnum v1.5.0\n",
      "\u001b[1m\u001b[32m   Compiling\u001b[0m foreign_vec v0.1.0\n",
      "\u001b[1m\u001b[32m   Compiling\u001b[0m fast-float v0.2.0\n",
      "\u001b[1m\u001b[32m   Compiling\u001b[0m pyo3-build-config v0.20.0\n",
      "\u001b[1m\u001b[32m   Compiling\u001b[0m crossterm v0.27.0\n",
      "\u001b[1m\u001b[32m   Compiling\u001b[0m rand v0.8.5\n",
      "\u001b[1m\u001b[32m   Compiling\u001b[0m polars-core v0.35.4\n",
      "\u001b[1m\u001b[32m   Compiling\u001b[0m regex v1.10.2\n",
      "\u001b[1m\u001b[32m   Compiling\u001b[0m hashbrown v0.14.3\n",
      "\u001b[1m\u001b[32m   Compiling\u001b[0m strum v0.25.0\n",
      "\u001b[1m\u001b[32m   Compiling\u001b[0m unicode-width v0.1.11\n",
      "\u001b[1m\u001b[32m   Compiling\u001b[0m rand_distr v0.4.3\n",
      "\u001b[1m\u001b[32m   Compiling\u001b[0m indexmap v2.1.0\n",
      "\u001b[1m\u001b[32m   Compiling\u001b[0m xxhash-rust v0.8.8\n",
      "\u001b[1m\u001b[32m   Compiling\u001b[0m polars-ops v0.35.4\n",
      "\u001b[1m\u001b[32m   Compiling\u001b[0m argminmax v0.6.1\n",
      "\u001b[1m\u001b[32m   Compiling\u001b[0m polars-plan v0.35.4\n",
      "\u001b[1m\u001b[32m   Compiling\u001b[0m now v0.1.3\n",
      "\u001b[1m\u001b[32m   Compiling\u001b[0m atoi v2.0.0\n",
      "\u001b[1m\u001b[32m   Compiling\u001b[0m num-integer v0.1.45\n",
      "\u001b[1m\u001b[32m   Compiling\u001b[0m memmap2 v0.7.1\n",
      "\u001b[1m\u001b[32m   Compiling\u001b[0m num-bigint v0.4.4\n",
      "\u001b[1m\u001b[32m   Compiling\u001b[0m memoffset v0.9.0\n",
      "\u001b[1m\u001b[32m   Compiling\u001b[0m percent-encoding v2.3.1\n",
      "\u001b[1m\u001b[32m   Compiling\u001b[0m bytes v1.5.0\n",
      "\u001b[1m\u001b[32m   Compiling\u001b[0m home v0.5.9\n",
      "\u001b[1m\u001b[32m   Compiling\u001b[0m pyo3-ffi v0.20.0\n",
      "\u001b[1m\u001b[32m   Compiling\u001b[0m serde v1.0.193\n",
      "\u001b[1m\u001b[32m   Compiling\u001b[0m pyo3 v0.20.0\n",
      "\u001b[1m\u001b[32m   Compiling\u001b[0m thiserror-impl v1.0.52\n",
      "\u001b[1m\u001b[32m   Compiling\u001b[0m bytemuck_derive v1.5.0\n",
      "\u001b[1m\u001b[32m   Compiling\u001b[0m strum_macros v0.25.3\n",
      "\u001b[1m\u001b[32m   Compiling\u001b[0m serde_derive v1.0.193\n",
      "\u001b[1m\u001b[32m   Compiling\u001b[0m pyo3-macros-backend v0.20.0\n",
      "\u001b[1m\u001b[32m   Compiling\u001b[0m polars v0.35.4\n",
      "\u001b[1m\u001b[32m   Compiling\u001b[0m multiversion-macros v0.7.3\n",
      "\u001b[1m\u001b[32m   Compiling\u001b[0m indoc v2.0.4\n",
      "\u001b[1m\u001b[32m   Compiling\u001b[0m byteorder v1.5.0\n",
      "\u001b[1m\u001b[32m   Compiling\u001b[0m unindent v0.2.3\n",
      "\u001b[1m\u001b[32m   Compiling\u001b[0m iter-read v0.3.1\n",
      "\u001b[1m\u001b[32m   Compiling\u001b[0m bytemuck v1.14.0\n",
      "\u001b[1m\u001b[32m   Compiling\u001b[0m polars-error v0.35.4\n",
      "\u001b[1m\u001b[32m   Compiling\u001b[0m comfy-table v7.1.0\n",
      "\u001b[1m\u001b[32m   Compiling\u001b[0m multiversion v0.7.3\n",
      "\u001b[1m\u001b[32m   Compiling\u001b[0m polars-arrow v0.35.4\n",
      "\u001b[1m\u001b[32m   Compiling\u001b[0m pyo3-macros v0.20.0\n",
      "\u001b[1m\u001b[32m   Compiling\u001b[0m serde-pickle v1.1.1\n",
      "\u001b[1m\u001b[32m   Compiling\u001b[0m polars-row v0.35.4\n",
      "\u001b[1m\u001b[32m   Compiling\u001b[0m polars-ffi v0.35.4\n",
      "\u001b[1m\u001b[32m   Compiling\u001b[0m polars-time v0.35.4\n",
      "\u001b[1m\u001b[32m   Compiling\u001b[0m polars-io v0.35.4\n",
      "\u001b[1m\u001b[32m   Compiling\u001b[0m pyo3-polars-derive v0.3.0\n",
      "\u001b[1m\u001b[32m   Compiling\u001b[0m pyo3-polars v0.9.0\n",
      "\u001b[1m\u001b[32m   Compiling\u001b[0m _magic_8b165a9af9154c46 v0.1.0 (/private/var/folders/9l/pvs3_wlj23z_qxd4m8dv9w300000gn/T/rustimport/_magic_8b165a9af9154c46-cf98489dd4a4984469e5a0853393902b/_magic_8b165a9af9154c46)\n",
      "warning: unused variable: `m`\n",
      "  --> src/lib.rs:28:41\n",
      "   |\n",
      "28 | fn _magic_8b165a9af9154c46(_py: Python, m: &PyModule) -> PyResult<()> {\n",
      "   |                                         ^ help: if this is intentional, prefix it with an underscore: `_m`\n",
      "   |\n",
      "   = note: `#[warn(unused_variables)]` on by default\n",
      "\n",
      "warning: 1 warning emitted\n",
      "\n",
      "\u001b[1m\u001b[32m    Finished\u001b[0m release [optimized] target(s) in 40.14s\n"
     ]
    }
   ],
   "source": [
    "%%rustimport --release --module-path-variable=polars_pig_latin_module\n",
    "//: [dependencies]\n",
    "//: polars = { version = \"*\" }\n",
    "//: pyo3 = { version = \"*\", features = [\"extension-module\"] }\n",
    "//: pyo3-polars = { version = \"0.9\", features = [\"derive\"] }\n",
    "//: serde = { version = \"*\", features = [\"derive\"] }\n",
    "\n",
    "use pyo3::prelude::*;\n",
    "use polars::prelude::*;\n",
    "use pyo3_polars::derive::polars_expr;\n",
    "use std::fmt::Write;\n",
    "\n",
    "fn pig_latin_str(value: &str, output: &mut String) {\n",
    "    if let Some(first_char) = value.chars().next() {\n",
    "        write!(output, \"{}{}ay\", &value[1..], first_char).unwrap()\n",
    "    }\n",
    "}\n",
    "\n",
    "#[polars_expr(output_type=Utf8)]\n",
    "fn pig_latinnify(inputs: &[Series]) -> PolarsResult<Series> {\n",
    "    let ca = inputs[0].utf8()?;\n",
    "    let out: Utf8Chunked = ca.apply_to_buffer(pig_latin_str);\n",
    "    Ok(out.into_series())\n",
    "}"
   ]
  },
  {
   "cell_type": "markdown",
   "metadata": {},
   "source": [
    "We install dependencies required by Polars using with a `//:` comment syntax, which will be injected into a `Cargo.toml` file.\n",
    "\n",
    "With `polars_pig_latin_module` defined, we can define a `language` namespace for the Polars dataframe:"
   ]
  },
  {
   "cell_type": "code",
   "execution_count": 5,
   "metadata": {},
   "outputs": [],
   "source": [
    "import polars as pl\n",
    "\n",
    "@pl.api.register_expr_namespace(\"language\")\n",
    "class Language:\n",
    "    def __init__(self, expr: pl.Expr):\n",
    "        self._expr = expr\n",
    "\n",
    "    def pig_latinnify(self) -> pl.Expr:\n",
    "        return self._expr.register_plugin(\n",
    "            lib=polars_pig_latin_module,\n",
    "            symbol=\"pig_latinnify\",\n",
    "            is_elementwise=True,\n",
    "        )"
   ]
  },
  {
   "cell_type": "markdown",
   "metadata": {},
   "source": [
    "With the `language` namespace defined, we can now use it with Polars:"
   ]
  },
  {
   "cell_type": "code",
   "execution_count": 6,
   "metadata": {},
   "outputs": [
    {
     "name": "stdout",
     "output_type": "stream",
     "text": [
      "shape: (4, 2)\n",
      "┌─────────┬───────────┐\n",
      "│ convert ┆ pig_latin │\n",
      "│ ---     ┆ ---       │\n",
      "│ str     ┆ str       │\n",
      "╞═════════╪═══════════╡\n",
      "│ pig     ┆ igpay     │\n",
      "│ latin   ┆ atinlay   │\n",
      "│ is      ┆ siay      │\n",
      "│ silly   ┆ illysay   │\n",
      "└─────────┴───────────┘\n"
     ]
    }
   ],
   "source": [
    "df = pl.DataFrame(\n",
    "    {\n",
    "        \"convert\": [\"pig\", \"latin\", \"is\", \"silly\"],\n",
    "    }\n",
    ")\n",
    "\n",
    "out = df.with_columns(\n",
    "    pig_latin=pl.col(\"convert\").language.pig_latinnify(),\n",
    ")\n",
    "print(out)"
   ]
  }
 ],
 "metadata": {
  "kernelspec": {
   "display_name": "rustimport-jupyter",
   "language": "python",
   "name": "python3"
  },
  "language_info": {
   "codemirror_mode": {
    "name": "ipython",
    "version": 3
   },
   "file_extension": ".py",
   "mimetype": "text/x-python",
   "name": "python",
   "nbconvert_exporter": "python",
   "pygments_lexer": "ipython3",
   "version": "3.11.7"
  }
 },
 "nbformat": 4,
 "nbformat_minor": 2
}

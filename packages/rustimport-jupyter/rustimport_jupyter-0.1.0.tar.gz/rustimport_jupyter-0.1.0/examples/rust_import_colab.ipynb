{
 "cells": [
  {
   "cell_type": "markdown",
   "metadata": {},
   "source": [
    "# Introduction to `rustimport_jupyter`"
   ]
  },
  {
   "cell_type": "markdown",
   "metadata": {},
   "source": [
    "For Google colab, we install [rustimport_jupyter](https://github.com/thomasjpfan/rustimport_jupyter) and the rust toolchain:"
   ]
  },
  {
   "cell_type": "code",
   "execution_count": 2,
   "metadata": {},
   "outputs": [],
   "source": [
    "import os\n",
    "import sys\n",
    "\n",
    "IN_COLAB = \"google.colab\" in sys.modules"
   ]
  },
  {
   "cell_type": "code",
   "execution_count": null,
   "metadata": {},
   "outputs": [],
   "source": [
    "if IN_COLAB:\n",
    "    %pip install git+https://github.com/thomasjpfan/rustimport_jupyter\n",
    "    !curl --proto '=https' --tlsv1.2 -sSf https://sh.rustup.rs | sh -s -- -y\n",
    "    os.environ[\"PATH\"] += \":/root/.cargo/bin\""
   ]
  },
  {
   "cell_type": "markdown",
   "metadata": {},
   "source": [
    "## Using `rustimport_jupyter`"
   ]
  },
  {
   "cell_type": "markdown",
   "metadata": {},
   "source": [
    "First, we load the `rustimport_jupyter` magic:"
   ]
  },
  {
   "cell_type": "code",
   "execution_count": 3,
   "metadata": {},
   "outputs": [],
   "source": [
    "%load_ext rustimport_jupyter"
   ]
  },
  {
   "cell_type": "markdown",
   "metadata": {},
   "source": [
    "Next, prefix a cell with the `%%rustimport` marker to compile it:"
   ]
  },
  {
   "cell_type": "code",
   "execution_count": 6,
   "metadata": {},
   "outputs": [
    {
     "name": "stderr",
     "output_type": "stream",
     "text": [
      "\u001b[1m\u001b[32m    Updating\u001b[0m crates.io index\n",
      "\u001b[1m\u001b[32m   Compiling\u001b[0m target-lexicon v0.12.12\n",
      "\u001b[1m\u001b[32m   Compiling\u001b[0m autocfg v1.1.0\n",
      "\u001b[1m\u001b[32m   Compiling\u001b[0m proc-macro2 v1.0.71\n",
      "\u001b[1m\u001b[32m   Compiling\u001b[0m once_cell v1.19.0\n",
      "\u001b[1m\u001b[32m   Compiling\u001b[0m libc v0.2.151\n",
      "\u001b[1m\u001b[32m   Compiling\u001b[0m unicode-ident v1.0.12\n",
      "\u001b[1m\u001b[32m   Compiling\u001b[0m syn v1.0.109\n",
      "\u001b[1m\u001b[32m   Compiling\u001b[0m parking_lot_core v0.9.9\n",
      "\u001b[1m\u001b[32m   Compiling\u001b[0m scopeguard v1.2.0\n",
      "\u001b[1m\u001b[32m   Compiling\u001b[0m cfg-if v1.0.0\n",
      "\u001b[1m\u001b[32m   Compiling\u001b[0m smallvec v1.11.2\n",
      "\u001b[1m\u001b[32m   Compiling\u001b[0m unindent v0.1.11\n",
      "\u001b[1m\u001b[32m   Compiling\u001b[0m indoc v1.0.9\n",
      "\u001b[1m\u001b[32m   Compiling\u001b[0m lock_api v0.4.11\n",
      "\u001b[1m\u001b[32m   Compiling\u001b[0m memoffset v0.8.0\n",
      "\u001b[1m\u001b[32m   Compiling\u001b[0m quote v1.0.33\n",
      "\u001b[1m\u001b[32m   Compiling\u001b[0m parking_lot v0.12.1\n",
      "\u001b[1m\u001b[32m   Compiling\u001b[0m pyo3-build-config v0.18.3\n",
      "\u001b[1m\u001b[32m   Compiling\u001b[0m pyo3-ffi v0.18.3\n",
      "\u001b[1m\u001b[32m   Compiling\u001b[0m pyo3 v0.18.3\n",
      "\u001b[1m\u001b[32m   Compiling\u001b[0m pyo3-macros-backend v0.18.3\n",
      "\u001b[1m\u001b[32m   Compiling\u001b[0m pyo3-macros v0.18.3\n",
      "\u001b[1m\u001b[32m   Compiling\u001b[0m _rustimport_magic_b168e37473 v0.1.0 (/private/var/folders/9l/pvs3_wlj23z_qxd4m8dv9w300000gn/T/rustimport/_rustimport_magic_b168e37473-d610e32c6594a665bd92cbaee18f774b/_rustimport_magic_b168e37473)\n",
      "\u001b[1m\u001b[32m    Finished\u001b[0m dev [unoptimized + debuginfo] target(s) in 3.85s\n"
     ]
    }
   ],
   "source": [
    "%%rustimport\n",
    "use pyo3::prelude::*;\n",
    "\n",
    "#[pyfunction]\n",
    "fn square(x: i32) -> i32 {\n",
    "    x * x\n",
    "}"
   ]
  },
  {
   "cell_type": "markdown",
   "metadata": {},
   "source": [
    "The `square` function is now avaliable in your jupyter environment!"
   ]
  },
  {
   "cell_type": "code",
   "execution_count": 5,
   "metadata": {},
   "outputs": [
    {
     "data": {
      "text/plain": [
       "392"
      ]
     },
     "execution_count": 5,
     "metadata": {},
     "output_type": "execute_result"
    }
   ],
   "source": [
    "square(14)"
   ]
  },
  {
   "cell_type": "markdown",
   "metadata": {},
   "source": [
    "By default, `rustimport_jupyter` compiles rust code in \"dev\" mode. To enable release-optimized binaries pass in the --release flag:"
   ]
  },
  {
   "cell_type": "code",
   "execution_count": 7,
   "metadata": {},
   "outputs": [
    {
     "name": "stderr",
     "output_type": "stream",
     "text": [
      "\u001b[1m\u001b[32m    Updating\u001b[0m crates.io index\n",
      "\u001b[1m\u001b[32m   Compiling\u001b[0m target-lexicon v0.12.12\n",
      "\u001b[1m\u001b[32m   Compiling\u001b[0m autocfg v1.1.0\n",
      "\u001b[1m\u001b[32m   Compiling\u001b[0m proc-macro2 v1.0.71\n",
      "\u001b[1m\u001b[32m   Compiling\u001b[0m once_cell v1.19.0\n",
      "\u001b[1m\u001b[32m   Compiling\u001b[0m libc v0.2.151\n",
      "\u001b[1m\u001b[32m   Compiling\u001b[0m unicode-ident v1.0.12\n",
      "\u001b[1m\u001b[32m   Compiling\u001b[0m syn v1.0.109\n",
      "\u001b[1m\u001b[32m   Compiling\u001b[0m parking_lot_core v0.9.9\n",
      "\u001b[1m\u001b[32m   Compiling\u001b[0m scopeguard v1.2.0\n",
      "\u001b[1m\u001b[32m   Compiling\u001b[0m smallvec v1.11.2\n",
      "\u001b[1m\u001b[32m   Compiling\u001b[0m cfg-if v1.0.0\n",
      "\u001b[1m\u001b[32m   Compiling\u001b[0m unindent v0.1.11\n",
      "\u001b[1m\u001b[32m   Compiling\u001b[0m indoc v1.0.9\n",
      "\u001b[1m\u001b[32m   Compiling\u001b[0m lock_api v0.4.11\n",
      "\u001b[1m\u001b[32m   Compiling\u001b[0m memoffset v0.8.0\n",
      "\u001b[1m\u001b[32m   Compiling\u001b[0m quote v1.0.33\n",
      "\u001b[1m\u001b[32m   Compiling\u001b[0m pyo3-build-config v0.18.3\n",
      "\u001b[1m\u001b[32m   Compiling\u001b[0m parking_lot v0.12.1\n",
      "\u001b[1m\u001b[32m   Compiling\u001b[0m pyo3-ffi v0.18.3\n",
      "\u001b[1m\u001b[32m   Compiling\u001b[0m pyo3 v0.18.3\n",
      "\u001b[1m\u001b[32m   Compiling\u001b[0m pyo3-macros-backend v0.18.3\n",
      "\u001b[1m\u001b[32m   Compiling\u001b[0m pyo3-macros v0.18.3\n",
      "\u001b[1m\u001b[32m   Compiling\u001b[0m _rustimport_magic_99ad4c6b00 v0.1.0 (/private/var/folders/9l/pvs3_wlj23z_qxd4m8dv9w300000gn/T/rustimport/_rustimport_magic_99ad4c6b00-06c952a14ed52cc33365812b53acfefe/_rustimport_magic_99ad4c6b00)\n",
      "\u001b[1m\u001b[32m    Finished\u001b[0m release [optimized] target(s) in 4.41s\n"
     ]
    }
   ],
   "source": [
    "%%rustimport --release\n",
    "use pyo3::prelude::*;\n",
    "\n",
    "#[pyfunction]\n",
    "fn cubed(x: i32) -> i32 {\n",
    "    x * x * x\n",
    "}"
   ]
  },
  {
   "cell_type": "code",
   "execution_count": 9,
   "metadata": {},
   "outputs": [
    {
     "data": {
      "text/plain": [
       "512"
      ]
     },
     "execution_count": 9,
     "metadata": {},
     "output_type": "execute_result"
    }
   ],
   "source": [
    "cubed(8)"
   ]
  }
 ],
 "metadata": {
  "kernelspec": {
   "display_name": "rustimport-jupyter",
   "language": "python",
   "name": "python3"
  },
  "language_info": {
   "codemirror_mode": {
    "name": "ipython",
    "version": 3
   },
   "file_extension": ".py",
   "mimetype": "text/x-python",
   "name": "python",
   "nbconvert_exporter": "python",
   "pygments_lexer": "ipython3",
   "version": "3.11.7"
  }
 },
 "nbformat": 4,
 "nbformat_minor": 2
}

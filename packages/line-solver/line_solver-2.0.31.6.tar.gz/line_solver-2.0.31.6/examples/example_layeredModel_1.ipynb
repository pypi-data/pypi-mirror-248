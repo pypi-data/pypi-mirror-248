{
 "cells": [
  {
   "cell_type": "markdown",
   "source": [
    "WARNING: this example is not yet fully functional\n",
    "\n",
    "This example illustrates the execution on a layered queueing network model.\n",
    "Performance indexes now refer to processors, tasks, entries, and activities.\n",
    "Indexes refer to the submodel (layer) where the processor or task acts as a server.\n",
    "NaN indexes indicate that the metric is not supported by the node type."
   ],
   "metadata": {
    "collapsed": false
   }
  },
  {
   "cell_type": "code",
   "execution_count": null,
   "metadata": {
    "ExecuteTime": {
     "end_time": "2023-12-25T07:54:22.253304100Z",
     "start_time": "2023-12-25T07:54:21.554803600Z"
    }
   },
   "outputs": [],
   "source": [
    "from line_solver import *\n",
    "GlobalConstants.setVerbose(VerboseLevel.STD)"
   ]
  },
  {
   "cell_type": "code",
   "execution_count": null,
   "outputs": [],
   "source": [
    "model = LayeredNetwork('myLayeredModel')\n",
    "P = np.empty(2, dtype=object)\n",
    "P[0] = Processor(model, 'P1', 1, SchedStrategy.PS)\n",
    "P[1] = Processor(model, 'P2', 1, SchedStrategy.PS)\n",
    "T = np.empty(2, dtype=object)\n",
    "T[0] = Task(model, 'T1', 10, SchedStrategy.REF).on(P[0]).setThinkTime(Exp.fitMean(100))\n",
    "T[1] = Task(model, 'T2', 1, SchedStrategy.FCFS).on(P[1]).setThinkTime(Immediate())\n",
    "E = np.empty(2, dtype=object)\n",
    "E[0] = Entry(model, 'E1').on(T[0])\n",
    "E[1] = Entry(model, 'E2').on(T[1])\n",
    "A = np.empty(4, dtype=object)\n",
    "A[0] = Activity(model, 'AS1', Exp.fitMean(1.6)).on(T[0]).boundTo(E[0])\n",
    "A[1] = Activity(model, 'AS2', Immediate()).on(T[0]).synchCall(E[1],1)\n",
    "A[2] = Activity(model, 'AS3', Exp.fitMean(5)).on(T[1]).boundTo(E[1])\n",
    "A[3] = Activity(model, 'AS4', Exp.fitMean(1)).on(T[1]).repliesTo(E[1])\n",
    "T[0].addPrecedence(ActivityPrecedence.Sequence(A[0], A[1]))\n",
    "# T[1].addPrecedence(ActivityPrecedence.Serial(A[2], A[3]))"
   ],
   "metadata": {
    "collapsed": false,
    "ExecuteTime": {
     "start_time": "2023-12-25T07:54:21.556805900Z"
    }
   }
  },
  {
   "cell_type": "code",
   "execution_count": null,
   "outputs": [],
   "source": [
    "# options = SolverLQNS.defaultOptions\n",
    "# options.keep = True # uncomment to keep the intermediate XML files generates while translating the model to LQNS\n",
    "#\n",
    "# solver[0] = SolverLQNS(model)\n",
    "# AvgTable[0] = solver[0].getAvgTable()\n",
    "# AvgTable[0]\n",
    "#\n",
    "# useLQNSnaming = true\n",
    "# AvgTable[1] = solver[0].getAvgTable(useLQNSnaming)\n",
    "# AvgTable[1]\n",
    "#\n",
    "#\n",
    "# useLQNSnaming = true\n",
    "# [AvgTable[2], CallAvgTable[2]] = solver[0].getRawAvgTables()\n",
    "# AvgTable[2]\n",
    "# CallAvgTable[2]\n",
    "#\n",
    "# AvgTable[3]=SolverLN(model).getAvgTable"
   ],
   "metadata": {
    "collapsed": false,
    "ExecuteTime": {
     "start_time": "2023-12-25T07:54:21.556805900Z"
    }
   }
  }
 ],
 "metadata": {
  "kernelspec": {
   "display_name": "Python 3",
   "language": "python",
   "name": "python3"
  },
  "language_info": {
   "codemirror_mode": {
    "name": "ipython",
    "version": 3
   },
   "file_extension": ".py",
   "mimetype": "text/x-python",
   "name": "python",
   "nbconvert_exporter": "python",
   "pygments_lexer": "ipython3",
   "version": "3.6.4"
  }
 },
 "nbformat": 4,
 "nbformat_minor": 2
}

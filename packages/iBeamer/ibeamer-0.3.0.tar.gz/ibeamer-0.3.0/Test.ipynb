{
 "cells": [
  {
   "cell_type": "markdown",
   "id": "c6d0b4ac-1c80-41ec-99e8-22aa6e5a6566",
   "metadata": {},
   "source": [
    "# Test"
   ]
  },
  {
   "cell_type": "markdown",
   "id": "ba9f58bd-62d9-431c-ac0c-27afd48ce515",
   "metadata": {},
   "source": [
    "<div class=\"beamer-theorem\">\n",
    "    <p>This is a beamer theorem</p>\n",
    "</div>"
   ]
  },
  {
   "cell_type": "code",
   "execution_count": null,
   "id": "e8e8f810-c1bb-4ee3-aaf1-25e9e4e94628",
   "metadata": {},
   "outputs": [],
   "source": []
  },
  {
   "cell_type": "markdown",
   "id": "4c859941-488e-40b4-9767-fda0a3210df7",
   "metadata": {},
   "source": [
    "<div class=\"beamer-example\">\n",
    "    <p>This is a beamer example</p>\n",
    "</div>"
   ]
  },
  {
   "cell_type": "code",
   "execution_count": null,
   "id": "911dcb06-28d6-4513-9db6-318079b97c7b",
   "metadata": {},
   "outputs": [],
   "source": []
  },
  {
   "cell_type": "code",
   "execution_count": null,
   "id": "4d93ed10-ccc2-473f-baa0-1644c58dd8b8",
   "metadata": {},
   "outputs": [],
   "source": []
  }
 ],
 "metadata": {
  "kernelspec": {
   "display_name": "Python 3 (ipykernel)",
   "language": "python",
   "name": "python3"
  },
  "language_info": {
   "codemirror_mode": {
    "name": "ipython",
    "version": 3
   },
   "file_extension": ".py",
   "mimetype": "text/x-python",
   "name": "python",
   "nbconvert_exporter": "python",
   "pygments_lexer": "ipython3",
   "version": "3.12.1"
  }
 },
 "nbformat": 4,
 "nbformat_minor": 5
}

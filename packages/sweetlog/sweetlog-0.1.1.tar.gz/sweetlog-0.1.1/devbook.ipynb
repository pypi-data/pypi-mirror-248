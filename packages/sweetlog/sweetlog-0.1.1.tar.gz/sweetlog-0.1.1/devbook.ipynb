{
 "cells": [
  {
   "cell_type": "code",
   "execution_count": 1,
   "metadata": {},
   "outputs": [],
   "source": [
    "from sweetlog import Logger, LoggingLevel"
   ]
  },
  {
   "cell_type": "code",
   "execution_count": 14,
   "metadata": {},
   "outputs": [],
   "source": [
    "logger = Logger(level=LoggingLevel.DEBUG)"
   ]
  },
  {
   "cell_type": "code",
   "execution_count": 15,
   "metadata": {},
   "outputs": [
    {
     "name": "stdout",
     "output_type": "stream",
     "text": [
      "[2023-12-27 00:16:27] [DEBUG] Calling f(x=1) -> 2\n"
     ]
    }
   ],
   "source": [
    "decorator = logger.get_decorator(\n",
    "    level=LoggingLevel.DEBUG,\n",
    "    log_arguments=True,\n",
    "    log_return=True,\n",
    ")\n",
    "@decorator\n",
    "def f(x: int) -> int:\n",
    "    return x + 1\n",
    "\n",
    "@decorator\n",
    "def g(*args):\n",
    "    return sum(args)\n",
    "\n",
    "\n",
    "result = f(1)"
   ]
  },
  {
   "cell_type": "code",
   "execution_count": null,
   "metadata": {},
   "outputs": [],
   "source": [
    "\n"
   ]
  }
 ],
 "metadata": {
  "kernelspec": {
   "display_name": "ml",
   "language": "python",
   "name": "python3"
  },
  "language_info": {
   "codemirror_mode": {
    "name": "ipython",
    "version": 3
   },
   "file_extension": ".py",
   "mimetype": "text/x-python",
   "name": "python",
   "nbconvert_exporter": "python",
   "pygments_lexer": "ipython3",
   "version": "3.11.5"
  }
 },
 "nbformat": 4,
 "nbformat_minor": 2
}

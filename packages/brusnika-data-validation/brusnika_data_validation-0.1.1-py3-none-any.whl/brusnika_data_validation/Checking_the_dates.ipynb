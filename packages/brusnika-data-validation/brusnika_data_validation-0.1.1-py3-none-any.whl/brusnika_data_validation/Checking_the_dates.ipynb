{
 "cells": [
  {
   "cell_type": "code",
   "execution_count": null,
   "id": "ba8f11cb-a2f9-4b64-93a8-140557742bfe",
   "metadata": {},
   "outputs": [],
   "source": [
    "import pandas as pd\n",
    "import numpy as np\n",
    "import pandera as pa\n",
    "import pandera.extensions as extensions\n",
    "from pandera.typing import DataFrame, Series, Index, DateTime\n",
    "from typing import Callable\n",
    "\n",
    "import jwt\n",
    "import requests\n",
    "import json"
   ]
  },
  {
   "cell_type": "markdown",
   "id": "1e383384-5e58-4bde-8585-09d20cd0fd42",
   "metadata": {},
   "source": [
    "### API Parameters"
   ]
  },
  {
   "cell_type": "code",
   "execution_count": null,
   "id": "58ec538f-59b1-4a2a-bb0f-2a610c7b894c",
   "metadata": {},
   "outputs": [],
   "source": [
    "iss = \"\"\n",
    "aud = \"erp-core.brusnika.ru/parameters\"\n",
    "key = \"\"\n",
    "\n",
    "payload = {\n",
    "    \"iss\": iss,\n",
    "    \"aud\": aud,\n",
    "}\n",
    "\n",
    "token_params = jwt.encode(payload,key)"
   ]
  },
  {
   "cell_type": "code",
   "execution_count": null,
   "id": "8a9870a3-1a03-4b68-8e17-eacca8eb385d",
   "metadata": {},
   "outputs": [],
   "source": [
    "working_version = '1ce7fe21-956f-4627-b1aa-cbfc2d6358ba'"
   ]
  },
  {
   "cell_type": "code",
   "execution_count": null,
   "id": "a50cd12b-72f7-4111-a37a-bff6e20fb0c5",
   "metadata": {},
   "outputs": [],
   "source": [
    "obj_urls = [\n",
    "    f'https://erp-core.brusnika.ru/parameters/v1/versions/{working_version}/construction-objects',\n",
    "    f'https://erp-core.brusnika.ru/parameters/v1/versions/{working_version}/infrastructure-objects',\n",
    "    f'https://erp-core.brusnika.ru/parameters/v1/versions/{working_version}/transient-objects'\n",
    "]"
   ]
  },
  {
   "cell_type": "code",
   "execution_count": null,
   "id": "d3171d34-305e-41fa-b843-62095af40e17",
   "metadata": {},
   "outputs": [],
   "source": [
    "resp_params_objs = []\n",
    "for url in obj_urls:\n",
    "    resp = requests.get(url, headers={\"authorization\":f\"Bearer {token_params}\"})\n",
    "    resp_params_objs.extend(resp.json())"
   ]
  },
  {
   "cell_type": "code",
   "execution_count": null,
   "id": "bb60f085-df77-4165-ae08-c10633664f98",
   "metadata": {},
   "outputs": [],
   "source": [
    "resp_params_constr_obj_df = pd.DataFrame(resp_params_objs)"
   ]
  },
  {
   "cell_type": "code",
   "execution_count": null,
   "id": "bdaa0143-6187-42a3-9c23-beed4cdf6048",
   "metadata": {},
   "outputs": [],
   "source": [
    "cols_for_preproc = resp_params_constr_obj_df.columns[\n",
    "    resp_params_constr_obj_df.applymap(\n",
    "        lambda x: isinstance(x, dict) and x.get('id') is not None\n",
    "    ).all(axis=0)\n",
    "]\n",
    "\n",
    "for col in cols_for_preproc:\n",
    "    resp_params_constr_obj_df[col] = resp_params_constr_obj_df[col].apply(lambda x: x.get('id'))"
   ]
  },
  {
   "cell_type": "code",
   "execution_count": null,
   "id": "2d479276-78d0-40fd-bcf7-87a934464509",
   "metadata": {},
   "outputs": [],
   "source": [
    "resp_params_constr_obj_df = resp_params_constr_obj_df.set_index('id')"
   ]
  },
  {
   "cell_type": "code",
   "execution_count": null,
   "id": "732525ee-fe59-4540-bacf-fb13276b64b2",
   "metadata": {},
   "outputs": [],
   "source": [
    "not_canceled_constr_obj = resp_params_constr_obj_df.index[~resp_params_constr_obj_df.canceled]\n",
    "not_canceled_constr_obj.name = 'constructionObject'"
   ]
  },
  {
   "cell_type": "markdown",
   "id": "81caa5c1-bcd2-4783-b63b-c54b4b78d3e5",
   "metadata": {},
   "source": [
    "Список актуальных для проверки объектов:\n",
    "\n",
    "* из ПАРАМЕТРИЧЕСКОЙ системы\n",
    "* не отмененные (`canceled = False`)"
   ]
  },
  {
   "cell_type": "markdown",
   "id": "bea81db5-dd5d-4596-aa48-98b39981212e",
   "metadata": {},
   "source": [
    "### API Processes"
   ]
  },
  {
   "cell_type": "code",
   "execution_count": null,
   "id": "e95695bc-efaf-49a6-b810-a2ac4125c09d",
   "metadata": {},
   "outputs": [],
   "source": [
    "iss = \"\"\n",
    "aud = \"erp-core.brusnika.ru/processes\"\n",
    "key = \"\"\n",
    "\n",
    "payload = {\n",
    "    \"iss\": iss,\n",
    "    \"aud\": aud,\n",
    "}\n",
    "\n",
    "token_process = jwt.encode(payload,key)"
   ]
  },
  {
   "cell_type": "code",
   "execution_count": null,
   "id": "bf5c539e-993e-464c-a5c2-02d2a07a453a",
   "metadata": {},
   "outputs": [],
   "source": [
    "tasks = {\n",
    "    \"88359fe3-4d1a-4bac-8fee-9ddd32eb9dc1\": \"permission_date\", #РС\n",
    "    \"8b1663d9-a69d-40fd-8b3e-9f51b39d66a8\": \"construction_start_date\", # НС\n",
    "    \"733fb7d0-0ec6-4223-846e-dcc0bebaaca9\": \"commition_date\", #РВ\n",
    "}"
   ]
  },
  {
   "cell_type": "code",
   "execution_count": null,
   "id": "dfd4a938-4bc7-4d22-afe5-6140fab0b0ee",
   "metadata": {},
   "outputs": [],
   "source": [
    "url = f'https://erp-core.brusnika.ru/processes/v2/versions/{working_version}/process-statistics'\n",
    "\n",
    "request_body ={\n",
    "    \"objectFilter\": [\n",
    "        {\n",
    "            \"projections\": [],\n",
    "            \"stages\": None,\n",
    "            \"processes\": None,\n",
    "            \"tasks\": None,\n",
    "            \"contours\": None,\n",
    "            \"projects\": None,\n",
    "            \"sites\": None,\n",
    "            \"parcels\": None,\n",
    "            \"constructionObjects\": [],\n",
    "            \"objectTypes\": [\"CONSTRUCTION_OBJECT\"]\n",
    "        }\n",
    "    ],\n",
    "    \"periodFilter\": {\n",
    "        \"since\": None,\n",
    "        \"until\": None\n",
    "    },\n",
    "    \"groupBy\": \"TASK\"\n",
    "}"
   ]
  },
  {
   "cell_type": "code",
   "execution_count": null,
   "id": "b27b95b4-38ac-499c-8ad1-1cb43afdf9d4",
   "metadata": {},
   "outputs": [],
   "source": [
    "resp_process_dates_json = {}\n",
    "\n",
    "for task_id in tasks.keys():\n",
    "    request_body['objectFilter'][0].update({\"tasks\": [task_id]})\n",
    "    resp_process_date = requests.post(url, headers={\"authorization\":f\"Bearer {token_process}\"}, json=request_body)\n",
    "    resp_process_dates_json.update({task_id: resp_process_date.json()})\n",
    "    \n",
    "del resp_process_date"
   ]
  },
  {
   "cell_type": "code",
   "execution_count": null,
   "id": "b442bddd-dbd4-4ec2-b5d7-0204d6464901",
   "metadata": {},
   "outputs": [],
   "source": [
    "columns = [\n",
    "    # 'overallStart', \n",
    "    'overallEnd', \n",
    "    'constructionObject', \n",
    "    # 'modeled', \n",
    "    'status',\n",
    "]"
   ]
  },
  {
   "cell_type": "code",
   "execution_count": null,
   "id": "70e3c165-1fd1-4667-ae2a-afdd51012b7f",
   "metadata": {},
   "outputs": [],
   "source": [
    "resp_process_dates_dfs = {}\n",
    "\n",
    "for task_id in resp_process_dates_json.keys():\n",
    "    df = pd.DataFrame(resp_process_dates_json[task_id])[columns]\n",
    "    \n",
    "    df.loc[:, 'constructionObject'] = df.constructionObject.apply(lambda x: x.get('id'))\n",
    "    df = df.set_index('constructionObject')\n",
    "    \n",
    "    resp_process_dates_dfs.update({task_id: df})\n",
    "\n",
    "del df"
   ]
  },
  {
   "cell_type": "code",
   "execution_count": null,
   "id": "f596af59-ee35-4e7c-9877-fed765c2ad65",
   "metadata": {},
   "outputs": [],
   "source": [
    "for task_id in resp_process_dates_dfs.keys():\n",
    "    # если надо более очевидно, то нужно будет сделать копии\n",
    "    df = resp_process_dates_dfs[task_id] # указатель на сет в словаре\n",
    "    task_name = tasks[task_id]\n",
    "    df.columns = task_name + '_' + df.columns # потому сразу меняется в словаре"
   ]
  },
  {
   "cell_type": "code",
   "execution_count": null,
   "id": "413be442-11be-4ded-8935-38fa75d1b4f0",
   "metadata": {},
   "outputs": [],
   "source": [
    "combine_process_dates_df = pd.concat(resp_process_dates_dfs.values(), axis=1)"
   ]
  },
  {
   "cell_type": "code",
   "execution_count": null,
   "id": "26886092-8a86-4aa2-8abf-500251c862a3",
   "metadata": {},
   "outputs": [],
   "source": [
    "combine_process_dates_df.shape"
   ]
  },
  {
   "cell_type": "code",
   "execution_count": null,
   "id": "35d7719c-5bb9-41e4-9f05-e9e253cf1eaf",
   "metadata": {},
   "outputs": [],
   "source": [
    "combine_process_dates_df.head(3)"
   ]
  },
  {
   "cell_type": "markdown",
   "id": "3802a3d1-e4b8-4025-aeae-0def4b0d540f",
   "metadata": {},
   "source": [
    "Объединяем знания о не отмененных объектах и данные процессной системы"
   ]
  },
  {
   "cell_type": "code",
   "execution_count": null,
   "id": "ccbffb93-66ff-45de-8f13-13b95f9c1171",
   "metadata": {},
   "outputs": [],
   "source": [
    "common_df = pd.DataFrame(index = not_canceled_constr_obj)\n",
    "common_df = common_df.join(combine_process_dates_df, how='left')"
   ]
  },
  {
   "cell_type": "code",
   "execution_count": null,
   "id": "3261b456-83c8-46ba-a02c-60ad94ed17a8",
   "metadata": {},
   "outputs": [],
   "source": [
    "common_df.head(3)"
   ]
  },
  {
   "cell_type": "code",
   "execution_count": null,
   "id": "84a65c01-58df-468d-a8f1-aa75ea6a29f0",
   "metadata": {},
   "outputs": [],
   "source": [
    "common_df.shape"
   ]
  },
  {
   "cell_type": "markdown",
   "id": "39460d23-144f-4728-95fb-399e79294154",
   "metadata": {},
   "source": [
    "### API Indicators"
   ]
  },
  {
   "cell_type": "code",
   "execution_count": null,
   "id": "85305786-c851-48a6-86da-2a3673e13d52",
   "metadata": {},
   "outputs": [],
   "source": [
    "iss = \"\"\n",
    "aud = \"erp-core.brusnika.ru/indicators\"\n",
    "key = \"\"\n",
    "\n",
    "payload = {\n",
    "    \"iss\": iss,\n",
    "    \"aud\": aud,\n",
    "}\n",
    "\n",
    "token_indicators = jwt.encode(payload,key)"
   ]
  },
  {
   "cell_type": "markdown",
   "id": "4a2cb857-8033-46a6-989d-8c8de6e3961a",
   "metadata": {},
   "source": [
    "Поиск последней утвержденной версии релиза"
   ]
  },
  {
   "cell_type": "code",
   "execution_count": null,
   "id": "2bc83d2e-ff98-4a98-be46-3f01e5f524b3",
   "metadata": {},
   "outputs": [],
   "source": [
    "url = 'https://erp-core.brusnika.ru/indicators/api/v2/versions'\n",
    "resp_ind_versions = requests.get(url, headers={\"authorization\":f\"Bearer {token_indicators}\"})\n",
    "resp_ind_versions_df = pd.DataFrame(resp_ind_versions.json())\n",
    "resp_ind_versions_release = resp_ind_versions_df[resp_ind_versions_df.title.str.startswith('Релиз')]"
   ]
  },
  {
   "cell_type": "markdown",
   "id": "455e86dc-a3f6-4b64-883e-e7a9f2b8cf6a",
   "metadata": {},
   "source": [
    "**!!!** тут у меня другой ключ"
   ]
  },
  {
   "cell_type": "code",
   "execution_count": null,
   "id": "567935ff-e1ca-438a-a6bb-92a3a737de83",
   "metadata": {},
   "outputs": [],
   "source": [
    "iss = \"\"\n",
    "aud = \"erp-core.brusnika.ru/versioning\"\n",
    "key = \"\"\n",
    "\n",
    "payload = {\n",
    "    \"iss\": iss,\n",
    "    \"aud\": aud,\n",
    "}\n",
    "\n",
    "token_version = jwt.encode(payload,key)"
   ]
  },
  {
   "cell_type": "code",
   "execution_count": null,
   "id": "eadff6c3-2efc-4fc0-a779-79876f4c4b5a",
   "metadata": {},
   "outputs": [],
   "source": [
    "url = 'https://scheduler.brusnika.ru/backend/versioning/v2/versions'\n",
    "resp_versioning = requests.get(url, headers={\"authorization\":f\"Bearer {token_version}\"})\n",
    "resp_versioning"
   ]
  },
  {
   "cell_type": "code",
   "execution_count": null,
   "id": "3508ed56-b945-427f-9119-6bcdb0863cbe",
   "metadata": {},
   "outputs": [],
   "source": [
    "resp_versioning_df = pd.DataFrame(resp_versioning.json())\n",
    "resp_versioning_df = resp_versioning_df.set_index('id')[['title', 'state', 'createdAt']]\n",
    "resp_versioning_df_release = resp_versioning_df.loc[resp_ind_versions_release.id]\n",
    "resp_versioning_df_release.createdAt = pd.to_datetime(resp_versioning_df_release.createdAt.str.split('T', expand=True).iloc[:, 0])\n",
    "\n",
    "resp_versioning_df_release = resp_versioning_df_release[resp_versioning_df_release.state == 'APPROVED'].sort_values('createdAt')\n",
    "release_version = resp_versioning_df_release.iloc[-1].name"
   ]
  },
  {
   "cell_type": "code",
   "execution_count": null,
   "id": "d62f12c4-287a-4932-a281-c7cfaadbde52",
   "metadata": {},
   "outputs": [],
   "source": [
    "# release_version = \"4713f87f-598f-43ec-866b-3a52111b0d92\""
   ]
  },
  {
   "cell_type": "code",
   "execution_count": null,
   "id": "a3d3526c-1fdd-4183-8b30-9b8fcd7366d3",
   "metadata": {},
   "outputs": [],
   "source": [
    "url = f'https://erp-core.brusnika.ru/indicators/api/v2/versions/{release_version}/indicator-values'\n",
    "request_body = [{\n",
    "    \"requestId\": \"\",\n",
    "    \"indicators\": [\n",
    "        \"po.production.total\"\n",
    "    ],\n",
    "    \"timeSlice\": {\n",
    "        \"groupBy\": \"MONTH\",\n",
    "        \"filter\": {}\n",
    "    },\n",
    "    \"objectSlice\": {\n",
    "        \"groupBy\": [\n",
    "            \"constructionObjectId\",\n",
    "            \"itemTreeId\"\n",
    "        ],\n",
    "        \"filter\": [\n",
    "        {\n",
    "            \"constructionObjectId\": [],\n",
    "            \"siteId\": [],\n",
    "            \"projectId\": [],\n",
    "            \"contourId\": [],\n",
    "            \"premisesType\": [],\n",
    "            \"fundsSourceType\": [],\n",
    "            \"grade\": [],\n",
    "            \"itemTreeId\": [\n",
    "                \"76630097-e1b1-4787-b509-36e4a13c1490\",\n",
    "                \"9f90fee4-22b0-4c75-b298-03b9af46a679\",\n",
    "                \n",
    "                \"4734c36c-9c27-44bc-82a1-1265267b0737\",\n",
    "                \"05cacdf3-9de7-4bae-8916-59be9ef6c3c2\",\n",
    "                \"ce719b53-3bf5-4c30-b8e5-7a1c8feaa4cb\",\n",
    "                \"17d417b9-f6f1-44c2-b554-830e7a903274\",\n",
    "                \"d3034170-b66f-4914-a2fd-e2cbc986038b\",\n",
    "                \"e3bbb51d-07a1-44a0-a628-a1504f87ffe9\",\n",
    "            ]\n",
    "        }\n",
    "      ]\n",
    "    }\n",
    "    }\n",
    "]\n",
    "\n",
    "resp_ind_prod_total = requests.post(url, headers={\"authorization\":f\"Bearer {token_indicators}\"}, json=request_body)\n",
    "resp_ind_prod_total"
   ]
  },
  {
   "cell_type": "code",
   "execution_count": null,
   "id": "e12e75c6-1bd7-4c44-8b16-6b5c32865150",
   "metadata": {
    "scrolled": true
   },
   "outputs": [],
   "source": [
    "resp_ind_prod_total_df = pd.DataFrame(resp_ind_prod_total.json()[0]['slices'])\n",
    "resp_ind_prod_total_df.yearMonth = pd.to_datetime(resp_ind_prod_total_df.yearMonth)"
   ]
  },
  {
   "cell_type": "code",
   "execution_count": null,
   "id": "f5946fa8-f0cd-462e-9a5b-10c22d75dc0f",
   "metadata": {},
   "outputs": [],
   "source": [
    "resp_ind_prod_total_df_first_date = resp_ind_prod_total_df[resp_ind_prod_total_df.amount > 0]\n",
    "resp_ind_prod_total_df_first_date = resp_ind_prod_total_df_first_date.sort_values(by=['constructionObjectId', 'yearMonth'], ascending=True)\n",
    "resp_ind_prod_total_df_first_date = resp_ind_prod_total_df_first_date.groupby('constructionObjectId').first()\n",
    "\n",
    "resp_ind_prod_total_df_first_date = resp_ind_prod_total_df_first_date.drop(columns='itemTreeId')\n",
    "resp_ind_prod_total_df_first_date.columns = 'first_spend_' + resp_ind_prod_total_df_first_date.columns"
   ]
  },
  {
   "cell_type": "code",
   "execution_count": null,
   "id": "7a03fb57-8eab-4d5c-beac-ec36272ae070",
   "metadata": {},
   "outputs": [],
   "source": [
    "resp_ind_prod_total_df_first_date.head(3)"
   ]
  },
  {
   "cell_type": "markdown",
   "id": "68281047-5f70-4387-b006-78551b532090",
   "metadata": {},
   "source": [
    "Объединяем знания о не отмененных объектах + проц.с. с данными показательной системы"
   ]
  },
  {
   "cell_type": "code",
   "execution_count": null,
   "id": "537233f5-8183-4657-b9ed-cdd0f1f082b7",
   "metadata": {
    "scrolled": true
   },
   "outputs": [],
   "source": [
    "common_df = common_df.join(resp_ind_prod_total_df_first_date, how='left')"
   ]
  },
  {
   "cell_type": "code",
   "execution_count": null,
   "id": "e0f2c5f6-63be-46bf-904c-0059483328e1",
   "metadata": {},
   "outputs": [],
   "source": [
    "common_df.head(3)"
   ]
  },
  {
   "cell_type": "markdown",
   "id": "b05915cb-9218-470c-8c6a-8f0e9e557561",
   "metadata": {},
   "source": [
    "### ВСЕ ПРОВЕРКИ"
   ]
  },
  {
   "cell_type": "code",
   "execution_count": null,
   "id": "f938b635-9174-4b4c-9881-e0ebf13537ca",
   "metadata": {},
   "outputs": [],
   "source": [
    "def compare_two_dates(first_date: pd.Series, second_date: pd.Series, compare_func: Callable=pd.Series.gt, threshold: int=0, exclude_na: bool=True) -> pd.Series:\n",
    "    \"\"\"Сompares two series of dates by finding the difference between them, \n",
    "    and the difference with a threshold value.\n",
    "\n",
    "    compare_func: pd.Series.gt, pd.Series.ge, pd.Series.lt or pd.Series.le\n",
    "    threshold: treshold value in days\n",
    "    \"\"\"\n",
    "    diff = second_date - first_date\n",
    "    result = compare_func(diff, pd.Timedelta(days=threshold))\n",
    "    if exclude_na:\n",
    "        na_indexes = (first_date.isna() | second_date.isna())\n",
    "        return result | na_indexes\n",
    "    return result"
   ]
  },
  {
   "cell_type": "code",
   "execution_count": null,
   "id": "438657a9-c737-40c3-87c3-585553af128a",
   "metadata": {},
   "outputs": [],
   "source": [
    "@extensions.register_check_method()\n",
    "def check_permission_date_less_construction_start_date(df):\n",
    "    return compare_two_dates(df['permission_date_overallEnd'], df['construction_start_date_overallEnd'], pd.Series.gt, threshold=0, exclude_na=True)\n",
    "\n",
    "@extensions.register_check_method()\n",
    "def check_diff_commition_date_construction_start_date_gt_year(df):\n",
    "    return compare_two_dates(df['construction_start_date_overallEnd'], df['commition_date_overallEnd'], pd.Series.gt, threshold=365, exclude_na=True)\n",
    "\n",
    "@extensions.register_check_method()\n",
    "def check_diff_commition_date_permission_date_gt_year_lt_3_5_years(df):\n",
    "    gt_year = compare_two_dates(df['permission_date_overallEnd'], df['commition_date_overallEnd'], pd.Series.gt, threshold=365, exclude_na=True)\n",
    "    lt_3_5_years = compare_two_dates(df['permission_date_overallEnd'], df['commition_date_overallEnd'], pd.Series.lt, threshold=1279, exclude_na=True)\n",
    "    return gt_year & lt_3_5_years"
   ]
  },
  {
   "cell_type": "code",
   "execution_count": null,
   "id": "159a3555-8074-4b14-9885-df47467a43b2",
   "metadata": {},
   "outputs": [],
   "source": [
    "@extensions.register_check_method()\n",
    "def check_first_spend_is_in_construction_start_month(df, *, exclude_na: bool = True):\n",
    "    start_date = df.construction_start_date_overallEnd\n",
    "    spend_date = df.first_spend_yearMonth\n",
    "    \n",
    "    result = (start_date.dt.month == spend_date.dt.month) & (start_date.dt.year == spend_date.dt.year)  # check\n",
    "    # is_complete = (df.commition_date_status == 'COMPLETE')\n",
    "    # result = check | is_complete\n",
    "\n",
    "    if exclude_na:\n",
    "        na_indexes = (start_date.isna() | spend_date.isna())\n",
    "        return result | na_indexes\n",
    "    return result"
   ]
  },
  {
   "cell_type": "code",
   "execution_count": null,
   "id": "092b03a3-7363-4208-9147-7a5bcb57c8ca",
   "metadata": {},
   "outputs": [],
   "source": [
    "class Schema_milestone_dates(pa.DataFrameModel):\n",
    "    permission_date_overallEnd: Series[DateTime] = pa.Field(nullable=False)\n",
    "    construction_start_date_overallEnd: Series[DateTime] = pa.Field(nullable=False)\n",
    "    commition_date_overallEnd: Series[DateTime] = pa.Field(nullable=False)\n",
    "    # commition_date_status: Series[str] = pa.Field(nullable=True)\n",
    "    first_spend_yearMonth: Series[DateTime] = pa.Field(nullable=True)\n",
    "    first_spend_amount: Series[float] = pa.Field(nullable=True) # без проверок, и так уже после обработки, можно вообще убрать это поле наверное\n",
    "    constructionObject: Index[str] = pa.Field(isin=not_canceled_constr_obj, check_name=True, unique=True)\n",
    "    \n",
    "    class Config:\n",
    "        coerce = True\n",
    "\n",
    "        check_permission_date_less_construction_start_date = ()\n",
    "        check_diff_commition_date_construction_start_date_gt_year = ()\n",
    "        check_diff_commition_date_permission_date_gt_year_lt_3_5_years = ()\n",
    "        check_first_spend_is_in_construction_start_month = ()"
   ]
  },
  {
   "cell_type": "code",
   "execution_count": null,
   "id": "1623fbea-a477-41e8-b151-8628536a156c",
   "metadata": {
    "scrolled": true
   },
   "outputs": [],
   "source": [
    "error = None\n",
    "try:\n",
    "    Schema_milestone_dates.validate(common_df, lazy=True)\n",
    "except pa.errors.SchemaErrors as err:\n",
    "    error = err\n",
    "    display(err.failure_cases)"
   ]
  },
  {
   "cell_type": "markdown",
   "id": "e68c8a82-7046-4115-8515-334fc05bbdfd",
   "metadata": {},
   "source": [
    "оставляем такой вывод, нужна логика получения результатов"
   ]
  },
  {
   "cell_type": "code",
   "execution_count": null,
   "id": "d25fe14d-7436-4aae-a01f-71c0bbbe32ef",
   "metadata": {},
   "outputs": [],
   "source": []
  },
  {
   "cell_type": "code",
   "execution_count": null,
   "id": "91845085-e261-42d0-be16-347e3274de49",
   "metadata": {
    "scrolled": true
   },
   "outputs": [],
   "source": [
    "check_errors = error.failure_cases.groupby(by=['check'])['index'].unique().to_dict()\n",
    "check_errors.keys()"
   ]
  },
  {
   "cell_type": "code",
   "execution_count": null,
   "id": "e99b107d-3065-4668-a8dd-b8767cb5a54f",
   "metadata": {},
   "outputs": [],
   "source": [
    "error.data.loc[check_errors['check_diff_commition_date_permission_date_gt_year_lt_3_5_years']]"
   ]
  },
  {
   "cell_type": "code",
   "execution_count": null,
   "id": "8758673e-ae02-44bf-bc71-bcfee345272c",
   "metadata": {},
   "outputs": [],
   "source": [
    "not_nullable_dict = error.failure_cases[error.failure_cases.check == 'not_nullable'].groupby('column')['index'].unique().to_dict()"
   ]
  },
  {
   "cell_type": "code",
   "execution_count": null,
   "id": "8a53370a-51b2-45b1-b527-e152de135227",
   "metadata": {},
   "outputs": [],
   "source": [
    "common_df.loc[\n",
    "    error.failure_cases[error.failure_cases.check == 'check_diff_commition_date_permission_date_gt_year_lt_3_5_years']['index'].unique()\n",
    "]"
   ]
  },
  {
   "cell_type": "code",
   "execution_count": null,
   "id": "5e41591f-2852-439d-91be-83f93a8e4920",
   "metadata": {},
   "outputs": [],
   "source": [
    "common_df.shape"
   ]
  },
  {
   "cell_type": "code",
   "execution_count": null,
   "id": "3edf00c2-914d-41b3-ba3a-0f6f6ea8b40f",
   "metadata": {},
   "outputs": [],
   "source": [
    "for check, bad_id_list in check_errors.items():\n",
    "    print(check, len(bad_id_list))"
   ]
  },
  {
   "cell_type": "code",
   "execution_count": null,
   "id": "16f9c26e-b58c-4216-ae8a-97bb113dde31",
   "metadata": {},
   "outputs": [],
   "source": [
    "for check, bad_id_list in not_nullable_dict.items():\n",
    "    print(check, len(bad_id_list))"
   ]
  },
  {
   "cell_type": "code",
   "execution_count": null,
   "id": "883aa9fc-a787-4cbd-a964-2aca7aab4efe",
   "metadata": {},
   "outputs": [],
   "source": [
    "common_df.construction_start_date_overallEnd.isna().sum()"
   ]
  }
 ],
 "metadata": {
  "kernelspec": {
   "display_name": "Python 3 (ipykernel)",
   "language": "python",
   "name": "python3"
  },
  "language_info": {
   "codemirror_mode": {
    "name": "ipython",
    "version": 3
   },
   "file_extension": ".py",
   "mimetype": "text/x-python",
   "name": "python",
   "nbconvert_exporter": "python",
   "pygments_lexer": "ipython3",
   "version": "3.10.6"
  }
 },
 "nbformat": 4,
 "nbformat_minor": 5
}

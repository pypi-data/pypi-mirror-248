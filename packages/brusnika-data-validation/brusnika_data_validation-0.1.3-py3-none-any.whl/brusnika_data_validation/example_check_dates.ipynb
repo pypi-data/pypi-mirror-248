{
 "cells": [
  {
   "cell_type": "code",
   "execution_count": null,
   "id": "d82f653e-1d33-42d9-9ca8-849e8c6d8905",
   "metadata": {},
   "outputs": [],
   "source": [
    "import pandas as pd\n",
    "import numpy as np\n",
    "import pandera as pa\n",
    "import pandera.extensions as extensions\n",
    "from pandera.typing import DataFrame, Series, Index, DateTime\n",
    "from typing import Callable\n",
    "\n",
    "import jwt\n",
    "import requests\n",
    "import json"
   ]
  },
  {
   "cell_type": "markdown",
   "id": "09370182-97fc-47c3-90f3-6278ed170762",
   "metadata": {},
   "source": [
    "### API Processes"
   ]
  },
  {
   "cell_type": "code",
   "execution_count": null,
   "id": "36bf0226-8f2a-4284-9e63-cca163f7f7c2",
   "metadata": {},
   "outputs": [],
   "source": [
    "iss = \"\"\n",
    "aud = \"erp-core.brusnika.ru/processes\"\n",
    "key = \"\"\n",
    "\n",
    "payload = {\n",
    "    \"iss\": iss,\n",
    "    \"aud\": aud,\n",
    "}\n",
    "\n",
    "token = jwt.encode(payload,key)"
   ]
  },
  {
   "cell_type": "code",
   "execution_count": null,
   "id": "e21ce3c7-e39e-472c-9dd6-b40223328f1a",
   "metadata": {},
   "outputs": [],
   "source": [
    "tasks = {\n",
    "    \"88359fe3-4d1a-4bac-8fee-9ddd32eb9dc1\": \"permission_date\", #РС\n",
    "    \"8b1663d9-a69d-40fd-8b3e-9f51b39d66a8\": \"construction_start_date\", # НС\n",
    "    \"733fb7d0-0ec6-4223-846e-dcc0bebaaca9\": \"commition_date\", #РВ\n",
    "}"
   ]
  },
  {
   "cell_type": "code",
   "execution_count": null,
   "id": "75c622f1-797a-405d-a643-b8720f96752f",
   "metadata": {},
   "outputs": [],
   "source": [
    "url = 'https://erp-core.brusnika.ru/processes/v2/versions/1ce7fe21-956f-4627-b1aa-cbfc2d6358ba/process-statistics'\n",
    "\n",
    "request_body ={\n",
    "    \"objectFilter\": [\n",
    "        {\n",
    "            \"projections\": [],\n",
    "            \"stages\": None,\n",
    "            \"processes\": None,\n",
    "            \"tasks\": None,\n",
    "            \"contours\": None,\n",
    "            \"projects\": None,\n",
    "            \"sites\": None,\n",
    "            \"parcels\": None,\n",
    "            \"constructionObjects\": [],\n",
    "            \"objectTypes\": [\"CONSTRUCTION_OBJECT\"]\n",
    "        }\n",
    "    ],\n",
    "    \"periodFilter\": {\n",
    "        \"since\": None,\n",
    "        \"until\": None\n",
    "    },\n",
    "    \"groupBy\": \"TASK\"\n",
    "}"
   ]
  },
  {
   "cell_type": "markdown",
   "id": "db405fd3-9d67-4967-b37a-f632aa9a50fa",
   "metadata": {},
   "source": [
    "Запрашиваем каждый процесс/веху отдельно (пока оставила, как изначально было)"
   ]
  },
  {
   "cell_type": "code",
   "execution_count": null,
   "id": "88f46c95-b199-4653-9638-3ecd4fea8a8e",
   "metadata": {},
   "outputs": [],
   "source": [
    "resp_data_json = {}\n",
    "\n",
    "for task_id in tasks.keys():\n",
    "    request_body['objectFilter'][0].update({\"tasks\": [task_id]})\n",
    "    resp = requests.post(url, headers={\"authorization\":f\"Bearer {token}\"}, json=request_body)\n",
    "    resp_data_json.update({task_id: resp.json()})"
   ]
  },
  {
   "cell_type": "code",
   "execution_count": null,
   "id": "5d2249ba-7208-431a-85ef-f10a717b53ca",
   "metadata": {},
   "outputs": [],
   "source": [
    "columns = [\n",
    "    # 'overallStart', \n",
    "    'overallEnd', \n",
    "    'constructionObject', \n",
    "]"
   ]
  },
  {
   "cell_type": "markdown",
   "id": "30e44312-0fd4-4670-a885-ef8fa0704356",
   "metadata": {},
   "source": [
    "Предобработочка"
   ]
  },
  {
   "cell_type": "code",
   "execution_count": null,
   "id": "9e54c718-289f-40e0-be97-737e47064a75",
   "metadata": {},
   "outputs": [],
   "source": [
    "resp_data_sets_json = {}\n",
    "\n",
    "for task_id in resp_data_json.keys():\n",
    "    df = pd.DataFrame(resp_data_json[task_id])[columns]\n",
    "    \n",
    "    df.loc[:, 'constructionObject'] = df.constructionObject.apply(lambda x: x['id'])\n",
    "    df = df.set_index('constructionObject')\n",
    "    \n",
    "    resp_data_sets_json.update({task_id: df})"
   ]
  },
  {
   "cell_type": "markdown",
   "id": "9ef2d3d9-9982-4fcc-b8ec-37fc11cad0ad",
   "metadata": {},
   "source": [
    "Первая схема, которая была просто на наполнение данных"
   ]
  },
  {
   "cell_type": "code",
   "execution_count": null,
   "id": "f169cbe2-ed91-414a-bb1c-7728163a840b",
   "metadata": {},
   "outputs": [],
   "source": [
    "class Schema_API_process(pa.DataFrameModel):\n",
    "    # overallStart: Series[pd.Timestamp] = pa.Field(coerce=True, nullable=False)\n",
    "    overallEnd: Series[pd.Timestamp] = pa.Field(coerce=True, nullable=False)\n",
    "    constructionObject: Index[str] = pa.Field(isin=construction_objects_id_set, check_name=True, unique=True) # точно unique?\n",
    "\n",
    "    # class Config:\n",
    "    # #   этот параметр позволяет пандере удалять из сета все неподходящие под схему значения, но и ошибку для них не выдает\n",
    "    #     drop_invalid_rows=True "
   ]
  },
  {
   "cell_type": "code",
   "execution_count": null,
   "id": "a6662130-91d0-46be-a0aa-1d96aa549b3b",
   "metadata": {},
   "outputs": [],
   "source": [
    "# for task_id in resp_data_sets_json.keys():\n",
    "#     df = resp_data_sets_json[task_id]\n",
    "#     # и делаем для каждой задачи проверку на наны и корректные значения, пример ниже"
   ]
  },
  {
   "cell_type": "code",
   "execution_count": null,
   "id": "3c0ac0c8-fdcf-4052-84bb-59cb05c91782",
   "metadata": {},
   "outputs": [],
   "source": [
    "error = None\n",
    "try:\n",
    "                              # если в цикл выше засунуть, то это просто df\n",
    "    Schema_API_process.validate(resp_data_sets_json[list(tasks.keys())[0]], lazy=True)\n",
    "except pa.errors.SchemaErrors as err:\n",
    "    error = err\n",
    "    display(err.failure_cases)"
   ]
  },
  {
   "cell_type": "code",
   "execution_count": null,
   "id": "399dd126-2d79-469b-8d5c-4ba4a11e1bf6",
   "metadata": {},
   "outputs": [],
   "source": [
    "resp_data_sets_json[list(tasks.keys())[0]].head()"
   ]
  },
  {
   "cell_type": "markdown",
   "id": "ea00d843-50b6-40b0-acd6-63d5c515a631",
   "metadata": {},
   "source": [
    "Вывели ошибки по пропускам и косячным значениям\n",
    "\n",
    "**?  Надо как-то преобразовывать вывод ошибок  ?**\n",
    "\n",
    "Cобираем сет и удаляем наны"
   ]
  },
  {
   "cell_type": "code",
   "execution_count": null,
   "id": "38e9f5e3-8cce-49f3-932e-0d7dc5470719",
   "metadata": {},
   "outputs": [],
   "source": [
    "date_cols = []\n",
    "\n",
    "for task_id in resp_data_sets_json.keys():\n",
    "    df = resp_data_sets_json[task_id]\n",
    "    date_col = pd.to_datetime(df.overallEnd, errors='coerce')\n",
    "    date_col.name = tasks[task_id]\n",
    "    date_cols.append(date_col)"
   ]
  },
  {
   "cell_type": "code",
   "execution_count": null,
   "id": "8be96bcf-388b-4c10-b9d8-df8abbf1aafe",
   "metadata": {
    "scrolled": true
   },
   "outputs": [],
   "source": [
    "combine_df = pd.concat(date_cols, axis=1)\n",
    "combine_df"
   ]
  },
  {
   "cell_type": "code",
   "execution_count": null,
   "id": "ce7bf3da-eadd-46bc-9877-d0369a80aed7",
   "metadata": {
    "scrolled": true
   },
   "outputs": [],
   "source": [
    "combine_df.columns"
   ]
  },
  {
   "cell_type": "markdown",
   "id": "3923e092-85c8-4c2d-a3d2-8533795f405c",
   "metadata": {},
   "source": [
    "Общий метод сравнения для двух дат"
   ]
  },
  {
   "cell_type": "code",
   "execution_count": null,
   "id": "fd065d03-cff7-4748-8c94-6da03387e23f",
   "metadata": {},
   "outputs": [],
   "source": [
    "def compare_two_dates(first_date: pd.Series, second_date: pd.Series, compare_func: Callable=pd.Series.gt, threshold: int=0, exclude_na: bool=True) -> pd.Series:\n",
    "    \"\"\"Сompares two series of dates by finding the difference between them, \n",
    "    and the difference with a threshold value.\n",
    "\n",
    "    compare_func: pd.Series.gt, pd.Series.ge, pd.Series.lt or pd.Series.le\n",
    "    threshold: treshold value in days\n",
    "    \"\"\"\n",
    "    diff = second_date - first_date\n",
    "    result = compare_func(diff, pd.Timedelta(days=threshold))\n",
    "    if exclude_na:\n",
    "        na_indexes = (first_date.isna() | second_date.isna())\n",
    "        # return result[not_na_indexes]\n",
    "        return result | na_indexes\n",
    "    return result"
   ]
  },
  {
   "cell_type": "code",
   "execution_count": null,
   "id": "1bfd95f0-33b8-485f-9b7e-3c5a6eba9e15",
   "metadata": {},
   "outputs": [],
   "source": [
    "# compare_two_dates(combine_df['permission_date'], combine_df['construction_start_date'], pd.Series.ge)"
   ]
  },
  {
   "cell_type": "code",
   "execution_count": null,
   "id": "c7d3c71c-714b-4559-a44f-b06eb9a8b5c7",
   "metadata": {},
   "outputs": [],
   "source": [
    "@extensions.register_check_method()\n",
    "def check_permission_date_less_construction_start_date(df):\n",
    "    return compare_two_dates(df['permission_date'], df['construction_start_date'], pd.Series.ge, threshold=0, exclude_na=True)\n",
    "\n",
    "@extensions.register_check_method()\n",
    "def check_construction_start_date_less_commition_date(df):\n",
    "    return compare_two_dates(df['construction_start_date'], df['commition_date'], pd.Series.ge, threshold=0, exclude_na=True)\n",
    "\n",
    "@extensions.register_check_method()\n",
    "def check_diff_construction_start_date_commition_date_ge_year(df):\n",
    "    previous_check_result = check_construction_start_date_less_commition_date(df)\n",
    "    return ~previous_check_result | compare_two_dates(df['construction_start_date'], df['commition_date'], pd.Series.ge, threshold=365, exclude_na=True)\n",
    "\n",
    "@extensions.register_check_method()\n",
    "def check_diff_permission_date_commition_date_ge_year(df):\n",
    "    return compare_two_dates(df['permission_date'], df['commition_date'], pd.Series.ge, threshold=365, exclude_na=True)\n",
    "\n",
    "@extensions.register_check_method()\n",
    "def check_diff_permission_date_commition_date_lt_3_5_year(df):\n",
    "    return compare_two_dates(df['permission_date'], df['commition_date'], pd.Series.lt, threshold=1279, exclude_na=True) #min 1277.5 max 1278.5"
   ]
  },
  {
   "cell_type": "markdown",
   "id": "4b2339cf-3281-4d0f-8446-5ebe4b0546fa",
   "metadata": {},
   "source": [
    "Вторая схема, объединяет проверку на пустые значения и корректные типы + сравнение дат"
   ]
  },
  {
   "cell_type": "code",
   "execution_count": null,
   "id": "2bb9c9de-4e0e-4eef-bc6a-5ad945de4f35",
   "metadata": {},
   "outputs": [],
   "source": [
    "class Schema_process_PC_HC_PB(pa.DataFrameModel):\n",
    "    permission_date: Series[DateTime] = pa.Field(coerce=True, nullable=False)\n",
    "    construction_start_date: Series[DateTime] = pa.Field(coerce=True, nullable=False)\n",
    "    commition_date: Series[DateTime] = pa.Field(coerce=True, nullable=False)\n",
    "    constructionObject: Index[str] = pa.Field(isin=construction_objects_id_set, check_name=True, unique=True)\n",
    "\n",
    "    class Config:\n",
    "        check_permission_date_less_construction_start_date = ()\n",
    "        check_construction_start_date_less_commition_date = ()\n",
    "        check_diff_construction_start_date_commition_date_ge_year = ()\n",
    "        check_diff_permission_date_commition_date_ge_year = ()\n",
    "        check_diff_permission_date_commition_date_lt_3_5_year = ()"
   ]
  },
  {
   "cell_type": "code",
   "execution_count": null,
   "id": "e2d857be-2f23-4a24-bffd-5afa1e12ccf9",
   "metadata": {},
   "outputs": [],
   "source": [
    "combine_df.iloc[:4]"
   ]
  },
  {
   "cell_type": "code",
   "execution_count": null,
   "id": "211ff2e3-18f6-4a68-9c75-9b6ec07fe09d",
   "metadata": {},
   "outputs": [],
   "source": [
    "error = None\n",
    "try:\n",
    "    Schema_process_PC_HC_PB.validate(combine_df, lazy=True)\n",
    "except pa.errors.SchemaErrors as err:\n",
    "    error = err\n",
    "    display(err.failure_cases)"
   ]
  },
  {
   "cell_type": "markdown",
   "id": "90c309a3-cbcb-4e33-898c-0c6a3add68d9",
   "metadata": {},
   "source": [
    "тут можно посмотреть данные по конкретной ошибке, если заменить название функции"
   ]
  },
  {
   "cell_type": "code",
   "execution_count": null,
   "id": "1122a0e2-8fff-4b47-aa0d-ea01fbc943d1",
   "metadata": {},
   "outputs": [],
   "source": [
    "combine_df.loc[error.failure_cases[error.failure_cases.check == 'check_diff_permission_date_commition_date_lt_3_5_year']['index'].unique()]"
   ]
  },
  {
   "cell_type": "code",
   "execution_count": null,
   "id": "05b1fc7b-be17-4cf8-9407-82ed6e817739",
   "metadata": {},
   "outputs": [],
   "source": [
    "print(error)"
   ]
  },
  {
   "cell_type": "markdown",
   "id": "5903946a-5868-44f4-932e-d3067107f944",
   "metadata": {},
   "source": [
    "### API Indicators (показательная система)"
   ]
  },
  {
   "cell_type": "code",
   "execution_count": null,
   "id": "ba85dca7-802a-4d12-9571-bbc3d1cf5bb6",
   "metadata": {},
   "outputs": [],
   "source": [
    "iss = \"\"\n",
    "aud = \"erp-core.brusnika.ru/indicators\"\n",
    "key = \"\"\n",
    "\n",
    "payload = {\n",
    "    \"iss\": iss,\n",
    "    \"aud\": aud,\n",
    "}\n",
    "\n",
    "token_indicators = jwt.encode(payload,key)"
   ]
  },
  {
   "cell_type": "code",
   "execution_count": null,
   "id": "df195a31-848b-4c7b-bcc6-76b94692e592",
   "metadata": {},
   "outputs": [],
   "source": [
    "process_version = \"4713f87f-598f-43ec-866b-3a52111b0d92\""
   ]
  },
  {
   "cell_type": "code",
   "execution_count": null,
   "id": "622b02d0-d362-4203-8544-6759e5409879",
   "metadata": {},
   "outputs": [],
   "source": [
    "url = f'https://erp-core.brusnika.ru/indicators/api/v2/versions/{process_version}/indicator-values'\n",
    "request_body = [{\n",
    "    # \"requestId\": \"string\",\n",
    "    \"requestId\": \"\",\n",
    "    \"indicators\": [\n",
    "        \"po.production.total\"\n",
    "    ],\n",
    "    \"timeSlice\": {\n",
    "        \"groupBy\": \"MONTH\",\n",
    "        \"filter\": {}\n",
    "    },\n",
    "    \"objectSlice\": {\n",
    "        \"groupBy\": [\n",
    "            \"constructionObjectId\",\n",
    "            \"itemTreeId\"\n",
    "        ],\n",
    "        \"filter\": [\n",
    "        {\n",
    "            \"constructionObjectId\": [],\n",
    "            \"siteId\": [],\n",
    "            \"projectId\": [],\n",
    "            \"contourId\": [],\n",
    "            \"premisesType\": [],\n",
    "            \"fundsSourceType\": [],\n",
    "            \"grade\": [],\n",
    "            \"itemTreeId\": [\n",
    "                \"76630097-e1b1-4787-b509-36e4a13c1490\",\n",
    "                \"9f90fee4-22b0-4c75-b298-03b9af46a679\",\n",
    "                \n",
    "                \"4734c36c-9c27-44bc-82a1-1265267b0737\",\n",
    "                \"05cacdf3-9de7-4bae-8916-59be9ef6c3c2\",\n",
    "                \"ce719b53-3bf5-4c30-b8e5-7a1c8feaa4cb\",\n",
    "                \"17d417b9-f6f1-44c2-b554-830e7a903274\",\n",
    "                \"d3034170-b66f-4914-a2fd-e2cbc986038b\",\n",
    "                \"e3bbb51d-07a1-44a0-a628-a1504f87ffe9\",\n",
    "            ]\n",
    "        }\n",
    "      ]\n",
    "    }\n",
    "    }\n",
    "]\n",
    "\n",
    "resp_result = requests.post(url, headers={\"authorization\":f\"Bearer {token_indicators}\"}, json=request_body)\n",
    "resp_result"
   ]
  },
  {
   "cell_type": "code",
   "execution_count": null,
   "id": "d2e29e9e-0e6e-41d7-9010-97f26cd95335",
   "metadata": {
    "scrolled": true
   },
   "outputs": [],
   "source": [
    "resp_cost = resp_result.json()"
   ]
  },
  {
   "cell_type": "code",
   "execution_count": null,
   "id": "e77ced16-76ba-4120-81fa-4ef9524af6f3",
   "metadata": {},
   "outputs": [],
   "source": [
    "resp_cost_df = pd.DataFrame(resp_cost[0]['slices'])\n",
    "resp_cost_df.yearMonth = pd.to_datetime(resp_cost_df.yearMonth)\n",
    "resp_cost_df = resp_cost_df.sort_values(by=['constructionObjectId', 'yearMonth'])"
   ]
  },
  {
   "cell_type": "code",
   "execution_count": null,
   "id": "a78dcf2d-e59f-4f44-bc61-507d360868ac",
   "metadata": {},
   "outputs": [],
   "source": [
    "resp_cost_df = resp_cost_df.groupby('constructionObjectId').first()"
   ]
  },
  {
   "cell_type": "code",
   "execution_count": null,
   "id": "514e8971-5958-4865-abaf-a58fe4f39d9c",
   "metadata": {},
   "outputs": [],
   "source": [
    "resp_cost_df.yearMonth.min(), resp_cost_df.yearMonth.max()"
   ]
  },
  {
   "cell_type": "code",
   "execution_count": null,
   "id": "3f942507-8b55-4368-a7de-82d6cdabc8cd",
   "metadata": {},
   "outputs": [],
   "source": [
    "resp_cost_df.shape"
   ]
  },
  {
   "cell_type": "code",
   "execution_count": null,
   "id": "707a9093-62df-4ac2-bb80-5bdeb16467a5",
   "metadata": {
    "scrolled": true
   },
   "outputs": [],
   "source": [
    "len(combine_df.index)"
   ]
  },
  {
   "cell_type": "markdown",
   "id": "7f5038b1-7ea0-469d-b54c-f61f1511fd9b",
   "metadata": {},
   "source": [
    "### API Parameters"
   ]
  },
  {
   "cell_type": "code",
   "execution_count": null,
   "id": "b7a043c0-60b1-4030-a2af-6880e32f274d",
   "metadata": {},
   "outputs": [],
   "source": [
    "iss = \"\"\n",
    "aud = \"erp-core.brusnika.ru/parameters\"\n",
    "key = \"\"\n",
    "\n",
    "payload = {\n",
    "    \"iss\": iss,\n",
    "    \"aud\": aud,\n",
    "}\n",
    "\n",
    "token_params = jwt.encode(payload,key)"
   ]
  },
  {
   "cell_type": "code",
   "execution_count": null,
   "id": "3f9a862f-4330-4e0f-a626-7ebe5985035b",
   "metadata": {},
   "outputs": [],
   "source": [
    "url = 'https://erp-core.brusnika.ru/parameters/v1/versions/1ce7fe21-956f-4627-b1aa-cbfc2d6358ba/construction-objects'\n",
    "resp_co = requests.get(url, headers={\"authorization\":f\"Bearer {token_params}\"})\n",
    "resp_co"
   ]
  },
  {
   "cell_type": "code",
   "execution_count": null,
   "id": "0a496f19-d0b7-4d4f-819f-00d183c03d79",
   "metadata": {},
   "outputs": [],
   "source": [
    "co_df = pd.DataFrame(resp_co.json()).set_index('id')"
   ]
  }
 ],
 "metadata": {
  "kernelspec": {
   "display_name": "Python 3 (ipykernel)",
   "language": "python",
   "name": "python3"
  },
  "language_info": {
   "codemirror_mode": {
    "name": "ipython",
    "version": 3
   },
   "file_extension": ".py",
   "mimetype": "text/x-python",
   "name": "python",
   "nbconvert_exporter": "python",
   "pygments_lexer": "ipython3",
   "version": "3.10.6"
  }
 },
 "nbformat": 4,
 "nbformat_minor": 5
}

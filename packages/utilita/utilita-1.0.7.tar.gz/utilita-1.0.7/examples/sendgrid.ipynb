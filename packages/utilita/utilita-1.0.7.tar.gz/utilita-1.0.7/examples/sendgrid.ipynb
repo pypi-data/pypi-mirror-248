{
 "cells": [
  {
   "cell_type": "code",
   "execution_count": null,
   "metadata": {},
   "outputs": [],
   "source": [
    "import os\n",
    "import datetime\n",
    "from utilita import sendgridhelper as sghelper\n",
    "\n",
    "eml = sghelper.SendgridHelper(\n",
    "    sendgrid_api_key=os.getenv('sendgrid_key'), \n",
    "    from_email={\"email\": 'test@example.com', \"name\": \"Test BI\"}\n",
    "    )"
   ]
  },
  {
   "cell_type": "code",
   "execution_count": null,
   "metadata": {},
   "outputs": [],
   "source": [
    "email_subject = f'Testing email from Test BI sent on {int(datetime.datetime.now().timestamp())}'\n",
    "email_body = '''\n",
    "    <html>\n",
    "    <head>\n",
    "        <style type=\"text/css\">\n",
    "            .df {\n",
    "                border-collapse: collapse;\n",
    "                font-family: Tahoma;\n",
    "            }\n",
    "            .df th {\n",
    "                background: #000000;\n",
    "                color: #ffffff;\n",
    "                text-align:center;\n",
    "                font-size: 14px;\n",
    "            }\n",
    "            .df td {\n",
    "                font-size: 13px;\n",
    "            }\n",
    "            .df th, td {\n",
    "                padding:5px;\n",
    "            }\n",
    "            body {\n",
    "                font-family: Tahoma;\n",
    "                font-size: 14px;\n",
    "            }\n",
    "        </style>\n",
    "    </head>\n",
    "    <body>\n",
    "    Hello, <br />\n",
    "    This is a test email<br />\n",
    "    <i>Derp</i>\n",
    "    <br><br>\n",
    "    Thank you,<br>\n",
    "    Test BI\n",
    "    </body>  \n",
    "'''\n",
    "\n",
    "eml.config_email(subject=email_subject,\n",
    "                 body=email_body,\n",
    "                 recipients={\n",
    "                     \"to\": \"tommy.rojo@eataly.com, rojoateataly@gmail.com\",\n",
    "                    #  \"cc\": \"test@example.com\",\n",
    "                    #  \"bcc\": \"bcc@exampl.com\"\n",
    "                 }\n",
    "                 )\n",
    "\n",
    "# Attach excel files from disk:\n",
    "eml.attach_excel_file_from_path('files/1.xlsx')\n",
    "eml.attach_excel_file_from_path('files/2.xlsx')\n",
    "\n",
    "# attach dataframe as a csv file.\n",
    "import pandas as pd\n",
    "\n",
    "headers = ['date', 'department', 'sales']\n",
    "data = [\n",
    "    ('2023-12-20', 'Bread', 100),\n",
    "    ('2023-12-20', 'Deli', 1),\n",
    "    ('2023-12-20', 'Frozen', 400)\n",
    "]\n",
    "df = pd.DataFrame(columns=headers, data=data)\n",
    "# compressed will compress to a zip file.\n",
    "eml.attach_single_df_as_csv(df=df, df_filename='sales.csv', compressed=True)"
   ]
  },
  {
   "cell_type": "code",
   "execution_count": null,
   "metadata": {},
   "outputs": [],
   "source": [
    "eml.send_email()"
   ]
  }
 ],
 "metadata": {
  "kernelspec": {
   "display_name": "bi-etl",
   "language": "python",
   "name": "python3"
  },
  "language_info": {
   "codemirror_mode": {
    "name": "ipython",
    "version": 3
   },
   "file_extension": ".py",
   "mimetype": "text/x-python",
   "name": "python",
   "nbconvert_exporter": "python",
   "pygments_lexer": "ipython3",
   "version": "3.9.18"
  }
 },
 "nbformat": 4,
 "nbformat_minor": 2
}

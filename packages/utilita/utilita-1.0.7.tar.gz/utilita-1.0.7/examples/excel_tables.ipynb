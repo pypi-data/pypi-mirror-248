{
 "cells": [
  {
   "cell_type": "code",
   "execution_count": 2,
   "metadata": {},
   "outputs": [],
   "source": [
    "from utilita import excel\n",
    "import pandas as pd\n",
    "import openpyxl as xl"
   ]
  },
  {
   "cell_type": "code",
   "execution_count": 5,
   "metadata": {},
   "outputs": [],
   "source": [
    "wb = xl.load_workbook(filename='files/tables.xlsx')\n"
   ]
  },
  {
   "cell_type": "code",
   "execution_count": null,
   "metadata": {},
   "outputs": [],
   "source": [
    "# Read table into dataframe\n",
    "df = excel.excel_table_to_df(wb=wb, sheet_name='Sheet1', table_name='Table2')"
   ]
  },
  {
   "cell_type": "code",
   "execution_count": null,
   "metadata": {},
   "outputs": [],
   "source": [
    "# Export table into excel workbook\n",
    "headers = ['date', 'department', 'sales']\n",
    "data = [\n",
    "    ('2023-12-20', 'Bread', 100),\n",
    "    ('2023-12-20', 'Deli', 1),\n",
    "    ('2023-12-20', 'Frozen', 400)\n",
    "]\n",
    "df = pd.DataFrame(columns=headers, data=data)\n",
    "\n",
    "excel.df_to_excel_table_resize(df=df, wb=wb, sheet_name='Sheet1', table_name='Table2')"
   ]
  },
  {
   "cell_type": "code",
   "execution_count": null,
   "metadata": {},
   "outputs": [],
   "source": [
    "wb.save()"
   ]
  }
 ],
 "metadata": {
  "kernelspec": {
   "display_name": "bi-etl",
   "language": "python",
   "name": "python3"
  },
  "language_info": {
   "codemirror_mode": {
    "name": "ipython",
    "version": 3
   },
   "file_extension": ".py",
   "mimetype": "text/x-python",
   "name": "python",
   "nbconvert_exporter": "python",
   "pygments_lexer": "ipython3",
   "version": "3.9.18"
  }
 },
 "nbformat": 4,
 "nbformat_minor": 2
}

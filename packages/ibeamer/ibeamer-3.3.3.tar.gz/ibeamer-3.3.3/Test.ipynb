{
 "cells": [
  {
   "cell_type": "markdown",
   "id": "2264f61e-2ccf-4146-b1bf-1a5e75e3801f",
   "metadata": {},
   "source": [
    "<div class=\"beamer-theorem\">\n",
    "    <p>This is an ibeamer theorem</p>\n",
    "</div>"
   ]
  },
  {
   "cell_type": "code",
   "execution_count": null,
   "id": "f14b32a0-a62b-4db2-8442-dc39ef7b3f62",
   "metadata": {},
   "outputs": [],
   "source": []
  }
 ],
 "metadata": {
  "kernelspec": {
   "display_name": "Python 3 (ipykernel)",
   "language": "python",
   "name": "python3"
  },
  "language_info": {
   "codemirror_mode": {
    "name": "ipython",
    "version": 3
   },
   "file_extension": ".py",
   "mimetype": "text/x-python",
   "name": "python",
   "nbconvert_exporter": "python",
   "pygments_lexer": "ipython3",
   "version": "3.10.12"
  }
 },
 "nbformat": 4,
 "nbformat_minor": 5
}
